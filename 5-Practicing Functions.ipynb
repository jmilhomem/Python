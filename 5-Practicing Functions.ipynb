{
 "cells": [
  {
   "cell_type": "markdown",
   "metadata": {},
   "source": [
    "## Case of study:\n",
    "Create a registration system for movies.\n",
    "\n",
    "It will allow the user:\n",
    "- Find movies by name, director, year, main actor/actress or list all movies\n",
    "- Add new movies'register\n",
    "- Quit of the program\n",
    "- The data is being stored into a json file"
   ]
  },
  {
   "cell_type": "markdown",
   "metadata": {},
   "source": [
    "<b>Main function defined to call other functions, considering the arguments passed by the user:</b>"
   ]
  },
  {
   "cell_type": "code",
   "execution_count": 1,
   "metadata": {},
   "outputs": [],
   "source": [
    "import json\n",
    "import pandas as pd\n",
    "\n",
    "\n",
    "#main function used to call all functionalities considering the argument passed by the user\n",
    "def start_process():\n",
    "    user_action = input(\"\\nEnter the action that you would like to do:\\n Enter 'a' to add a movie \\n Enter 'f' to find a movie \\n Enter 'q' to quit: \").lower();\n",
    "\n",
    "    if user_action == 'a':\n",
    "\n",
    "        check_addition = add_movie()\n",
    "        if check_addition:\n",
    "            print(\"The movie(s) was(were) inserted as expected!\")\n",
    "        start_process()\n",
    "\n",
    "    elif user_action == 'f':\n",
    "\n",
    "        type_reasearch = input(\"\\nEnter how do you want to do the research: \\n Enter 'm' to find by movie name \\n Enter 'd' to find by director name \\n Enter 'y' to find by movie year \\n Enter 'a' to find by main actor/actress \\n Enter '*' to list all movies: \")\n",
    "        filter_detail = input(\"\\nEnter the filter detail (name of movie, name of director, year movie, main actor/actress or * : \")\n",
    "        result_research = find_movie(type_reasearch, filter_detail)\n",
    "\n",
    "        if len(result_research) > 0:\n",
    "\n",
    "            print(\"\\n\")\n",
    "            print(result_research)\n",
    "            start_process()\n",
    "\n",
    "        else:\n",
    "            print(\"0 Result. There's no movie registered!\")\n",
    "            start_process()\n",
    "\n",
    "    elif user_action == 'q':\n",
    "        print(\"\\nGood bye!\")\n",
    "        exit()\n",
    "\n",
    "    else:\n",
    "        start_process()"
   ]
  },
  {
   "cell_type": "markdown",
   "metadata": {},
   "source": [
    "<b>Function created to upload the json file to memory:</b>"
   ]
  },
  {
   "cell_type": "code",
   "execution_count": 2,
   "metadata": {},
   "outputs": [],
   "source": [
    "\n",
    "# Function created to upload the json file to memory\n",
    "def upload_json_file(name_file):\n",
    "\n",
    "    # reading each row of the json file and appending it to a list\n",
    "    json_data = []\n",
    "    with open(name_file, encoding=\"utf-8\") as file_json:\n",
    "        for row in file_json:\n",
    "            json_data.append(json.loads(row))\n",
    "\n",
    "    return json_data"
   ]
  },
  {
   "cell_type": "markdown",
   "metadata": {},
   "source": [
    "<b>Function created to add new registers of movies on the json file:</b>"
   ]
  },
  {
   "cell_type": "code",
   "execution_count": 3,
   "metadata": {},
   "outputs": [],
   "source": [
    "# Function created to add new registers of movies on the json file\n",
    "def add_movie():\n",
    "    name_file = \"files/Movies.json\"\n",
    "    add_other_movie = \"yes\"\n",
    "\n",
    "    while add_other_movie == \"yes\":\n",
    "        #request each information of the new movies and store them on variables\n",
    "        movie_name = input(\"\\nMovie Name: \")\n",
    "        director_name = input(\"Director Name: \")\n",
    "        movie_year = int(input(\"Year of the production: \"))\n",
    "        name_main_actor_actress = input(\"Main actor / Actress: \")\n",
    "\n",
    "        #create a dictionary variable that will be used to store new movies\n",
    "        new_movie = {\"movie_name\":movie_name, \"director_name\":director_name, \"movie_year\":movie_year, \"name_main_actor_actress\":name_main_actor_actress}\n",
    "\n",
    "        #open the file and add new movies inside it with open('name_file, 'w') as outfile: json.dump(data, outfile)\n",
    "        file = open(name_file, \"a\")\n",
    "        file.write(json.dumps(new_movie) + \"\\n\")\n",
    "        file.close()\n",
    "\n",
    "        #check if other movie will be inserted by user\n",
    "        add_other_movie = input(\"\\nDo you want insert other movie (yes/no): \").lower()\n",
    "\n",
    "        if add_other_movie == \"no\":\n",
    "            return True"
   ]
  },
  {
   "cell_type": "markdown",
   "metadata": {},
   "source": [
    "<b>Function created to find movies on the json file considering the parameter passed by user</b>"
   ]
  },
  {
   "cell_type": "code",
   "execution_count": 4,
   "metadata": {},
   "outputs": [],
   "source": [
    "\n",
    "#Function created to find movies on the json file considering the parameter passed by user\n",
    "def find_movie(type_reasearch, filter_detail):\n",
    "\n",
    "    #name of json file with all Movies created\n",
    "    name_file = \"files/Movies.json\"\n",
    "\n",
    "    #import the file\n",
    "    file = upload_json_file(name_file)\n",
    "\n",
    "    #define the lists that will receive the lists of information\n",
    "    list_movies = []\n",
    "    list_director = []\n",
    "    list_year = []\n",
    "    list_main = []\n",
    "\n",
    "    #loop that will read each row and create the list to create the dictionary and finally the dataframe\n",
    "    for row in file:\n",
    "\n",
    "        # if m (movie_name), then create the lists with information about this row\n",
    "        if type_reasearch.lower() == \"m\":\n",
    "            if row[\"movie_name\"].lower() == filter_detail.lower():\n",
    "                list_movies.append(row[\"movie_name\"])\n",
    "                list_director.append(row[\"director_name\"])\n",
    "                list_year.append(row[\"movie_year\"])\n",
    "                list_main.append(row[\"name_main_actor_actress\"])\n",
    "\n",
    "        # if d (director), then create the lists with information about this row\n",
    "        elif type_reasearch.lower() == \"d\":\n",
    "            if row[\"director_name\"].lower() == filter_detail.lower():\n",
    "                list_movies.append(row[\"movie_name\"])\n",
    "                list_director.append(row[\"director_name\"])\n",
    "                list_year.append(row[\"movie_year\"])\n",
    "                list_main.append(row[\"name_main_actor_actress\"])\n",
    "\n",
    "\n",
    "        # if y (movie_year), then create the lists with information about this row\n",
    "        elif type_reasearch.lower() == \"y\":\n",
    "            if int(row[\"movie_year\"]) == int(filter_detail):\n",
    "                list_movies.append(row[\"movie_name\"])\n",
    "                list_director.append(row[\"director_name\"])\n",
    "                list_year.append(row[\"movie_year\"])\n",
    "                list_main.append(row[\"name_main_actor_actress\"])\n",
    "\n",
    "        # if a (main_actor_actress), then create the lists with information about this row\n",
    "        elif type_reasearch.lower() == \"a\":\n",
    "            if row[\"name_main_actor_actress\"].lower() == filter_detail.lower():\n",
    "                list_movies.append(row[\"movie_name\"])\n",
    "                list_director.append(row[\"director_name\"])\n",
    "                list_year.append(row[\"movie_year\"])\n",
    "                list_main.append(row[\"name_main_actor_actress\"])\n",
    "\n",
    "        # else create the lists with information about everything\n",
    "        else:\n",
    "            list_movies.append(row[\"movie_name\"])\n",
    "            list_director.append(row[\"director_name\"])\n",
    "            list_year.append(row[\"movie_year\"])\n",
    "            list_main.append(row[\"name_main_actor_actress\"])\n",
    "\n",
    "    #create the dictionary containing the filter aplied\n",
    "    dict_movies_filter = {\n",
    "        \"movie_name\":list_movies,\n",
    "        \"director_name\":list_director,\n",
    "        \"year\":list_year,\n",
    "        \"main_actor\":list_main\n",
    "    }\n",
    "\n",
    "    #create the dataframe with the dictionary values\n",
    "    df_movies = pd.DataFrame(dict_movies_filter)\n",
    "\n",
    "    #return the dataframe with the movies filtered\n",
    "    return df_movies"
   ]
  },
  {
   "cell_type": "markdown",
   "metadata": {},
   "source": [
    "<b>Calling the main function to use the program</b>"
   ]
  },
  {
   "cell_type": "code",
   "execution_count": 5,
   "metadata": {},
   "outputs": [
    {
     "name": "stdout",
     "output_type": "stream",
     "text": [
      "\n",
      "Enter the action that you would like to do:\n",
      " Enter 'a' to add a movie \n",
      " Enter 'f' to find a movie \n",
      " Enter 'q' to quit: a\n",
      "\n",
      "Movie Name: Blabla\n",
      "Director Name: Diretor Bugiganga\n",
      "Year of the production: 2012\n",
      "Main actor / Actress: Ricardoviski\n",
      "\n",
      "Do you want insert other movie (yes/no): no\n",
      "The movie(s) was(were) inserted as expected!\n",
      "\n",
      "Enter the action that you would like to do:\n",
      " Enter 'a' to add a movie \n",
      " Enter 'f' to find a movie \n",
      " Enter 'q' to quit: f\n",
      "\n",
      "Enter how do you want to do the research: \n",
      " Enter 'm' to find by movie name \n",
      " Enter 'd' to find by director name \n",
      " Enter 'y' to find by movie year \n",
      " Enter 'a' to find by main actor/actress \n",
      " Enter '*' to list all movies: a\n",
      "\n",
      "Enter the filter detail (name of movie, name of director, year movie, main actor/actress or * : Ricardoviski\n",
      "\n",
      "\n",
      "  movie_name      director_name  year    main_actor\n",
      "0     Blabla  Diretor Bugiganga  2012  Ricardoviski\n",
      "\n",
      "Enter the action that you would like to do:\n",
      " Enter 'a' to add a movie \n",
      " Enter 'f' to find a movie \n",
      " Enter 'q' to quit: f\n",
      "\n",
      "Enter how do you want to do the research: \n",
      " Enter 'm' to find by movie name \n",
      " Enter 'd' to find by director name \n",
      " Enter 'y' to find by movie year \n",
      " Enter 'a' to find by main actor/actress \n",
      " Enter '*' to list all movies: *\n",
      "\n",
      "Enter the filter detail (name of movie, name of director, year movie, main actor/actress or * : *\n",
      "\n",
      "\n",
      "               movie_name      director_name  year         main_actor\n",
      "0         Amor I love you              Monte  2002        Maria Monte\n",
      "1       Amor alem da vida                Bob  2010    Robert Williams\n",
      "2          Amor e amizade                Bob  2010    Robert Williams\n",
      "3  A culpa e das estrelas           Juanzito  2015              Sosia\n",
      "4                  Matrix            Ricardo  1999                Nil\n",
      "5               Star Wars       George Lucas  1970      Carrie Fisher\n",
      "6            Harry Potter     Chris Columbus  2001   Daniel Radcliffe\n",
      "7                 Titanic      James Cameron  1998  Leonardo DiCaprio\n",
      "8                  Blabla  Diretor Bugiganga  2012       Ricardoviski\n",
      "\n",
      "Enter the action that you would like to do:\n",
      " Enter 'a' to add a movie \n",
      " Enter 'f' to find a movie \n",
      " Enter 'q' to quit: q\n",
      "\n",
      "Good bye!\n"
     ]
    }
   ],
   "source": [
    "#Call the main function\n",
    "start_process()"
   ]
  },
  {
   "cell_type": "markdown",
   "metadata": {},
   "source": [
    "### <a href=https://www.linkedin.com/in/jmilhomem/>br.linkedin.com/in/jmilhomem</a> ###"
   ]
  }
 ],
 "metadata": {
  "kernelspec": {
   "display_name": "Python 3",
   "language": "python",
   "name": "python3"
  },
  "language_info": {
   "codemirror_mode": {
    "name": "ipython",
    "version": 3
   },
   "file_extension": ".py",
   "mimetype": "text/x-python",
   "name": "python",
   "nbconvert_exporter": "python",
   "pygments_lexer": "ipython3",
   "version": "3.7.0"
  }
 },
 "nbformat": 4,
 "nbformat_minor": 2
}
