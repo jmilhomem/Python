{
 "cells": [
  {
   "cell_type": "markdown",
   "metadata": {},
   "source": [
    "\n",
    "The scripts and notes below were developed/written based on exercises of [Teclado Code](http://blog.tecladocode.com/)\n"
   ]
  },
  {
   "cell_type": "markdown",
   "metadata": {},
   "source": [
    "# Mutability and Imutability"
   ]
  },
  {
   "cell_type": "markdown",
   "metadata": {},
   "source": [
    "Python allow us to get the id of objects, which is the address of the object in memory (RAM) - it is the first cell of a group of cells that stores data in memory.\n",
    "Even if some variable is set with the same value in different moments, each id will be different, because they will be created in different moments and stored in memory.\n",
    "\n",
    "Imutable data:\n",
    "- Integers\n",
    "- Strings\n",
    "- Tuples\n",
    "- Floats"
   ]
  },
  {
   "cell_type": "code",
   "execution_count": 1,
   "metadata": {},
   "outputs": [
    {
     "name": "stdout",
     "output_type": "stream",
     "text": [
      "140390547030472\n"
     ]
    }
   ],
   "source": [
    "list_data = [1, 2, 3, 4, 5]\n",
    "print(id(list_data))"
   ]
  },
  {
   "cell_type": "code",
   "execution_count": 2,
   "metadata": {},
   "outputs": [
    {
     "name": "stdout",
     "output_type": "stream",
     "text": [
      "140390547030728\n"
     ]
    }
   ],
   "source": [
    "list_data = [1, 2, 3, 4, 5]\n",
    "print(id(list_data))"
   ]
  },
  {
   "cell_type": "markdown",
   "metadata": {},
   "source": [
    "However, we can update the object and in case the object has the same value, the id will be the most recent created:"
   ]
  },
  {
   "cell_type": "code",
   "execution_count": 3,
   "metadata": {},
   "outputs": [
    {
     "name": "stdout",
     "output_type": "stream",
     "text": [
      "[1, 2, 3, 4, 5, 6]\n"
     ]
    }
   ],
   "source": [
    "list_data.append(6)\n",
    "\n",
    "print(list_data)"
   ]
  },
  {
   "cell_type": "markdown",
   "metadata": {},
   "source": [
    "When a mutable object is changed, it is running the method listed below:  \n",
    "object.__setitem__(self, variable)  \n",
    "\n",
    "\n",
    "When an imutable object is changed, it is running the method listed below:  \n",
    "object.__add__(self, 1)  \n",
    "return self.value + 1"
   ]
  },
  {
   "cell_type": "markdown",
   "metadata": {},
   "source": [
    "<b>Notes:</b>\n",
    "<br>\n",
    "It is not recommended to define default values for objects that are mutable to functions, methods and/or classes, because they are defined when the function/method is created.  \n",
    "Example: create a function with a list defined. It will store/append data each execution that a parameter is passed.\n",
    "- In a function example, instead defining a default value, it should be set as NONE with a treatment inside the code to consider the result of the paramater when it is null (was not passed by the user) or not (was passed by the user)."
   ]
  },
  {
   "cell_type": "markdown",
   "metadata": {},
   "source": [
    "# Argument unpacking"
   ]
  },
  {
   "cell_type": "code",
   "execution_count": 5,
   "metadata": {},
   "outputs": [
    {
     "name": "stdout",
     "output_type": "stream",
     "text": [
      "1 a\n",
      "2 b\n",
      "3 c\n"
     ]
    }
   ],
   "source": [
    "list_data = [(1, 'a'), (2, 'b'), (3, 'c')]\n",
    "\n",
    "for x in list_data:\n",
    "  print(x[0], x[1])"
   ]
  },
  {
   "cell_type": "markdown",
   "metadata": {},
   "source": [
    "In this second script we are unpacking the interables into arguments and printing that. The * is going to consider all parameters from x."
   ]
  },
  {
   "cell_type": "code",
   "execution_count": 6,
   "metadata": {},
   "outputs": [
    {
     "name": "stdout",
     "output_type": "stream",
     "text": [
      "1 a\n",
      "2 b\n",
      "3 c\n"
     ]
    }
   ],
   "source": [
    "list_data = [(1, 'a'), (2, 'b'), (3, 'c')]\n",
    "\n",
    "for x in list_data:\n",
    "  print(*x)"
   ]
  },
  {
   "cell_type": "markdown",
   "metadata": {},
   "source": [
    "Upacking dictionaries must consider double \" * \", one for the key and another for the value."
   ]
  },
  {
   "cell_type": "code",
   "execution_count": 4,
   "metadata": {},
   "outputs": [],
   "source": [
    "class User:\n",
    "    def __init__(self, username, password):\n",
    "        self.username = username\n",
    "        self.password = password\n",
    "\n",
    "users = [\n",
    "    { 'username': 'rolf', 'password': '123' },\n",
    "    { 'username': 'tecladoisawesome', 'password': 'youaretoo' }\n",
    "]\n",
    "\n",
    "user_objects = [User(username=data[\"username\"], password=data[\"password\"]) for data in users]\n",
    "\n",
    "#unpacked\n",
    "user_objects = [User(**data) for data in users]"
   ]
  },
  {
   "cell_type": "markdown",
   "metadata": {},
   "source": [
    "**Naming arguments:**\n",
    "<br>\n",
    "It is a good practice name thearguments and fullfil them sequently, as the example below."
   ]
  },
  {
   "cell_type": "code",
   "execution_count": null,
   "metadata": {},
   "outputs": [],
   "source": [
    "result = function(customer=x, name=y)"
   ]
  },
  {
   "cell_type": "markdown",
   "metadata": {},
   "source": [
    "## Queue"
   ]
  },
  {
   "cell_type": "markdown",
   "metadata": {},
   "source": [
    "It is called a queue if it is possible to add on one side and remove from other.\n",
    "It removes elements from the start. \n",
    "It adds elements at the end. \n",
    "\n",
    "Note: It is called deque or double-ended-queue When it is possible add both sides: right and left\n",
    "\n",
    "- *popleft* -> remove element from the left side of a list\n",
    "- *pop* -> remove element from the right side of a list\n",
    "- *appendleft* -> add elements on left    \n",
    "\n",
    "* double-ended-queue is a queue where we can add or remove from either sides.\n",
    "* stack removes and add from the same end  \n",
    "\n",
    "Stacks allows to remove and include new elements using the same position (same end)"
   ]
  },
  {
   "cell_type": "markdown",
   "metadata": {},
   "source": [
    "__Collections__ - Module that has some interesting methods to be used as:\n",
    "    - counter -> counts the attributes informed\n",
    "    - defaultdict -> Used to return a default value for a dictionary\n",
    "    - ordereddict -> Define the order of items inserted into a dictionary\n",
    "    - namedtuple -> Creates names for each item of a tuple\n",
    "    - deque -> Commonly used to work with threads. As mentioned, double-ended-queue is a queue where we can add or remove from either sides."
   ]
  },
  {
   "cell_type": "code",
   "execution_count": 10,
   "metadata": {},
   "outputs": [
    {
     "name": "stdout",
     "output_type": "stream",
     "text": [
      "2\n"
     ]
    }
   ],
   "source": [
    "from collections import Counter\n",
    "\n",
    "device_temperatures = [13.5, 14.0, 14.0, 14.5, 14.5, 14.5, 15.0, 16.0]\n",
    "\n",
    "temperature_counter = Counter(device_temperatures)\n",
    "print(temperature_counter[14.0])  # 2"
   ]
  },
  {
   "cell_type": "code",
   "execution_count": 14,
   "metadata": {},
   "outputs": [
    {
     "name": "stdout",
     "output_type": "stream",
     "text": [
      "Hello\n",
      "Apple Inc.\n"
     ]
    }
   ],
   "source": [
    "from collections import defaultdict\n",
    "\n",
    "coworkers = ['Jen', 'Li', 'Charlie', 'Rhys']\n",
    "other_coworkers = [('Rolf', 'Apple Inc.'), ('Anna', 'Google')]\n",
    "\n",
    "coworker_companies = defaultdict(lambda: 'Hello')\n",
    "\n",
    "for person, company in other_coworkers:\n",
    "    coworker_companies[person] = company\n",
    "\n",
    "print(coworker_companies['Jen'])  # Teclado\n",
    "print(coworker_companies['Rolf'])  # Apple Inc."
   ]
  },
  {
   "cell_type": "code",
   "execution_count": 24,
   "metadata": {},
   "outputs": [
    {
     "name": "stdout",
     "output_type": "stream",
     "text": [
      "OrderedDict([('Rolf', 6), ('Jose', 10), ('Jen', 3)])\n"
     ]
    }
   ],
   "source": [
    "from collections import OrderedDict\n",
    "\n",
    "o = OrderedDict()\n",
    "o['Rolf'] = 6\n",
    "o['Jose'] = 10\n",
    "o['Jen'] = 3\n",
    "\n",
    "print(o)"
   ]
  },
  {
   "cell_type": "code",
   "execution_count": 25,
   "metadata": {},
   "outputs": [
    {
     "name": "stdout",
     "output_type": "stream",
     "text": [
      "checking\n",
      "1850.9\n",
      "Account(name='checking', balance=1850.9)\n"
     ]
    }
   ],
   "source": [
    "from collections import namedtuple\n",
    "\n",
    "Account = namedtuple('Account', ['name', 'balance'])\n",
    "\n",
    "account = Account('checking', 1850.90)\n",
    "print(account.name)\n",
    "print(account.balance)\n",
    "\n",
    "print(account)\n"
   ]
  },
  {
   "cell_type": "code",
   "execution_count": 26,
   "metadata": {},
   "outputs": [
    {
     "name": "stdout",
     "output_type": "stream",
     "text": [
      "deque(['Anthony', 'Rolf', 'Charlie', 'Jen', 'Anna', 'Jose'])\n",
      "deque(['Anthony', 'Rolf', 'Charlie', 'Jen', 'Anna'])\n",
      "deque(['Rolf', 'Charlie', 'Jen', 'Anna'])\n"
     ]
    }
   ],
   "source": [
    "from collections import deque\n",
    "\n",
    "friends = deque(('Rolf', 'Charlie', 'Jen', 'Anna'))\n",
    "friends.append('Jose')\n",
    "friends.appendleft('Anthony')\n",
    "\n",
    "print(friends)\n",
    "\n",
    "friends.pop()\n",
    "print(friends)\n",
    "\n",
    "friends.popleft()\n",
    "print(friends)"
   ]
  },
  {
   "cell_type": "code",
   "execution_count": 31,
   "metadata": {},
   "outputs": [],
   "source": [
    "from collections import defaultdict, OrderedDict, namedtuple, deque\n",
    "  \n",
    "def task1() -> defaultdict:\n",
    "    \"\"\"\n",
    "    - create a `defaultdict` object, and its default value would be set to the string `Unknown`.\n",
    "    - Add an entry with key name `Alan` and its value being `Manchester`.\n",
    "    - Return the `defaultdict` object you created.\n",
    "    \"\"\"\n",
    "    #name = defaultdict(lambda: 'Unknown')\n",
    "    #if p_name == 'Alan':\n",
    "    #    name[p_name] = 'Manchester'   \n",
    "    #return(name[p_name])\n",
    "    \n",
    "    dd = defaultdict(lambda: 'Unknown')\n",
    "    dd['Alan'] = 'Manchester'\n",
    "    return dd\n",
    " \n",
    "def task2(arg_od: OrderedDict):\n",
    "    \"\"\"\n",
    "    - takes in an OrderedDict `arg_od`\n",
    "    - Remove the first and last entry in `arg_od`.\n",
    "    - Move the entry with key name `Bob` to the end of `arg_od`.\n",
    "    - Move the entry with key name `Dan` to the start of `arg_od`.\n",
    "    - You may assume that `arg_od` would always contain the keys `Bob` and `Dan`,\n",
    "        and they won't be the first or last entry initially.\n",
    "    \"\"\"\n",
    "    arg_od.popitem()\n",
    "    arg_od.popitem(False)\n",
    "    # remember to remove start and end before moving Bob and Dan, otherwise they will be removed instead\n",
    "    arg_od.move_to_end('Bob')\n",
    "    arg_od.move_to_end('Dan', False)\n",
    " \n",
    " \n",
    "def task3(name: str, club: str) -> namedtuple:\n",
    "    \"\"\"\n",
    "    - create a `namedtuple` with type `Player`, and it will have two fields, `name` and `club`.\n",
    "    - create a `Player` `namedtuple` instance that has the `name` and `club` field set by the given arguments.\n",
    "    - return the `Player` `namedtuple` instance you created.\n",
    "    \"\"\"\n",
    "    Player = namedtuple('Player', ['name', 'club'])\n",
    "    player = Player(name, club)\n",
    "    return player\n",
    " \n",
    "def task4(arg_deque: deque):\n",
    "    \"\"\"\n",
    "    - Manipulate the `arg_deque` in any order you preferred to achieve the following effect:\n",
    "        -- remove last element in `deque`\n",
    "        -- move the fist (left most) element to the end (right most)\n",
    "        -- add an element `Zack`, a string, to the start (left)\n",
    "    \"\"\"\n",
    "    arg_deque.pop()     # remove last element\n",
    "    arg_deque.append(arg_deque.popleft())   # remove first element and append it to last\n",
    "    arg_deque.appendleft('Zack')    # add Zack to start"
   ]
  },
  {
   "cell_type": "code",
   "execution_count": 32,
   "metadata": {},
   "outputs": [
    {
     "name": "stdout",
     "output_type": "stream",
     "text": [
      "defaultdict(<function task1.<locals>.<lambda> at 0x7f2bb4d807b8>, {'Alan': 'Manchester'})\n",
      "defaultdict(<function task1.<locals>.<lambda> at 0x7f2bb4d807b8>, {'Alan': 'Manchester'})\n"
     ]
    }
   ],
   "source": [
    "print(task1('Banana'))\n",
    "print(task1('Alan'))\n",
    "\n",
    "#print(task2([('Bob','London'), ('Dan','Paris'), ('Eden','Bla')]))\n",
    "#print(task2())"
   ]
  },
  {
   "cell_type": "markdown",
   "metadata": {},
   "source": [
    "## Datetime - Timezone\n",
    "\n",
    "### Naive\n",
    "- It doesn't consider the timezone of a datetime"
   ]
  },
  {
   "cell_type": "code",
   "execution_count": 33,
   "metadata": {},
   "outputs": [
    {
     "name": "stdout",
     "output_type": "stream",
     "text": [
      "2020-01-13 21:48:09.858960\n"
     ]
    }
   ],
   "source": [
    "from datetime import datetime\n",
    "print(datetime.now())"
   ]
  },
  {
   "cell_type": "markdown",
   "metadata": {},
   "source": [
    "### Aware\n",
    "- It considers the timezone of a datetime"
   ]
  },
  {
   "cell_type": "code",
   "execution_count": 35,
   "metadata": {},
   "outputs": [
    {
     "name": "stdout",
     "output_type": "stream",
     "text": [
      "2020-01-14 00:48:50.351194+00:00\n"
     ]
    }
   ],
   "source": [
    "from datetime import datetime, timezone\n",
    "print(datetime.now(timezone.utc))"
   ]
  },
  {
   "cell_type": "markdown",
   "metadata": {},
   "source": [
    "### Datetime - Timedelta\n",
    "- It includes or remove periods from a date"
   ]
  },
  {
   "cell_type": "code",
   "execution_count": 36,
   "metadata": {},
   "outputs": [
    {
     "name": "stdout",
     "output_type": "stream",
     "text": [
      "2020-01-15 00:49:37.338624+00:00\n"
     ]
    }
   ],
   "source": [
    "from datetime import datetime, timezone, timedelta\n",
    "today = datetime.now(timezone.utc)\n",
    "tomorrow = today + timedelta(days=1)\n",
    "print(tomorrow)"
   ]
  },
  {
   "cell_type": "markdown",
   "metadata": {},
   "source": [
    "### strftime\n",
    "- Method to format dates as strings"
   ]
  },
  {
   "cell_type": "code",
   "execution_count": 37,
   "metadata": {},
   "outputs": [
    {
     "name": "stdout",
     "output_type": "stream",
     "text": [
      "14-01-2020 00:49:37\n"
     ]
    }
   ],
   "source": [
    "print(today.strftime('%d-%m-%Y %H:%M:%S'))"
   ]
  },
  {
   "cell_type": "markdown",
   "metadata": {},
   "source": [
    "### strptime\n",
    "- Method to parse and store the date in a new format"
   ]
  },
  {
   "cell_type": "code",
   "execution_count": 38,
   "metadata": {},
   "outputs": [
    {
     "name": "stdout",
     "output_type": "stream",
     "text": [
      "Enter the date in YYYY-MM-DD format: 2019-04-19\n",
      "2019-04-19 00:00:00\n"
     ]
    }
   ],
   "source": [
    "user_date = input(\"Enter the date in YYYY-MM-DD format: \")\n",
    "user_date = datetime.strptime(user_date, '%Y-%m-%d')\n",
    "\n",
    "print(user_date)"
   ]
  },
  {
   "cell_type": "markdown",
   "metadata": {},
   "source": [
    "### time\n",
    "- The module can be used to log the begin and end datetime for each execution. Besides, it is possible to apply math method using them as addition or subtraction.\n"
   ]
  },
  {
   "cell_type": "code",
   "execution_count": 40,
   "metadata": {},
   "outputs": [
    {
     "name": "stdout",
     "output_type": "stream",
     "text": [
      "0.00020766258239746094\n"
     ]
    }
   ],
   "source": [
    "import time\n",
    "\n",
    "def powers(limit):\n",
    "    return [x**2 for x in range(10)]\n",
    "\n",
    "start = time.time()\n",
    "powers(10)\n",
    "end = time.time()\n",
    "\n",
    "print(end - start)"
   ]
  },
  {
   "cell_type": "markdown",
   "metadata": {},
   "source": [
    "### timeit\n",
    "- The module can be used to check the time of execution of some code as comparing time of execution between a list compreension or a list(map(function)) to create a list.\n",
    "\n",
    "PS: \n",
    "If It is necessary to use each item of a list, use map, otherwise, list compreension"
   ]
  },
  {
   "cell_type": "code",
   "execution_count": 41,
   "metadata": {},
   "outputs": [
    {
     "name": "stdout",
     "output_type": "stream",
     "text": [
      "4.057486109999445\n",
      "4.760268766999616\n"
     ]
    }
   ],
   "source": [
    "import timeit\n",
    "\n",
    "print(timeit.timeit(\"[x**2 for x in range(10)]\"))\n",
    "print(timeit.timeit(\"list(map(lambda x: x**2, range(10)))\"))"
   ]
  },
  {
   "cell_type": "markdown",
   "metadata": {},
   "source": [
    "### Regex\n",
    "\n",
    "https://regexr.com/\n",
    "\n",
    "Which each character means: \n",
    "\t\n",
    "`\\` escape metacharacters  \n",
    "`.` It considers anything that is on that position as letters,numbers or symbols except new line breaks   \n",
    "`*` zero or more occurrences of preceding character  \n",
    "`+` One or more of  \n",
    "`-` zero or more of  \n",
    "`?` zero or one of  \n",
    "`|` alternative  \n",
    "`^` anchor pattern to beginning of buffer (usually a word)  \n",
    "`$` anchor pattern to end of buffer (usually a word)  \n",
    "`[abc]` Matches all characters individually that were considered inside the []  \n",
    "`[abc]+` Matches all characters together that were considered inside the []  \n",
    "`[a-z]` Matches all characters individually  \n",
    "`[a-z]+` Matches all characters together as words  \n",
    "`[A-z]+` Matches all characters individually if they are upper or lower  \n",
    "`[A-z\\.]+` Matches all characters individually if they are upper or lower OR contains the . character  \n",
    "`[0-9]` Matches any number"
   ]
  },
  {
   "cell_type": "markdown",
   "metadata": {},
   "source": [
    "Matching the texts as words"
   ]
  },
  {
   "cell_type": "code",
   "execution_count": 1,
   "metadata": {},
   "outputs": [
    {
     "name": "stdout",
     "output_type": "stream",
     "text": [
      "['jessika', 'milhomem', 'gmail', 'com']\n"
     ]
    }
   ],
   "source": [
    "import re\n",
    "\n",
    "email = \"jessika.milhomem@gmail.com\"\n",
    "expression = '[a-z]+'\n",
    "\n",
    "list_matches = re.findall(expression, email)\n",
    "print(list_matches)"
   ]
  },
  {
   "cell_type": "markdown",
   "metadata": {},
   "source": [
    "Matching the texts as words and some character between them"
   ]
  },
  {
   "cell_type": "code",
   "execution_count": 12,
   "metadata": {},
   "outputs": [
    {
     "name": "stdout",
     "output_type": "stream",
     "text": [
      "['jessika', 'milhomem', 'gmail.com']\n"
     ]
    }
   ],
   "source": [
    "import re\n",
    "\n",
    "email = \"jessika.milhomem@gmail.com\"\n",
    "expression = '[a-z*.]+'\n",
    "\n",
    "list_matches = re.findall(expression, email)\n",
    "print(list_matches)"
   ]
  },
  {
   "cell_type": "code",
   "execution_count": 16,
   "metadata": {},
   "outputs": [
    {
     "name": "stdout",
     "output_type": "stream",
     "text": [
      "Full string:  Price: $1832.43\n",
      "Just value: 1832.43\n",
      "Just value, but formated: 1832.43\n"
     ]
    }
   ],
   "source": [
    "import re\n",
    "\n",
    "price = 'Price: $1832.43'\n",
    "expression = 'Price: \\$([0-9]*\\.[0-9]*)'\n",
    "\n",
    "matches = re.search(expression, price)\n",
    "print(\"Full string: \", matches.group(0))\n",
    "print(\"Just value:\", matches.group(1))\n",
    "\n",
    "price_number = float(matches.group(1))\n",
    "print(\"Just value, but formated:\", price_number)\n"
   ]
  },
  {
   "cell_type": "code",
   "execution_count": 18,
   "metadata": {},
   "outputs": [
    {
     "name": "stdout",
     "output_type": "stream",
     "text": [
      "Full string:  Price: $1,832.43\n",
      "Just value: 1,832.43\n",
      "Just value, but formated: 1832.43\n"
     ]
    }
   ],
   "source": [
    "import re\n",
    "\n",
    "price = 'Price: $1,832.43'\n",
    "expression = 'Price: \\$([0-9,]*\\.[0-9]*)'\n",
    "\n",
    "matches = re.search(expression, price)\n",
    "print(\"Full string: \", matches.group(0))\n",
    "print(\"Just value:\", matches.group(1))\n",
    "\n",
    "price_number = float(matches.group(1).replace(\",\", \"\"))\n",
    "print(\"Just value, but formated:\", price_number)\n"
   ]
  },
  {
   "cell_type": "code",
   "execution_count": null,
   "metadata": {},
   "outputs": [],
   "source": []
  },
  {
   "cell_type": "markdown",
   "metadata": {},
   "source": [
    "### <a href=https://www.linkedin.com/in/jmilhomem/>br.linkedin.com/in/jmilhomem</a> ###"
   ]
  }
 ],
 "metadata": {
  "kernelspec": {
   "display_name": "Python 3",
   "language": "python",
   "name": "python3"
  },
  "language_info": {
   "codemirror_mode": {
    "name": "ipython",
    "version": 3
   },
   "file_extension": ".py",
   "mimetype": "text/x-python",
   "name": "python",
   "nbconvert_exporter": "python",
   "pygments_lexer": "ipython3",
   "version": "3.6.8"
  }
 },
 "nbformat": 4,
 "nbformat_minor": 2
}
