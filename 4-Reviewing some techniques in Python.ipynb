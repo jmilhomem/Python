{
 "cells": [
  {
   "cell_type": "markdown",
   "metadata": {},
   "source": [
    "\n",
    "Some scripts below were developed based on exercises of [Teclado Code](http://blog.tecladocode.com/)\n"
   ]
  },
  {
   "cell_type": "markdown",
   "metadata": {},
   "source": [
    "## Practicing different ways to iterate dictionaries"
   ]
  },
  {
   "cell_type": "code",
   "execution_count": 220,
   "metadata": {},
   "outputs": [
    {
     "name": "stdout",
     "output_type": "stream",
     "text": [
      "\n",
      "------------------------------------------------------------------------------\n",
      "                  1º way to show each value of a dictionary                     \n",
      "                  Example: {friend} {my_friends[friend]}                        \n",
      "------------------------------------------------------------------------------\n",
      "I saw my friend Maria 7 days ago\n",
      "I saw my friend Jose 8 days ago\n",
      "\n",
      "------------------------------------------------------------------------------\n",
      "                  2º way to show each value of a dictionary                     \n",
      "              Detail: using function items.                                     \n",
      "            Example:friend, days in my_friends.items() and {friend}{days}       \n",
      "------------------------------------------------------------------------------\n",
      "I saw my friend Maria 7 days ago\n",
      "I saw my friend Jose 8 days ago\n",
      "\n",
      "------------------------------------------------------------------------------\n",
      "                  About 2º way to show each value of a dictionary               \n",
      "         Detail: Function Items is similar with treatment for tuples           \n",
      "------------------------------------------------------------------------------\n",
      "dict_items([('Maria', 7), ('Jose', 8)])\n",
      "I saw my friend Maria 7 days ago\n",
      "I saw my friend Jose 8 days ago\n",
      "\n",
      "------------------------------------------------------------------------------\n",
      "                 About 2º way to show each value of a dictionary                \n",
      "         Detail: Function Items is similar with treatment for tuples           \n",
      "------------------------------------------------------------------------------\n",
      "dict_items([('Maria', 7), ('Jose', 8)])\n",
      "I saw my friend Maria 7 days ago\n",
      "I saw my friend Jose 8 days ago\n"
     ]
    }
   ],
   "source": [
    "#defining the dictionary\n",
    "my_friends = {\n",
    "    \"Maria\" : 7,\n",
    "    \"Jose\" : 8\n",
    "}\n",
    "\n",
    "print(\"\\n------------------------------------------------------------------------------\")\n",
    "print(\"                  1º way to show each value of a dictionary                     \")\n",
    "print(\"                  Example: {friend} {my_friends[friend]}                        \")\n",
    "print(\"------------------------------------------------------------------------------\")\n",
    "\n",
    "for friend in my_friends:\n",
    "    print(f\"I saw my friend {friend} {my_friends[friend]} days ago\")\n",
    "    \n",
    "print(\"\\n------------------------------------------------------------------------------\")\n",
    "print(\"                  2º way to show each value of a dictionary                     \")\n",
    "print(\"              Detail: using function items.                                     \")\n",
    "print(\"            Example:friend, days in my_friends.items() and {friend}{days}       \")\n",
    "print(\"------------------------------------------------------------------------------\")\n",
    "\n",
    "for friend, days in my_friends.items():\n",
    "    print(f\"I saw my friend {friend} {days} days ago\")\n",
    "    \n",
    "print(\"\\n------------------------------------------------------------------------------\")\n",
    "print(\"                  About 2º way to show each value of a dictionary               \")\n",
    "print(\"         Detail: Function Items is similar with treatment for tuples           \")\n",
    "print(\"------------------------------------------------------------------------------\")\n",
    "\n",
    "print(my_friends.items())\n",
    "\n",
    "#tuple destructuring\n",
    "for friend, days in [('Maria', 7), ('Jose', 8)]:\n",
    "    print(f\"I saw my friend {friend} {days} days ago\")\n",
    "    \n",
    "    \n",
    "print(\"\\n------------------------------------------------------------------------------\")\n",
    "print(\"                 About 2º way to show each value of a dictionary                \")\n",
    "print(\"         Detail: Function Items is similar with treatment for tuples           \")\n",
    "print(\"------------------------------------------------------------------------------\")\n",
    "\n",
    "print(my_friends.items())\n",
    "\n",
    "for t in [('Maria', 7), ('Jose', 8)]:\n",
    "    #tuple destructuring\n",
    "    friend, days = t\n",
    "    print(f\"I saw my friend {friend} {days} days ago\")\n"
   ]
  },
  {
   "cell_type": "markdown",
   "metadata": {},
   "source": [
    "## Practicing break\n",
    "\n",
    "Listing prime numbers.\n",
    "<b>Exercise reminder:</b> Prime number is divisible just by 1 and itself"
   ]
  },
  {
   "cell_type": "code",
   "execution_count": 81,
   "metadata": {},
   "outputs": [
    {
     "name": "stdout",
     "output_type": "stream",
     "text": [
      "--------------------------------------------------------------\n",
      "Results to compare (n, list)-->  2 []\n",
      "\n",
      "     Evaluation: 2 is a prime number.\n",
      "\n",
      "--------------------------------------------------------------\n",
      "Results to compare (n, list)-->  3 [2]\n",
      "Results to compare (n, x, list)-->  3 2 [2]\n",
      "\n",
      "     Evaluation: 3 is a prime number.\n",
      "\n",
      "--------------------------------------------------------------\n",
      "Results to compare (n, list)-->  4 [2, 3]\n",
      "Results to compare (n, x, list)-->  4 2 [2, 3]\n",
      "\n",
      "     Evaluation: 4 is not a prime number. It is equals 2 * 2.\n",
      "\n",
      "--------------------------------------------------------------\n",
      "Results to compare (n, list)-->  5 [2, 3, 4]\n",
      "Results to compare (n, x, list)-->  5 2 [2, 3, 4]\n",
      "Results to compare (n, x, list)-->  5 3 [2, 3, 4]\n",
      "Results to compare (n, x, list)-->  5 4 [2, 3, 4]\n",
      "\n",
      "     Evaluation: 5 is a prime number.\n",
      "\n",
      "--------------------------------------------------------------\n",
      "Results to compare (n, list)-->  6 [2, 3, 4, 5]\n",
      "Results to compare (n, x, list)-->  6 2 [2, 3, 4, 5]\n",
      "\n",
      "     Evaluation: 6 is not a prime number. It is equals 2 * 3.\n",
      "\n",
      "--------------------------------------------------------------\n",
      "Results to compare (n, list)-->  7 [2, 3, 4, 5, 6]\n",
      "Results to compare (n, x, list)-->  7 2 [2, 3, 4, 5, 6]\n",
      "Results to compare (n, x, list)-->  7 3 [2, 3, 4, 5, 6]\n",
      "Results to compare (n, x, list)-->  7 4 [2, 3, 4, 5, 6]\n",
      "Results to compare (n, x, list)-->  7 5 [2, 3, 4, 5, 6]\n",
      "Results to compare (n, x, list)-->  7 6 [2, 3, 4, 5, 6]\n",
      "\n",
      "     Evaluation: 7 is a prime number.\n",
      "\n",
      "--------------------------------------------------------------\n",
      "Results to compare (n, list)-->  8 [2, 3, 4, 5, 6, 7]\n",
      "Results to compare (n, x, list)-->  8 2 [2, 3, 4, 5, 6, 7]\n",
      "\n",
      "     Evaluation: 8 is not a prime number. It is equals 2 * 4.\n",
      "\n",
      "--------------------------------------------------------------\n",
      "Results to compare (n, list)-->  9 [2, 3, 4, 5, 6, 7, 8]\n",
      "Results to compare (n, x, list)-->  9 2 [2, 3, 4, 5, 6, 7, 8]\n",
      "Results to compare (n, x, list)-->  9 3 [2, 3, 4, 5, 6, 7, 8]\n",
      "\n",
      "     Evaluation: 9 is not a prime number. It is equals 3 * 3.\n",
      "\n"
     ]
    }
   ],
   "source": [
    "#the verification will be done for numbers between 2 and 9 (less than 10)\n",
    "for n in range(2, 10):\n",
    "\n",
    "    print(\"--------------------------------------------------------------\")\n",
    "    print(\"Results to compare (n, list)--> \", n, list(range(2, n)))\n",
    "        \n",
    "    for x in range(2, n):\n",
    "        \n",
    "        print(\"Results to compare (n, x, list)--> \", n, x, list(range(2, n)))\n",
    "    \n",
    "        #if the n is divisible by x number, then, breaks the execution (not prime)\n",
    "        if n % x == 0:\n",
    "            print(f\"\\n     Evaluation: {n} is not a prime number. It is equals {x} * {n//x}.\\n\")\n",
    "            break\n",
    "        \n",
    "    #after the iteration of the second loop, if the n is not divisible by x number, \n",
    "    #then, execute the else of the second loop and its print (it is a prime)\n",
    "    else:\n",
    "        print(f\"\\n     Evaluation: {n} is a prime number.\\n\")"
   ]
  },
  {
   "cell_type": "markdown",
   "metadata": {},
   "source": [
    "## List Compreension\n",
    "\n",
    "Doing an iteration using list compreension."
   ]
  },
  {
   "cell_type": "code",
   "execution_count": 127,
   "metadata": {},
   "outputs": [
    {
     "name": "stdout",
     "output_type": "stream",
     "text": [
      "Without list compreension:  [0, 2, 4, 6, 8, 10, 12, 14, 16, 18]\n",
      "With list compreension:  [0, 2, 4, 6, 8, 10, 12, 14, 16, 18]\n",
      "Even numbers:  [0, 2, 4, 6, 8]\n"
     ]
    }
   ],
   "source": [
    "'''------------------------------------------------------------------------------\n",
    "                Example of code without list compreension                         \n",
    "------------------------------------------------------------------------------'''\n",
    "numbers = list(range(10))\n",
    "double_numbers = []\n",
    "\n",
    "for num in numbers:\n",
    "    double_numbers.append(num * 2)\n",
    "\n",
    "print(\"Without list compreension: \", double_numbers)\n",
    "\n",
    "\n",
    "'''------------------------------------------------------------------------------\n",
    "                Example of code with list compreension                         \n",
    "------------------------------------------------------------------------------'''\n",
    "\n",
    "numbers = list(range(10))\n",
    "double_numbers = [n*2 for n in numbers]\n",
    "print(\"With list compreension: \", double_numbers)\n",
    "\n",
    "\n",
    "'''------------------------------------------------------------------------------\n",
    "                Example of list compreension to list just even number                        \n",
    "------------------------------------------------------------------------------'''\n",
    "#create a variable with evens numbers\n",
    "evens = [n for n in numbers if n % 2 == 0]\n",
    "print(\"Even numbers: \", evens)\n"
   ]
  },
  {
   "cell_type": "markdown",
   "metadata": {},
   "source": [
    "Creates a list of friends and compare which friend went to the party"
   ]
  },
  {
   "cell_type": "code",
   "execution_count": 129,
   "metadata": {},
   "outputs": [
    {
     "name": "stdout",
     "output_type": "stream",
     "text": [
      "['Rolf', 'Charlie']\n"
     ]
    }
   ],
   "source": [
    "#creates lists of friends and guests\n",
    "friends = {\"rolf\", \"Anna\", \"charlie\"}\n",
    "guests = {\"Jose\", \"Rolf\", \"ruth\", \"Charlie\", \"michael\"}\n",
    "\n",
    "#creates a list compreension treating each name as lowercase\n",
    "lower_friends = [names.lower() for names in friends]\n",
    "\n",
    "#creates a list compreension comparing each guest with the friend list\n",
    "present_friends = [name.capitalize() for name in guests if name.lower() in lower_friends]\n",
    "\n",
    "print(present_friends)"
   ]
  },
  {
   "cell_type": "markdown",
   "metadata": {},
   "source": [
    "## Dictionary Compreension\n",
    "\n",
    "Doing an iteration using dictionary compreension."
   ]
  },
  {
   "cell_type": "code",
   "execution_count": 148,
   "metadata": {},
   "outputs": [
    {
     "name": "stdout",
     "output_type": "stream",
     "text": [
      "{'Ruth', 'Rolf', 'Anna', 'Charlie', 'Jose', 'Michael'}\n"
     ]
    }
   ],
   "source": [
    "'''------------------------------------------------------------------------------\n",
    "                Example of code without dictionary compreension                         \n",
    "------------------------------------------------------------------------------'''\n",
    "#creates dictionary of friends and guests\n",
    "friends = {\"rolf\", \"Anna\", \"charlie\"}\n",
    "guests = {\"Jose\", \"Rolf\", \"ruth\", \"Charlie\", \"michael\"}\n",
    "\n",
    "#creates a dictionary compreension unifing both of sets and treating with capitalize case\n",
    "present_friends = {name.capitalize() for name in friends.union(guests)}\n",
    "\n",
    "print(present_friends)"
   ]
  },
  {
   "cell_type": "code",
   "execution_count": 221,
   "metadata": {},
   "outputs": [
    {
     "name": "stdout",
     "output_type": "stream",
     "text": [
      "With list compreension result:  {'Rolf': 10, 'Anna': 15, 'Charlie': 8}\n",
      "With dict and zip functions result:  {'Rolf': 10, 'Anna': 15, 'Charlie': 8} \n",
      "\n"
     ]
    }
   ],
   "source": [
    "names = [\"Rolf\", \"Anna\", \"Charlie\"]\n",
    "time_last_seen = [10, 15, 8]\n",
    "\n",
    "'''------------------------------------------------------------------------------\n",
    "                Example of code with dictionary compreension                         \n",
    "------------------------------------------------------------------------------'''\n",
    "friend_last_seen = {names[i]: time_last_seen[i] for i in range(len(names))}\n",
    "print(\"With list compreension result: \", friend_last_seen)\n",
    "\n",
    "\n",
    "'''------------------------------------------------------------------------------\n",
    "                Example of code using dict and zip functions\n",
    "                Zip = Creates a list of tuples\n",
    "                Dict = Creates dictionaries based on this list\n",
    "------------------------------------------------------------------------------'''\n",
    "friends_last_seen = dict(zip(names, time_last_seen))\n",
    "print(\"With dict and zip functions result: \", friend_last_seen, \"\\n\")\n"
   ]
  },
  {
   "cell_type": "markdown",
   "metadata": {},
   "source": [
    "Exercise: List the name of the player who matched the most numbers, listing his/her name and the ammount of winnings, which is calculated by 100 ** len(numbers_matched)"
   ]
  },
  {
   "cell_type": "code",
   "execution_count": 213,
   "metadata": {},
   "outputs": [
    {
     "name": "stdout",
     "output_type": "stream",
     "text": [
      "Mary won 1267650600228229401496703205376.\n"
     ]
    }
   ],
   "source": [
    "import random\n",
    "\n",
    "# This line creates a set with 6 random numbers\n",
    "lottery_numbers = set(random.sample(list(range(22)), 6))\n",
    "\n",
    "# Here are your players; find out who has the most numbers matching lottery_numbers!\n",
    "players = [\n",
    "    {'name': 'Mary', 'numbers': {1, 3, 5, 7, 9, 11}},\n",
    "    {'name': 'Robert', 'numbers': {2, 7, 9, 22, 10, 5}},\n",
    "    {'name': 'Flavia', 'numbers': {13, 14, 15, 16, 17, 18}},\n",
    "    {'name': 'Jen', 'numbers': {19, 20, 12, 7, 3, 5}}\n",
    "]\n",
    "\n",
    "#print(lottery_numbers)\n",
    "\n",
    "#creates a list with players' name\n",
    "player_name = [players[player_position][\"name\"].capitalize() for player_position in range(4)]\n",
    "\n",
    "#creates a list with player's game \n",
    "player_game = [players[player_position][\"numbers\"] for player_position in range(4)]\n",
    "\n",
    "#creates a list with players' total number matched\n",
    "player_number_matched = [len(game.intersection(lottery_numbers)) for game in player_game]\n",
    "\n",
    "#creates a dictionary with player and their total number mached\n",
    "players_dictionary = dict(zip(player_name, player_number_matched))\n",
    "\n",
    "#print(players_dictionary)\n",
    "\n",
    "\n",
    "last_total = 0\n",
    "for player, total in players_dictionary.items():\n",
    "    if (total ** 100) > last_total:\n",
    "        last_total = (total ** 100) \n",
    "        winner = player\n",
    "        \n",
    "print(f\"{winner} won {last_total}.\")\n"
   ]
  },
  {
   "cell_type": "markdown",
   "metadata": {},
   "source": [
    "## Lambda Functions"
   ]
  },
  {
   "cell_type": "code",
   "execution_count": 217,
   "metadata": {},
   "outputs": [
    {
     "name": "stdout",
     "output_type": "stream",
     "text": [
      "Result of a function called:  15\n",
      "Result of a lambda function called:  15\n"
     ]
    }
   ],
   "source": [
    "'''------------------------------------------------------------------------------\n",
    "                Example of a function and how to call it                         \n",
    "------------------------------------------------------------------------------'''\n",
    "def sum_values(x, y):\n",
    "    return x + y\n",
    "\n",
    "total_result = sum_values(10, 5)\n",
    "print(\"Result of a function called: \", total_result)\n",
    "\n",
    "\n",
    "'''------------------------------------------------------------------------------\n",
    "                Example of a Lambda function and how to call it      \n",
    "        It is a anonymous block, created for specific and temporary solutions\n",
    "------------------------------------------------------------------------------'''\n",
    "total_result = (lambda x, y : x + y)(10, 5)\n",
    "print(\"Result of a lambda function called: \", total_result)\n",
    "\n"
   ]
  },
  {
   "cell_type": "markdown",
   "metadata": {},
   "source": [
    "## First Class Functions"
   ]
  },
  {
   "cell_type": "code",
   "execution_count": 229,
   "metadata": {},
   "outputs": [
    {
     "name": "stdout",
     "output_type": "stream",
     "text": [
      "Example of calling not using Lambda Function:  Poddle\n",
      "Example of calling using Lambda Function:  Poddle\n"
     ]
    }
   ],
   "source": [
    "'''------------------------------------------------------------------------------\n",
    "                Example of how to use and call it not using Lambda Function                       \n",
    "------------------------------------------------------------------------------'''\n",
    "\n",
    "#Create a higher order function that receive a first class function as an argument\n",
    "def list_dogs(data, identify_dogs):\n",
    "    return identify_dogs(data)\n",
    "\n",
    "#create a function that return the dog breed\n",
    "def my_dog_function(data):\n",
    "    return data['breed']\n",
    "\n",
    "#Create a dictionary with my dogs\n",
    "my_dogs = {\"breed\": \"Poddle\", \"name\": \"Bob\"}\n",
    "\n",
    "# Print the result of the function using the order function, passing the \n",
    "# first class function as an argument\n",
    "print(\"Example of calling not using Lambda Function: \", list_dogs(my_dogs, my_dog_function))\n",
    "\n",
    "\n",
    "\n",
    "'''------------------------------------------------------------------------------\n",
    "                Exampleof how to use and call it using Lambda Function                       \n",
    "------------------------------------------------------------------------------'''\n",
    "\n",
    "# Print the result of the function using the order function, passing the \n",
    "# first class function as an argument\n",
    "print(\"Example of calling using Lambda Function: \",list_dogs(my_dogs, lambda x: x['breed']))\n",
    "\n",
    "\n"
   ]
  },
  {
   "cell_type": "markdown",
   "metadata": {},
   "source": [
    "### <a href=https://www.linkedin.com/in/jmilhomem/>br.linkedin.com/in/jmilhomem</a> ###"
   ]
  }
 ],
 "metadata": {
  "kernelspec": {
   "display_name": "Python 3",
   "language": "python",
   "name": "python3"
  },
  "language_info": {
   "codemirror_mode": {
    "name": "ipython",
    "version": 3
   },
   "file_extension": ".py",
   "mimetype": "text/x-python",
   "name": "python",
   "nbconvert_exporter": "python",
   "pygments_lexer": "ipython3",
   "version": "3.7.0"
  }
 },
 "nbformat": 4,
 "nbformat_minor": 2
}
