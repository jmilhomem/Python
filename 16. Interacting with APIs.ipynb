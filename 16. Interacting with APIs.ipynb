{
 "cells": [
  {
   "cell_type": "markdown",
   "metadata": {},
   "source": [
    "# Interacting with APIs"
   ]
  },
  {
   "cell_type": "code",
   "execution_count": 13,
   "metadata": {},
   "outputs": [
    {
     "name": "stdout",
     "output_type": "stream",
     "text": [
      "BRL 5143.3 is USD 1000\n"
     ]
    }
   ],
   "source": [
    "import requests\n",
    "\n",
    "APP_ID = \"\"\n",
    "ENDPOINT = \"https://openexchangerates.org/api/latest.json\"\n",
    "\n",
    "response = requests.get(f\"{ENDPOINT}?app_id={APP_ID}\")\n",
    "exchange_rates = response.json()\n",
    "#print(exchange_rates[\"rates\"][\"BRL\"])\n",
    "\n",
    "usd_amount = 1000\n",
    "brl_amount = usd_amount * exchange_rates[\"rates\"][\"BRL\"]\n",
    "\n",
    "print(f\"BRL {brl_amount} is USD {usd_amount}\")"
   ]
  },
  {
   "cell_type": "markdown",
   "metadata": {},
   "source": [
    "## Creating a currency exchange rate library\n",
    "\n",
    "If we use a lib to interact with outside applications, it is common to define a package named libs and create a cliend (class that does the interaction with outside application).\n",
    "\n",
    "To see an example, check the [Creating a currency exchange rate library code](https://github.com/tecladocode/complete-python-course/tree/master/course_contents/16_interacting_with_apis/lectures/4_creating_a_currency_exchange_library)\n"
   ]
  },
  {
   "cell_type": "markdown",
   "metadata": {},
   "source": [
    "## Caching functions with functools\n",
    "\n",
    "We can use something like functools.lru_cache (least recently used) for caching function calls. That is, if you apply this decorator to a function and then you call the function with the same arguments 10 times, 9 of them will be really quick and the function won't evaluate.  \n",
    "\n",
    "Ex:\n",
    "`functools.lru_cache(maxsize=2)`, means that it will run and use just 1 slot in the cache.\n",
    "\n",
    "To check example, see [Caching functions with functools](https://github.com/tecladocode/complete-python-course/tree/master/course_contents/16_interacting_with_apis/lectures/5_caching_with_cachetools)\n",
    "\n",
    "This function will force the app to always use the cache and never refresh the data, because the arguments don't change. To define some window to refresh the data, other lib should be used:\n"
   ]
  },
  {
   "cell_type": "markdown",
   "metadata": {},
   "source": [
    "## TTL caches with cachetools\n",
    "\n",
    "We can use cachetools.TTLCache to cache a function call for up to a certain amount of time. When interacting with APIs it can be useful as sometimes we won't be interested in repeating the same call over and over.  \n",
    "\n",
    "Ex: \n",
    "`cache=TTLCache(maxsize=2, ttl=900)`, means that it will run and use just 1 slot in the cache during 900 seconds until interact with the server again.\n",
    "\n",
    "To check example, see [TTL caches with cachetools](https://github.com/tecladocode/complete-python-course/tree/master/course_contents/16_interacting_with_apis/lectures/6_functools_lru_cache)\n",
    "\n"
   ]
  },
  {
   "cell_type": "markdown",
   "metadata": {},
   "source": [
    "### [br.linkedin.com/in/jmilhomem](https://www.linkedin.com/in/jmilhomem/)"
   ]
  }
 ],
 "metadata": {
  "kernelspec": {
   "display_name": "Python 3",
   "language": "python",
   "name": "python3"
  },
  "language_info": {
   "codemirror_mode": {
    "name": "ipython",
    "version": 3
   },
   "file_extension": ".py",
   "mimetype": "text/x-python",
   "name": "python",
   "nbconvert_exporter": "python",
   "pygments_lexer": "ipython3",
   "version": "3.7.3"
  }
 },
 "nbformat": 4,
 "nbformat_minor": 2
}
