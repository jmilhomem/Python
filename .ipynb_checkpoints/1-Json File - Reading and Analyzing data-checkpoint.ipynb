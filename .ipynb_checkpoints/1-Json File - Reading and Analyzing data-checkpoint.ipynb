{
 "cells": [
  {
   "cell_type": "markdown",
   "metadata": {},
   "source": [
    "## Case of study:\n",
    "Importing JSON file to analyze data.\n",
    "\n",
    "Dataset contains:\n",
    "- Readers\n",
    "- Each book read and its category"
   ]
  },
  {
   "cell_type": "code",
   "execution_count": 49,
   "metadata": {},
   "outputs": [],
   "source": [
    "import json\n",
    "import pandas as pd\n",
    "import matplotlib.pyplot as plt"
   ]
  },
  {
   "cell_type": "code",
   "execution_count": 50,
   "metadata": {},
   "outputs": [],
   "source": [
    "#reading each row of the json file and appending it to a list\n",
    "json_data = []\n",
    "with open('files/Estudantes.json', encoding=\"utf-8\") as file_json:\n",
    "    for row in file_json:\n",
    "        json_data.append(json.loads(row))"
   ]
  },
  {
   "cell_type": "code",
   "execution_count": 51,
   "metadata": {},
   "outputs": [],
   "source": [
    "?json.loads"
   ]
  },
  {
   "cell_type": "markdown",
   "metadata": {},
   "source": [
    "\n",
    "### Exploring the datafile:\n",
    "\n"
   ]
  },
  {
   "cell_type": "code",
   "execution_count": 52,
   "metadata": {},
   "outputs": [
    {
     "name": "stdout",
     "output_type": "stream",
     "text": [
      "18\n"
     ]
    }
   ],
   "source": [
    "#count of lines\n",
    "print(len(json_data))"
   ]
  },
  {
   "cell_type": "code",
   "execution_count": 53,
   "metadata": {},
   "outputs": [
    {
     "name": "stdout",
     "output_type": "stream",
     "text": [
      "{'leitor': 'Maria', 'livros_lidos': [{'nome_livro': 'Livro A', 'categoria_livro': 'Romance'}, {'nome_livro': 'Livro B', 'categoria_livro': 'Romance'}]}\n"
     ]
    }
   ],
   "source": [
    "#First row of the file\n",
    "print(json_data[0])"
   ]
  },
  {
   "cell_type": "code",
   "execution_count": 54,
   "metadata": {},
   "outputs": [
    {
     "name": "stdout",
     "output_type": "stream",
     "text": [
      "Maria  -  Romance\n"
     ]
    }
   ],
   "source": [
    "#Listing the reader and the first category book listed in the Json file\n",
    "#READER -> json[row][column of reader],  CATEGORY BOOK -> json[row][item of the list of books][book's category]\n",
    "print(json_data[0]['leitor'], ' - ', json_data[0]['livros_lidos'][0]['categoria_livro'])\n"
   ]
  },
  {
   "cell_type": "markdown",
   "metadata": {},
   "source": [
    "Analyzing quantity of Read Books by Readers:\n"
   ]
  },
  {
   "cell_type": "code",
   "execution_count": 55,
   "metadata": {},
   "outputs": [
    {
     "name": "stdout",
     "output_type": "stream",
     "text": [
      "Maria 2\n",
      "José 3\n",
      "Chico 2\n",
      "Pedro 1\n",
      "Paulo 2\n",
      "Paula 4\n",
      "Flor 3\n",
      "Linda 3\n",
      "Paulina 3\n",
      "Mariazinha 2\n",
      "Josezinho 3\n",
      "Chiconildo 2\n",
      "Pedronildo 1\n",
      "Paulozildo 2\n",
      "Paulazina 4\n",
      "Florinda 3\n",
      "Lindanina 3\n",
      "Paulita 3\n"
     ]
    }
   ],
   "source": [
    "#lists quantity of books that were read by readers\n",
    "reader_qttbooks = []\n",
    "qttbooks = []\n",
    "for readers in range(0,len(json_data)):\n",
    "    \n",
    "    #creates a list of name of readers\n",
    "    reader_qttbooks.append(json_data[readers]['leitor'])\n",
    "    \n",
    "    #creates a list of readers and read books\n",
    "    qttbooks.append(len(json_data[readers]['livros_lidos']))\n",
    "    print(json_data[readers]['leitor'], len(json_data[readers]['livros_lidos']))\n"
   ]
  },
  {
   "cell_type": "code",
   "execution_count": 56,
   "metadata": {},
   "outputs": [
    {
     "name": "stdout",
     "output_type": "stream",
     "text": [
      "Maria         2\n",
      "José          3\n",
      "Chico         2\n",
      "Pedro         1\n",
      "Paulo         2\n",
      "Paula         4\n",
      "Flor          3\n",
      "Linda         3\n",
      "Paulina       3\n",
      "Mariazinha    2\n",
      "Josezinho     3\n",
      "Chiconildo    2\n",
      "Pedronildo    1\n",
      "Paulozildo    2\n",
      "Paulazina     4\n",
      "Florinda      3\n",
      "Lindanina     3\n",
      "Paulita       3\n",
      "dtype: int64\n"
     ]
    }
   ],
   "source": [
    "#creates a Serie with Readers and count of read books\n",
    "df_readersqtt = pd.Series(qttbooks, index = [reader_qttbooks])\n",
    "df_readersqtt.rename(columns={0: 'Qty_Books'}, inplace=True)\n",
    "print(df_readersqtt)"
   ]
  },
  {
   "cell_type": "code",
   "execution_count": 57,
   "metadata": {},
   "outputs": [
    {
     "data": {
      "image/png": "[encoded data removed]",
      "text/plain": [
       "<Figure size 432x288 with 1 Axes>"
      ]
     },
     "metadata": {
      "needs_background": "light"
     },
     "output_type": "display_data"
    }
   ],
   "source": [
    "#Creates a bar graph to see the quantity of read books by readers\n",
    "plt.figure()\n",
    "df_readersqtt.replace('(','').plot(kind='bar', fontsize=12)\n",
    "plt.xlabel (\"Readers\")\n",
    "plt.ylabel (\"Quantity of Books\")\n",
    "plt.title(\"Readers and Qty of Read Books\", fontsize=15)\n",
    "plt.show()"
   ]
  },
  {
   "cell_type": "markdown",
   "metadata": {},
   "source": [
    "\n",
    "\n",
    "### Analyzing quantity of read books' by book's category and by Readers :\n",
    "\n",
    "1. Creating a dataset with quantity of read books by category and readers, to make easier any analyze\n"
   ]
  },
  {
   "cell_type": "code",
   "execution_count": 58,
   "metadata": {},
   "outputs": [],
   "source": [
    "full_reader_data = []\n",
    "reader_data = []\n",
    "\n",
    "for row in range(0, len(json_data)):\n",
    "    #listing the row with books and categories\n",
    "    for books_categories in json_data[row]['livros_lidos']:\n",
    "        \n",
    "        #if the list has less than 3 items (columns), then the first item of the list will be the name of the Reader\n",
    "        if len(reader_data) < 3:\n",
    "            reader_data.append(json_data[row]['leitor'])\n",
    "\n",
    "        #if the list has 3 items (columns), then the list will be restarted and it will be included in the list of Readers\n",
    "        elif len(reader_data) == 3:\n",
    "            full_reader_data.append(reader_data)\n",
    "            reader_data = []\n",
    "            reader_data.append(json_data[row]['leitor'])\n",
    "\n",
    "        #listing each item of books and categories of a list by Readers\n",
    "        for book in books_categories.values():\n",
    "            reader_data.append(book)\n",
    "\n",
    "    #append the last reader_data of data into the list of all data\n",
    "    if row == (len(json_data)-1):\n",
    "        full_reader_data.append(reader_data)"
   ]
  },
  {
   "cell_type": "code",
   "execution_count": 59,
   "metadata": {},
   "outputs": [
    {
     "name": "stdout",
     "output_type": "stream",
     "text": [
      "[['Maria', 'Livro A', 'Romance'], ['Maria', 'Livro B', 'Romance'], ['José', 'Livro C', 'Comedia'], ['José', 'Livro D', 'Crime'], ['José', 'Livro E', 'Crime'], ['Chico', 'Livro D', 'Crime'], ['Chico', 'Livro E', 'Crime'], ['Pedro', 'Livro F', 'Técnico'], ['Paulo', 'Livro G', 'Técnico'], ['Paulo', 'Livro H', 'Técnico'], ['Paula', 'Livro C', 'Comedia'], ['Paula', 'Livro F', 'Técnico'], ['Paula', 'Livro G', 'Técnico'], ['Paula', 'Livro H', 'Técnico'], ['Flor', 'Livro A', 'Romance'], ['Flor', 'Livro B', 'Romance'], ['Flor', 'Livro E', 'Crime'], ['Linda', 'Livro A', 'Romance'], ['Linda', 'Livro B', 'Romance'], ['Linda', 'Livro C', 'Comedia'], ['Paulina', 'Livro C', 'Comedia'], ['Paulina', 'Livro H', 'Comedia'], ['Paulina', 'Livro F', 'Técnico'], ['Mariazinha', 'Livro A', 'Romance'], ['Mariazinha', 'Livro B', 'Romance'], ['Josezinho', 'Livro C', 'Comedia'], ['Josezinho', 'Livro D', 'Crime'], ['Josezinho', 'Livro E', 'Crime'], ['Chiconildo', 'Livro D', 'Crime'], ['Chiconildo', 'Livro E', 'Crime'], ['Pedronildo', 'Livro F', 'Técnico'], ['Paulozildo', 'Livro G', 'Técnico'], ['Paulozildo', 'Livro H', 'Técnico'], ['Paulazina', 'Livro C', 'Comedia'], ['Paulazina', 'Livro F', 'Técnico'], ['Paulazina', 'Livro G', 'Técnico'], ['Paulazina', 'Livro H', 'Técnico'], ['Florinda', 'Livro A', 'Romance'], ['Florinda', 'Livro B', 'Romance'], ['Florinda', 'Livro E', 'Crime'], ['Lindanina', 'Livro A', 'Romance'], ['Lindanina', 'Livro B', 'Romance'], ['Lindanina', 'Livro C', 'Comedia'], ['Paulita', 'Livro C', 'Comedia'], ['Paulita', 'Livro H', 'Comedia'], ['Paulita', 'Livro F', 'Técnico']]\n"
     ]
    }
   ],
   "source": [
    "print(full_reader_data)"
   ]
  },
  {
   "cell_type": "code",
   "execution_count": 60,
   "metadata": {},
   "outputs": [
    {
     "name": "stdout",
     "output_type": "stream",
     "text": [
      "        Leitor    Livro Categoria\n",
      "0        Maria  Livro A   Romance\n",
      "1        Maria  Livro B   Romance\n",
      "2         José  Livro C   Comedia\n",
      "3         José  Livro D     Crime\n",
      "4         José  Livro E     Crime\n",
      "5        Chico  Livro D     Crime\n",
      "6        Chico  Livro E     Crime\n",
      "7        Pedro  Livro F   Técnico\n",
      "8        Paulo  Livro G   Técnico\n",
      "9        Paulo  Livro H   Técnico\n",
      "10       Paula  Livro C   Comedia\n",
      "11       Paula  Livro F   Técnico\n",
      "12       Paula  Livro G   Técnico\n",
      "13       Paula  Livro H   Técnico\n",
      "14        Flor  Livro A   Romance\n",
      "15        Flor  Livro B   Romance\n",
      "16        Flor  Livro E     Crime\n",
      "17       Linda  Livro A   Romance\n",
      "18       Linda  Livro B   Romance\n",
      "19       Linda  Livro C   Comedia\n",
      "20     Paulina  Livro C   Comedia\n",
      "21     Paulina  Livro H   Comedia\n",
      "22     Paulina  Livro F   Técnico\n",
      "23  Mariazinha  Livro A   Romance\n",
      "24  Mariazinha  Livro B   Romance\n",
      "25   Josezinho  Livro C   Comedia\n",
      "26   Josezinho  Livro D     Crime\n",
      "27   Josezinho  Livro E     Crime\n",
      "28  Chiconildo  Livro D     Crime\n",
      "29  Chiconildo  Livro E     Crime\n",
      "30  Pedronildo  Livro F   Técnico\n",
      "31  Paulozildo  Livro G   Técnico\n",
      "32  Paulozildo  Livro H   Técnico\n",
      "33   Paulazina  Livro C   Comedia\n",
      "34   Paulazina  Livro F   Técnico\n",
      "35   Paulazina  Livro G   Técnico\n",
      "36   Paulazina  Livro H   Técnico\n",
      "37    Florinda  Livro A   Romance\n",
      "38    Florinda  Livro B   Romance\n",
      "39    Florinda  Livro E     Crime\n",
      "40   Lindanina  Livro A   Romance\n",
      "41   Lindanina  Livro B   Romance\n",
      "42   Lindanina  Livro C   Comedia\n",
      "43     Paulita  Livro C   Comedia\n",
      "44     Paulita  Livro H   Comedia\n",
      "45     Paulita  Livro F   Técnico\n"
     ]
    }
   ],
   "source": [
    "#create a dataframe and replace the implicite names by explicite names\n",
    "df_jsondata = pd.DataFrame(full_reader_data)\n",
    "df_jsondata.rename(columns = {0:\"Leitor\", 1:\"Livro\", 2:\"Categoria\"}, inplace=True)\n",
    "print(df_jsondata)"
   ]
  },
  {
   "cell_type": "markdown",
   "metadata": {},
   "source": [
    "Analyzing quantity of Readers by book"
   ]
  },
  {
   "cell_type": "code",
   "execution_count": 61,
   "metadata": {},
   "outputs": [
    {
     "name": "stdout",
     "output_type": "stream",
     "text": [
      "         Leitor  Categoria\n",
      "Livro                     \n",
      "Livro A       6          6\n",
      "Livro B       6          6\n",
      "Livro C       8          8\n",
      "Livro D       4          4\n",
      "Livro E       6          6\n",
      "Livro F       6          6\n",
      "Livro G       4          4\n",
      "Livro H       6          6\n"
     ]
    }
   ],
   "source": [
    "#Analyze qty of readers by book\n",
    "print(df_jsondata.groupby(['Livro']).count())"
   ]
  },
  {
   "cell_type": "code",
   "execution_count": 62,
   "metadata": {},
   "outputs": [
    {
     "data": {
      "image/png": "[encoded data removed]",
      "text/plain": [
       "<Figure size 432x288 with 1 Axes>"
      ]
     },
     "metadata": {
      "needs_background": "light"
     },
     "output_type": "display_data"
    }
   ],
   "source": [
    "# Create a bar graph with qty of readers by book\n",
    "plt.figure()\n",
    "df_jsondata.groupby(['Livro']).count()['Leitor'].plot(kind='bar', fontsize=12)\n",
    "plt.xlabel(\"Books\")\n",
    "plt.ylabel(\"Quantity of Books\")\n",
    "plt.title(\"Books and Qty of Readers\", fontsize=15)\n",
    "plt.show()"
   ]
  },
  {
   "cell_type": "code",
   "execution_count": 63,
   "metadata": {},
   "outputs": [
    {
     "data": {
      "image/png": "[encoded data removed]",
      "text/plain": [
       "<Figure size 432x288 with 1 Axes>"
      ]
     },
     "metadata": {},
     "output_type": "display_data"
    }
   ],
   "source": [
    "# Create a pie graph with qty of readers by book\n",
    "sizes = df_jsondata.groupby(['Livro']).count()['Leitor']\n",
    "labels = df_jsondata.Livro.unique()\n",
    "explode = (0, 0, 0.1, 0, 0, 0, 0, 0)  # explode 1st slice\n",
    "plt.pie(sizes, explode=explode, colors=None, autopct='%1.1f%%', labels=labels, shadow=True)\n",
    " \n",
    "plt.axis('equal')\n",
    "plt.show()"
   ]
  },
  {
   "cell_type": "markdown",
   "metadata": {},
   "source": [
    "Analyzing qty of readers by books' categories"
   ]
  },
  {
   "cell_type": "code",
   "execution_count": 64,
   "metadata": {},
   "outputs": [
    {
     "data": {
      "text/plain": [
       "Categoria\n",
       "Comedia    10\n",
       "Crime      10\n",
       "Romance    12\n",
       "Técnico    14\n",
       "Name: Leitor, dtype: int64"
      ]
     },
     "execution_count": 64,
     "metadata": {},
     "output_type": "execute_result"
    }
   ],
   "source": [
    "#Analyze qty of readers by books' categories\n",
    "df_jsondata.groupby(['Categoria']).count()['Leitor']"
   ]
  },
  {
   "cell_type": "code",
   "execution_count": 65,
   "metadata": {},
   "outputs": [
    {
     "data": {
      "image/png": "[encoded data removed]",
      "text/plain": [
       "<Figure size 432x288 with 1 Axes>"
      ]
     },
     "metadata": {
      "needs_background": "light"
     },
     "output_type": "display_data"
    }
   ],
   "source": [
    "#Creates a bar graph to see qty of readers by books' categories\n",
    "plt.figure()\n",
    "df_jsondata.groupby(['Categoria']).count()['Leitor'].plot(kind='bar', fontsize=12)\n",
    "plt.xlabel(\"Books' Category\")\n",
    "plt.ylabel(\"Quantity of Readers\")\n",
    "plt.title(\"Books's Category and Qty of Readers\", fontsize =14)\n",
    "plt.show()\n",
    "\n",
    "                                           "
   ]
  },
  {
   "cell_type": "code",
   "execution_count": 66,
   "metadata": {},
   "outputs": [
    {
     "data": {
      "image/png": "[encoded data removed]",
      "text/plain": [
       "<Figure size 432x288 with 1 Axes>"
      ]
     },
     "metadata": {},
     "output_type": "display_data"
    }
   ],
   "source": [
    "# Create a pie graph to see qty of readers by books' categories\n",
    "sizes = df_jsondata.groupby(['Categoria']).count()['Leitor']\n",
    "labels = df_jsondata.Categoria.unique()\n",
    "plt.pie(sizes, autopct='%1.1f%%', labels=labels, shadow=False)\n",
    "plt.axis('equal')\n",
    "plt.show()"
   ]
  },
  {
   "cell_type": "markdown",
   "metadata": {},
   "source": [
    "## Exporting dataframe to TXT file"
   ]
  },
  {
   "cell_type": "code",
   "execution_count": 67,
   "metadata": {
    "scrolled": true
   },
   "outputs": [
    {
     "name": "stdout",
     "output_type": "stream",
     "text": [
      "'Maria' 'Livro A' 'Romance'\n",
      "'Maria' 'Livro B' 'Romance'\n",
      "'José' 'Livro C' 'Comedia'\n",
      "'José' 'Livro D' 'Crime'\n",
      "'José' 'Livro E' 'Crime'\n",
      "'Chico' 'Livro D' 'Crime'\n",
      "'Chico' 'Livro E' 'Crime'\n",
      "'Pedro' 'Livro F' 'Técnico'\n",
      "'Paulo' 'Livro G' 'Técnico'\n",
      "'Paulo' 'Livro H' 'Técnico'\n",
      "'Paula' 'Livro C' 'Comedia'\n",
      "'Paula' 'Livro F' 'Técnico'\n",
      "'Paula' 'Livro G' 'Técnico'\n",
      "'Paula' 'Livro H' 'Técnico'\n",
      "'Flor' 'Livro A' 'Romance'\n",
      "'Flor' 'Livro B' 'Romance'\n",
      "'Flor' 'Livro E' 'Crime'\n",
      "'Linda' 'Livro A' 'Romance'\n",
      "'Linda' 'Livro B' 'Romance'\n",
      "'Linda' 'Livro C' 'Comedia'\n",
      "'Paulina' 'Livro C' 'Comedia'\n",
      "'Paulina' 'Livro H' 'Comedia'\n",
      "'Paulina' 'Livro F' 'Técnico'\n",
      "'Mariazinha' 'Livro A' 'Romance'\n",
      "'Mariazinha' 'Livro B' 'Romance'\n",
      "'Josezinho' 'Livro C' 'Comedia'\n",
      "'Josezinho' 'Livro D' 'Crime'\n",
      "'Josezinho' 'Livro E' 'Crime'\n",
      "'Chiconildo' 'Livro D' 'Crime'\n",
      "'Chiconildo' 'Livro E' 'Crime'\n",
      "'Pedronildo' 'Livro F' 'Técnico'\n",
      "'Paulozildo' 'Livro G' 'Técnico'\n",
      "'Paulozildo' 'Livro H' 'Técnico'\n",
      "'Paulazina' 'Livro C' 'Comedia'\n",
      "'Paulazina' 'Livro F' 'Técnico'\n",
      "'Paulazina' 'Livro G' 'Técnico'\n",
      "'Paulazina' 'Livro H' 'Técnico'\n",
      "'Florinda' 'Livro A' 'Romance'\n",
      "'Florinda' 'Livro B' 'Romance'\n",
      "'Florinda' 'Livro E' 'Crime'\n",
      "'Lindanina' 'Livro A' 'Romance'\n",
      "'Lindanina' 'Livro B' 'Romance'\n",
      "'Lindanina' 'Livro C' 'Comedia'\n",
      "'Paulita' 'Livro C' 'Comedia'\n",
      "'Paulita' 'Livro H' 'Comedia'\n",
      "'Paulita' 'Livro F' 'Técnico'\n"
     ]
    }
   ],
   "source": [
    "#Export with space column delimiter\n",
    "txtFile = open(\"files/Estudantes.txt\", \"w\")\n",
    "for row in df_jsondata.values:\n",
    "    #print (index, row)\n",
    "    #print(index, row['Leitor'],row['Livro'], row['Categoria'])\n",
    "    print(str(row).replace('[', '').replace(']', ''))\n",
    "    txtFile.write(str(row).replace('[', '').replace(']', ''))\n",
    "    txtFile.write(\"\\n\")\n",
    "txtFile.close()"
   ]
  },
  {
   "cell_type": "code",
   "execution_count": 68,
   "metadata": {},
   "outputs": [
    {
     "name": "stdout",
     "output_type": "stream",
     "text": [
      "'Maria','Livro A','Romance'\n",
      "'Maria','Livro B','Romance'\n",
      "'José','Livro C','Comedia'\n",
      "'José','Livro D','Crime'\n",
      "'José','Livro E','Crime'\n",
      "'Chico','Livro D','Crime'\n",
      "'Chico','Livro E','Crime'\n",
      "'Pedro','Livro F','Técnico'\n",
      "'Paulo','Livro G','Técnico'\n",
      "'Paulo','Livro H','Técnico'\n",
      "'Paula','Livro C','Comedia'\n",
      "'Paula','Livro F','Técnico'\n",
      "'Paula','Livro G','Técnico'\n",
      "'Paula','Livro H','Técnico'\n",
      "'Flor','Livro A','Romance'\n",
      "'Flor','Livro B','Romance'\n",
      "'Flor','Livro E','Crime'\n",
      "'Linda','Livro A','Romance'\n",
      "'Linda','Livro B','Romance'\n",
      "'Linda','Livro C','Comedia'\n",
      "'Paulina','Livro C','Comedia'\n",
      "'Paulina','Livro H','Comedia'\n",
      "'Paulina','Livro F','Técnico'\n",
      "'Mariazinha','Livro A','Romance'\n",
      "'Mariazinha','Livro B','Romance'\n",
      "'Josezinho','Livro C','Comedia'\n",
      "'Josezinho','Livro D','Crime'\n",
      "'Josezinho','Livro E','Crime'\n",
      "'Chiconildo','Livro D','Crime'\n",
      "'Chiconildo','Livro E','Crime'\n",
      "'Pedronildo','Livro F','Técnico'\n",
      "'Paulozildo','Livro G','Técnico'\n",
      "'Paulozildo','Livro H','Técnico'\n",
      "'Paulazina','Livro C','Comedia'\n",
      "'Paulazina','Livro F','Técnico'\n",
      "'Paulazina','Livro G','Técnico'\n",
      "'Paulazina','Livro H','Técnico'\n",
      "'Florinda','Livro A','Romance'\n",
      "'Florinda','Livro B','Romance'\n",
      "'Florinda','Livro E','Crime'\n",
      "'Lindanina','Livro A','Romance'\n",
      "'Lindanina','Livro B','Romance'\n",
      "'Lindanina','Livro C','Comedia'\n",
      "'Paulita','Livro C','Comedia'\n",
      "'Paulita','Livro H','Comedia'\n",
      "'Paulita','Livro F','Técnico'\n"
     ]
    }
   ],
   "source": [
    "#Export with colon column delimiter\n",
    "txtFile = open(\"files/Estudantes.txt\", \"w\")\n",
    "\n",
    "for index, row in df_jsondata.iterrows():\n",
    "    print(\"'\" + row['Leitor'] + \"','\" + row['Livro'] + \"','\" + row['Categoria'] + \"'\") \n",
    "    txtFile.write(\"'\" + row['Leitor'] + \"','\" + row['Livro'] + \"','\" + row['Categoria'] + \"'\")\n",
    "    txtFile.write(\"\\n\")\n",
    "\n",
    "txtFile.close()"
   ]
  },
  {
   "cell_type": "markdown",
   "metadata": {},
   "source": [
    "### <a href=https://www.linkedin.com/in/jmilhomem/>br.linkedin.com/in/jmilhomem</a> ###"
   ]
  }
 ],
 "metadata": {
  "kernelspec": {
   "display_name": "Python 3",
   "language": "python",
   "name": "python3"
  },
  "language_info": {
   "codemirror_mode": {
    "name": "ipython",
    "version": 3
   },
   "file_extension": ".py",
   "mimetype": "text/x-python",
   "name": "python",
   "nbconvert_exporter": "python",
   "pygments_lexer": "ipython3",
   "version": "3.7.0"
  }
 },
 "nbformat": 4,
 "nbformat_minor": 2
}
