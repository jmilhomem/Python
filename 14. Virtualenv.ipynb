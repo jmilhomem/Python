{
 "cells": [
  {
   "cell_type": "markdown",
   "metadata": {},
   "source": [
    "# How to use virtualenv\n",
    "VirtualEnv is an virtual environment used to create projects in order to have different requirements for each one not impacting others.\n",
    "\n",
    "\n",
    "To install it:  \n",
    "```pip install virtualenv```\n",
    "\n",
    "To create a new virtual environment:  \n",
    "```virtualenv venv python=ṕython3```\n",
    "\n",
    "To check the libraries installed inside the virtualenv:  \n",
    "```pip freeze```\n",
    "\n",
    "To save a file with all libraries installed inside the virtualenv:  \n",
    "```pip freeze > requirements.txt```\n",
    "\n",
    "To install all libraries defined inside the virtualenv:  \n",
    "```pip install -r requirements.txt```\n",
    "\n",
    "To check the path that the Python was installed inside the virtualenv:  \n",
    "```which python```\n",
    "\n",
    "To install the pipenv (brings together pip , virtualenv , and a dependency management system):  \n",
    "```pip install pipenv```  \n",
    "```pip3 install --upgrade pip```  \n",
    "\n",
    "To install the requirements:    \n",
    "```pipenv install requests```\n",
    "\n",
    "To create a virtualenv and install all the requirements inside the virtualenv  \n",
    "```pipenv install```\n",
    "\n",
    "When you share the project with someone else, you’ll share both the Pipfile (which tells them what to install), and the Pipfile.lock (which tells them which versions of things to install.\n",
    "\n",
    "To run pipenv:  \n",
    "```pipenv run python```\n",
    "\n"
   ]
  },
  {
   "cell_type": "markdown",
   "metadata": {},
   "source": [
    "## Creating the virtualenv using pipenv for flask develop"
   ]
  },
  {
   "cell_type": "markdown",
   "metadata": {},
   "source": [
    "install the flask environment  \n",
    "```pipenv install flask```  \n",
    "\n",
    "To start the environment  \n",
    "```pipenv shell``` \n",
    "\n"
   ]
  },
  {
   "cell_type": "code",
   "execution_count": null,
   "metadata": {},
   "outputs": [],
   "source": []
  },
  {
   "cell_type": "code",
   "execution_count": null,
   "metadata": {},
   "outputs": [],
   "source": []
  },
  {
   "cell_type": "markdown",
   "metadata": {},
   "source": [
    "### [br.linkedin.com/in/jmilhomem](https://www.linkedin.com/in/jmilhomem/)"
   ]
  }
 ],
 "metadata": {
  "kernelspec": {
   "display_name": "Python 3",
   "language": "python",
   "name": "python3"
  },
  "language_info": {
   "codemirror_mode": {
    "name": "ipython",
    "version": 3
   },
   "file_extension": ".py",
   "mimetype": "text/x-python",
   "name": "python",
   "nbconvert_exporter": "python",
   "pygments_lexer": "ipython3",
   "version": "3.7.3"
  }
 },
 "nbformat": 4,
 "nbformat_minor": 2
}
