{
 "cells": [
  {
   "cell_type": "markdown",
   "metadata": {},
   "source": [
    "\n",
    "Some scripts below were developed based on exercises of [Teclado Code](http://blog.tecladocode.com/)\n"
   ]
  },
  {
   "cell_type": "markdown",
   "metadata": {},
   "source": [
    "## Practicing Importing and Exporting Files in Python\n",
    "\n",
    "### Importing files\n",
    "* Readlines method reads each line and consider the \"enter\" as the end of the file"
   ]
  },
  {
   "cell_type": "markdown",
   "metadata": {},
   "source": [
    "### TXT Files\n",
    "Importing data from a txt file and sending the result for another txt file."
   ]
  },
  {
   "cell_type": "code",
   "execution_count": 8,
   "metadata": {},
   "outputs": [
    {
     "name": "stdout",
     "output_type": "stream",
     "text": [
      "\n",
      "What is the result for 1+1=: 2\n",
      "\n",
      "What is the result for 2+2=: 4\n",
      "\n",
      "What is the result for 8-4=: 5\n",
      "\n",
      "What is the result for 37-49=: 80\n",
      "\n",
      "What is the result for 22+59=: 80\n",
      "Your final score is 2/5.\n"
     ]
    }
   ],
   "source": [
    "# Read the file and apply strip to clean the left and right of the file\n",
    "file = open(\"files/Questions_Quizz.txt\", \"r\") #set up the file\n",
    "file_read = [uniquerow.strip() for uniquerow in file.readlines()]\n",
    "file.close() #turning down the file\n",
    "\n",
    "\n",
    "#apply the rules for the quizz\n",
    "right_answer = []\n",
    "for topic in file_read:\n",
    "    question = topic[:topic.find(\"=\")+1]\n",
    "    answer = topic[topic.find(\"=\")+1:]\n",
    "    user_answer = int(input(f\"\\nWhat is the result for {question}: \"))\n",
    "\n",
    "    if int(user_answer) == int(answer):\n",
    "        right_answer.append(user_answer)\n",
    "\n",
    "n_questions = len(file_read)\n",
    "n_right_answer = len(right_answer)\n",
    "print(f\"Your final score is {n_right_answer}/{n_questions}.\")\n",
    "\n",
    "#It creates a file and send the result for another file\n",
    "result = open(\"files/Result_Quizz_Score.txt\", \"w\")\n",
    "result.write(f\"Your final score is {n_right_answer}/{n_questions}.\")\n",
    "result.close()\n"
   ]
  },
  {
   "cell_type": "markdown",
   "metadata": {},
   "source": [
    "Another example about how to do the same quizz program."
   ]
  },
  {
   "cell_type": "code",
   "execution_count": 6,
   "metadata": {},
   "outputs": [
    {
     "name": "stdout",
     "output_type": "stream",
     "text": [
      "1+1=2\n",
      "2 2\n",
      "2+2=4\n",
      "4 4\n",
      "8-4=4\n",
      "4 4\n",
      "37-49=-12\n",
      "-12 -12\n",
      "22+59=81\n",
      "81 81\n",
      "Your final score is 5/5.\n"
     ]
    }
   ],
   "source": [
    "# read from questions.txt and append each line into a list\n",
    "questions = open('files/Questions_Quizz.txt', 'r')  # read from questions.txt\n",
    "question_list = [line.strip() for line in questions.readlines()]    # read all lines and get rid of line break for each line, then append each stripped line to a list\n",
    "questions.close()\n",
    " \n",
    "score = 0   # initialize score\n",
    "total = len(question_list)      # set total score\n",
    " \n",
    "for line in question_list:\n",
    "    q, a = line.split('=')  # split equation with `=` into question and answer\n",
    "    ans = input('{}='.format(q))    # print question and wait for user to input their answer\n",
    "    if a == ans:    # if user input matches answer\n",
    "        score += 1  # increase score\n",
    "    #print(a, ans)\n",
    "print(f\"Your final score is {score}/{total}.\")\n",
    "        \n",
    "#It creates a file and send the result for another file\n",
    "result = open('files/Result_Quizz_Score.txt', 'w')    # open result.txt\n",
    "result.write('Your final score is {}/{}.'.format(score, total))     # write final score to result.txt\n",
    "result.close()"
   ]
  },
  {
   "cell_type": "markdown",
   "metadata": {},
   "source": [
    "### CSV Files\n",
    "Reading data from a csv format file."
   ]
  },
  {
   "cell_type": "code",
   "execution_count": 13,
   "metadata": {},
   "outputs": [
    {
     "name": "stdout",
     "output_type": "stream",
     "text": [
      "['Name,Age, Degree, University\\n', 'Mary,29,Math,UB\\n', 'Jose,30,Math,UB']\n",
      "['Mary,29,Math,UB', 'Jose,30,Math,UB']\n",
      "Mary is 29, studying Ub at Math.\n",
      "Jose is 30, studying Ub at Math.\n",
      "Rolf,25,MIT,Computer Science\n"
     ]
    }
   ],
   "source": [
    "\n",
    "file = open(\"files/Students_csv.txt\", \"r\")\n",
    "file_read = file.readlines()\n",
    "print(file_read)\n",
    "file.close()\n",
    "\n",
    "# It is ignoring the title of the file\n",
    "lines = [line.strip() for line in file_read[1:]]\n",
    "print(lines)\n",
    "\n",
    "for line in lines:\n",
    "    person_data = line.split(\",\")\n",
    "    name = person_data[0].title()\n",
    "    age = person_data[1]\n",
    "    university = person_data[2].title()\n",
    "    degree = person_data[3].capitalize()\n",
    "\n",
    "    print(f\"{name} is {age}, studying {degree} at {university}.\")\n",
    "\n",
    "sample_csv_value = \",\".join([\"Rolf\", \"25\", \"MIT\", \"Computer Science\"])\n",
    "print(sample_csv_value)\n"
   ]
  },
  {
   "cell_type": "markdown",
   "metadata": {},
   "source": [
    "### JSON Files\n",
    "Importing json Files\n",
    "\n",
    "* <b>json.load</b> = Tranforms the file read (string) into Python object (dictionary /list)\n",
    "* <b>json.dump</b> = Tranforms Python object (dictionary/lists) into serialized objects (string)for files\n",
    "* <b>json.loads</b> = Tranforms serialized objects (string) into Python object (dictionary /lists)\n",
    "* <b>json.dumps</b> = Tranforms Python object (dictionary/lists) into serialized objects (string)\n"
   ]
  },
  {
   "cell_type": "markdown",
   "metadata": {},
   "source": [
    "Importing a json file:"
   ]
  },
  {
   "cell_type": "code",
   "execution_count": 14,
   "metadata": {},
   "outputs": [
    {
     "name": "stdout",
     "output_type": "stream",
     "text": [
      "{'name': 'Jose', 'degree': 'Applied Computing'}\n"
     ]
    }
   ],
   "source": [
    "import json\n",
    "\n",
    "file = open(\"files/Friends.json\", \"r\")\n",
    "file_contents = json.load(file) #turns the file read into a dictionary\n",
    "file.close()\n",
    "\n",
    "#reads the first line\n",
    "print(file_contents[\"friends\"][0])"
   ]
  },
  {
   "cell_type": "markdown",
   "metadata": {},
   "source": [
    "Writing a json file:"
   ]
  },
  {
   "cell_type": "code",
   "execution_count": 15,
   "metadata": {},
   "outputs": [],
   "source": [
    "another_friends =[\n",
    "    {\"name\": \"Clara\", \"degree\": \"English\"},\n",
    "    {\"name\": \"Ricardo\", \"degree\": \"Science Computer\"}\n",
    "]\n",
    "\n",
    "#dump serialize (transforms it into a string) the variable that is in dictionary format\n",
    "file = open(\"files/Another_friends.json\", \"w\")\n",
    "json.dump(another_friends, file)\n",
    "file.close()"
   ]
  },
  {
   "cell_type": "markdown",
   "metadata": {},
   "source": [
    "Example of how to transform a string into a Python object"
   ]
  },
  {
   "cell_type": "code",
   "execution_count": 16,
   "metadata": {},
   "outputs": [
    {
     "name": "stdout",
     "output_type": "stream",
     "text": [
      "Alfa\n"
     ]
    }
   ],
   "source": [
    "my_json_string = '[{\"name\": \"Alfa\", \"released\": 1950}]'\n",
    "\n",
    "incorrect_car = json.loads(my_json_string)\n",
    "print(incorrect_car[0][\"name\"])"
   ]
  },
  {
   "cell_type": "markdown",
   "metadata": {},
   "source": [
    "In the example listed below, a csv is being read and then it is being written on a json file"
   ]
  },
  {
   "cell_type": "code",
   "execution_count": 17,
   "metadata": {},
   "outputs": [],
   "source": [
    "import json\n",
    "\n",
    "# Read the csv file and creates the lists\n",
    "csv_file = open(\"files/Soccer_teams.csv\", \"r\")\n",
    "r_csv_file = [file.strip() for file in csv_file.readlines()]\n",
    "csv_file.close()\n",
    "\n",
    "\n",
    "# Tranform the string into a dictionary structure\n",
    "json_structure = []\n",
    "for row in r_csv_file:\n",
    "    club, city, country = row.split(\",\")\n",
    "    json_structure.append({\"club\":club, \"city\":city, \"country\":country})\n",
    "\n",
    "\n",
    "# Transform the Python object into string using dump method\n",
    "json_file = open(\"files/Soccer_teams.json\", \"w\")\n",
    "json.dump(json_structure, json_file)\n",
    "json_file.close()"
   ]
  },
  {
   "cell_type": "markdown",
   "metadata": {},
   "source": [
    "### Using Context Managers"
   ]
  },
  {
   "cell_type": "code",
   "execution_count": 18,
   "metadata": {},
   "outputs": [],
   "source": [
    "import json\n",
    "\n",
    "# Read the csv file and creates the lists\n",
    "with open(\"files/Soccer_teams.csv\", \"r\") as csv_file:\n",
    "    r_csv_file = [file.strip() for file in csv_file.readlines()]\n",
    "\n",
    "# Tranform the string into a dictionary structure\n",
    "json_structure = []\n",
    "for row in r_csv_file:\n",
    "    club, city, country = row.split(\",\")\n",
    "    json_structure.append({\"club\":club, \"city\":city, \"country\":country})\n",
    "\n",
    "\n",
    "# Transform the Python object into string using dump method\n",
    "with open(\"files/Soccer_teams.json\", \"w\") as json_file:\n",
    "    json.dump(json_structure, json_file)"
   ]
  },
  {
   "cell_type": "code",
   "execution_count": null,
   "metadata": {},
   "outputs": [],
   "source": []
  },
  {
   "cell_type": "markdown",
   "metadata": {},
   "source": [
    "### <a href=https://www.linkedin.com/in/jmilhomem/>br.linkedin.com/in/jmilhomem</a> ###"
   ]
  }
 ],
 "metadata": {
  "kernelspec": {
   "display_name": "Python 3",
   "language": "python",
   "name": "python3"
  },
  "language_info": {
   "codemirror_mode": {
    "name": "ipython",
    "version": 3
   },
   "file_extension": ".py",
   "mimetype": "text/x-python",
   "name": "python",
   "nbconvert_exporter": "python",
   "pygments_lexer": "ipython3",
   "version": "3.7.3"
  }
 },
 "nbformat": 4,
 "nbformat_minor": 2
}
