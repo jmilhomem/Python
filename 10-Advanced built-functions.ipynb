{
 "cells": [
  {
   "cell_type": "markdown",
   "metadata": {},
   "source": [
    "\n",
    "The scripts below were developed based on exercises of [Teclado Code](http://blog.tecladocode.com/)\n"
   ]
  },
  {
   "cell_type": "markdown",
   "metadata": {},
   "source": [
    "## Python - Advanced built-functions"
   ]
  },
  {
   "cell_type": "markdown",
   "metadata": {},
   "source": [
    "### Generators\n",
    "- Function that remembers the state between executions.\n",
    "- It is commonly used to store work with assynchronous jobs.\n",
    "- Once read, it is not possible go bach of some data that was already read."
   ]
  },
  {
   "cell_type": "markdown",
   "metadata": {},
   "source": [
    "<b>Scenario:</b>\n",
    "We want to read a really big list that is beind represented by this loop that is creating a sequential number from 0 until 99. "
   ]
  },
  {
   "cell_type": "code",
   "execution_count": 6,
   "metadata": {},
   "outputs": [
    {
     "name": "stdout",
     "output_type": "stream",
     "text": [
      "Result of the common function: \n",
      " [0, 1, 2, 3, 4, 5, 6, 7, 8, 9, 10, 11, 12, 13, 14, 15, 16, 17, 18, 19, 20, 21, 22, 23, 24, 25, 26, 27, 28, 29, 30, 31, 32, 33, 34, 35, 36, 37, 38, 39, 40, 41, 42, 43, 44, 45, 46, 47, 48, 49, 50, 51, 52, 53, 54, 55, 56, 57, 58, 59, 60, 61, 62, 63, 64, 65, 66, 67, 68, 69, 70, 71, 72, 73, 74, 75, 76, 77, 78, 79, 80, 81, 82, 83, 84, 85, 86, 87, 88, 89, 90, 91, 92, 93, 94, 95, 96, 97, 98, 99]\n",
      "\n",
      "Print of the list compreension working with a function: \n",
      " [0, 2, 4, 6, 8, 10, 12, 14, 16, 18, 20, 22, 24, 26, 28, 30, 32, 34, 36, 38, 40, 42, 44, 46, 48, 50, 52, 54, 56, 58, 60, 62, 64, 66, 68, 70, 72, 74, 76, 78, 80, 82, 84, 86, 88, 90, 92, 94, 96, 98, 100, 102, 104, 106, 108, 110, 112, 114, 116, 118, 120, 122, 124, 126, 128, 130, 132, 134, 136, 138, 140, 142, 144, 146, 148, 150, 152, 154, 156, 158, 160, 162, 164, 166, 168, 170, 172, 174, 176, 178, 180, 182, 184, 186, 188, 190, 192, 194, 196, 198]\n"
     ]
    }
   ],
   "source": [
    "#Common function created to generate numbers between 0 and 100\n",
    "def hundred_numbers():\n",
    "    nums =[]\n",
    "    i=0\n",
    "    while i<100:\n",
    "        nums.append(i)\n",
    "        i += 1\n",
    "    return nums\n",
    "\n",
    "#Prints the result of the function\n",
    "print(\"Result of the common function: \\n\", hundred_numbers())\n",
    "\n",
    "#List compreension created to use a function and calculate each value\n",
    "print(\"\\nPrint of the list compreension working with a function: \\n\", [x * 2 for x in hundred_numbers()])"
   ]
  },
  {
   "cell_type": "markdown",
   "metadata": {},
   "source": [
    "As the common loops the whole lists on memory, with this supposed case with a lot of data, the objective is to use a generator.\n",
    "\n",
    "Generator doesn't store the whole list on memory, it stores the first value\n",
    "that was returned and considers it to pass the second number for the call that was done.\n",
    "Each execution just one value is stored on memory.\n",
    "print([x * 2 for x in hundred_numbers()])"
   ]
  },
  {
   "cell_type": "code",
   "execution_count": 26,
   "metadata": {},
   "outputs": [],
   "source": [
    "#Generator created\n",
    "def hundred_numbers():\n",
    "    i=0\n",
    "    while i<100:\n",
    "        #The yeld is the syntax that garantees the storage of each value individually\n",
    "        yield i\n",
    "        i += 1"
   ]
  },
  {
   "cell_type": "code",
   "execution_count": 27,
   "metadata": {},
   "outputs": [],
   "source": [
    "#The generator object is stored into a variavel\n",
    "g = hundred_numbers()"
   ]
  },
  {
   "cell_type": "code",
   "execution_count": null,
   "metadata": {},
   "outputs": [],
   "source": [
    "#Now, we are getting the first value that the generator stored.\n",
    "print(next(g))\n"
   ]
  },
  {
   "cell_type": "code",
   "execution_count": null,
   "metadata": {},
   "outputs": [],
   "source": [
    "#Now, we are getting the second value\n",
    "print(next(g))"
   ]
  },
  {
   "cell_type": "code",
   "execution_count": null,
   "metadata": {},
   "outputs": [],
   "source": [
    "#Now, we are getting the rest of values\n",
    "print(list(g))"
   ]
  },
  {
   "cell_type": "markdown",
   "metadata": {},
   "source": [
    "Another example:"
   ]
  },
  {
   "cell_type": "code",
   "execution_count": 48,
   "metadata": {},
   "outputs": [],
   "source": [
    "def prime_generator(bound):\n",
    "    # your code starts here (delete the pass):\n",
    "    for n in range(2, bound):\n",
    "        for x in range(2, n):\n",
    "            if n%x == 0:\n",
    "                break\n",
    "        else:\n",
    "            yield n\n"
   ]
  },
  {
   "cell_type": "code",
   "execution_count": 51,
   "metadata": {},
   "outputs": [
    {
     "name": "stdout",
     "output_type": "stream",
     "text": [
      "2\n",
      "3\n",
      "[5, 7, 11, 13, 17, 19]\n"
     ]
    }
   ],
   "source": [
    "#The generator object is stored into a variavel\n",
    "g = prime_generator(20)\n",
    "print(next(g))\n",
    "print(next(g))\n",
    "print(list(g))"
   ]
  },
  {
   "cell_type": "code",
   "execution_count": 41,
   "metadata": {},
   "outputs": [
    {
     "name": "stdout",
     "output_type": "stream",
     "text": [
      "2 is a prime number.\n",
      "3 is a prime number.\n",
      "4 is a prime number.\n",
      "5 is a prime number.\n",
      "6 is a prime number.\n",
      "7 is a prime number.\n",
      "8 is a prime number.\n",
      "9 is a prime number.\n"
     ]
    }
   ],
   "source": [
    "for n in range(2, 10):\n",
    "    for x in range(2, 10):\n",
    "        if n%x == 0:\n",
    "            #print('{} equals {} * {}'.format(n, x, n//x))\n",
    "            #break\n",
    "            pass\n",
    "    else:\n",
    "        print('{} is a prime number.'.format(n))"
   ]
  },
  {
   "cell_type": "markdown",
   "metadata": {},
   "source": [
    "### Generators classes and iterators\n",
    "- All generators are iterators, but not all iterators are generators (example: Create an interator based on a list)\n",
    "\n",
    "<b> Iterator:</b> \n",
    "- All objects that has dunder next objects are called Iterators. Iterators allows us to create and pass values one by one. \n",
    "- Important: Iterators are not interable.It is possible to iterate from an interable, however, iterators just get the next value.\n"
   ]
  },
  {
   "cell_type": "code",
   "execution_count": 54,
   "metadata": {},
   "outputs": [
    {
     "name": "stdout",
     "output_type": "stream",
     "text": [
      "0\n",
      "1\n"
     ]
    }
   ],
   "source": [
    "class FirstHundredGenerator:\n",
    "    def __init__(self):\n",
    "        self.number=0\n",
    "        \n",
    "    def __next__(self):\n",
    "        if self.number < 100:\n",
    "            current = self.number\n",
    "            self.number += 1\n",
    "            return current\n",
    "        else:\n",
    "            raise StopIteration()\n",
    "\n",
    "my_gen = FirstHundredGenerator()\n",
    "print(next(my_gen))\n",
    "print(next(my_gen))"
   ]
  },
  {
   "cell_type": "code",
   "execution_count": null,
   "metadata": {},
   "outputs": [],
   "source": []
  },
  {
   "cell_type": "markdown",
   "metadata": {},
   "source": [
    "### <a href=https://www.linkedin.com/in/jmilhomem/>br.linkedin.com/in/jmilhomem</a> ###"
   ]
  }
 ],
 "metadata": {
  "kernelspec": {
   "display_name": "Python 3",
   "language": "python",
   "name": "python3"
  },
  "language_info": {
   "codemirror_mode": {
    "name": "ipython",
    "version": 3
   },
   "file_extension": ".py",
   "mimetype": "text/x-python",
   "name": "python",
   "nbconvert_exporter": "python",
   "pygments_lexer": "ipython3",
   "version": "3.7.0"
  }
 },
 "nbformat": 4,
 "nbformat_minor": 2
}
