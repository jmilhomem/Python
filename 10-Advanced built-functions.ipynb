{
 "cells": [
  {
   "cell_type": "markdown",
   "metadata": {},
   "source": [
    "\n",
    "The scripts below were developed based on exercises of [Teclado Code](http://blog.tecladocode.com/)\n"
   ]
  },
  {
   "cell_type": "markdown",
   "metadata": {},
   "source": [
    "## Python - Advanced built-functions"
   ]
  },
  {
   "cell_type": "markdown",
   "metadata": {},
   "source": [
    "### Generators\n",
    "- Function that remembers the state between executions.\n",
    "- It is commonly used to work with assynchronous jobs.\n",
    "- Once read, it is not possible go back of some previous state/data that was already read."
   ]
  },
  {
   "cell_type": "markdown",
   "metadata": {},
   "source": [
    "<b>Scenario:</b>\n",
    "We want to read a really big list that is being represented by this loop that is creating a sequential number from 0 until 99. "
   ]
  },
  {
   "cell_type": "code",
   "execution_count": 16,
   "metadata": {},
   "outputs": [
    {
     "name": "stdout",
     "output_type": "stream",
     "text": [
      "Result of the common function: \n",
      " [0, 1, 2, 3, 4, 5, 6, 7, 8, 9]\n",
      "\n",
      "Print of the list compreension working with a function: \n",
      " [0, 2, 4, 6, 8, 10, 12, 14, 16, 18]\n"
     ]
    }
   ],
   "source": [
    "#Common function created to generate numbers between 0 and 100\n",
    "def hundred_numbers():\n",
    "    nums =[]\n",
    "    i=0\n",
    "    while i<10:\n",
    "        nums.append(i)\n",
    "        i += 1\n",
    "    return nums\n",
    "\n",
    "#Prints the result of the function\n",
    "print(\"Result of the common function: \\n\", hundred_numbers())\n",
    "\n",
    "#List compreension created to use a function and calculate each value\n",
    "print(\"\\nPrint of the list compreension working with a function: \\n\", [x * 2 for x in hundred_numbers()])"
   ]
  },
  {
   "cell_type": "markdown",
   "metadata": {},
   "source": [
    "As the common loops, the whole lists will be pushed to the memory and stored there, with this supposed case with a lot of data, the objective is to use a generator and store just what is being used in memory.\n",
    "\n",
    "Generator doesn't store the whole list on memory, it stores the first value\n",
    "that was returned and considers it to pass the second number for the call that was done.\n",
    "For each execution, just one value is stored on memory."
   ]
  },
  {
   "cell_type": "code",
   "execution_count": 71,
   "metadata": {},
   "outputs": [],
   "source": [
    "#Generator Function created\n",
    "def hundred_numbers():\n",
    "    i=0\n",
    "    while i<100:\n",
    "        #The yeld is the syntax that garantees the storage of each value individually, by fetch/ execution\n",
    "        yield i\n",
    "        i += 1"
   ]
  },
  {
   "cell_type": "code",
   "execution_count": 27,
   "metadata": {},
   "outputs": [],
   "source": [
    "#The generator object is stored into a variavel\n",
    "g = hundred_numbers()"
   ]
  },
  {
   "cell_type": "code",
   "execution_count": null,
   "metadata": {},
   "outputs": [],
   "source": [
    "#Now, we are getting the first value that the generator stored.\n",
    "print(next(g))\n"
   ]
  },
  {
   "cell_type": "code",
   "execution_count": null,
   "metadata": {},
   "outputs": [],
   "source": [
    "#Now, we are getting the second value\n",
    "print(next(g))"
   ]
  },
  {
   "cell_type": "code",
   "execution_count": null,
   "metadata": {},
   "outputs": [],
   "source": [
    "#Now, we are getting the rest of values\n",
    "print(list(g))"
   ]
  },
  {
   "cell_type": "markdown",
   "metadata": {},
   "source": [
    "Another example:"
   ]
  },
  {
   "cell_type": "code",
   "execution_count": 48,
   "metadata": {},
   "outputs": [],
   "source": [
    "def prime_generator(bound):\n",
    "    # your code starts here (delete the pass):\n",
    "    for n in range(2, bound):\n",
    "        for x in range(2, n):\n",
    "            if n%x == 0:\n",
    "                break\n",
    "        else:\n",
    "            yield n\n"
   ]
  },
  {
   "cell_type": "code",
   "execution_count": 51,
   "metadata": {},
   "outputs": [
    {
     "name": "stdout",
     "output_type": "stream",
     "text": [
      "2\n",
      "3\n",
      "[5, 7, 11, 13, 17, 19]\n"
     ]
    }
   ],
   "source": [
    "#The generator object is stored into a variavel\n",
    "g = prime_generator(20)\n",
    "print(next(g))\n",
    "print(next(g))\n",
    "print(list(g))"
   ]
  },
  {
   "cell_type": "markdown",
   "metadata": {},
   "source": [
    "### Generators classes and iterators\n",
    "- All generators are iterators, but not all iterators are generators (example: Create an interator based on a list)\n",
    "- We need to raise the StopIteration error for generator classes everytime after the generator finalize. \n",
    "\n",
    "<b> Iterator:</b> \n",
    "- All objects that has dunder next objects are called Iterators. Iterators allows us to create and pass values only one by one. \n",
    "- Important: Iterators are not interable.It is possible to iterate from an interable, however, iterators just get the next value.\n"
   ]
  },
  {
   "cell_type": "code",
   "execution_count": 21,
   "metadata": {},
   "outputs": [
    {
     "name": "stdout",
     "output_type": "stream",
     "text": [
      "0\n",
      "1\n"
     ]
    }
   ],
   "source": [
    "class FirstHundredGenerator:\n",
    "    def __init__(self):\n",
    "        self.number=0\n",
    "        \n",
    "    def __next__(self):\n",
    "        if self.number < 10:\n",
    "            current = self.number\n",
    "            self.number += 1\n",
    "            return current\n",
    "        else:\n",
    "            raise StopIteration()\n",
    "\n",
    "my_gen = FirstHundredGenerator()\n",
    "print(next(my_gen))\n",
    "print(next(my_gen))"
   ]
  },
  {
   "cell_type": "code",
   "execution_count": 22,
   "metadata": {},
   "outputs": [],
   "source": [
    "# Define a PrimeGenerator class\n",
    "class PrimeGenerator:\n",
    "    def __init__(self, stop):\n",
    "        self.stop = stop  \n",
    "        self.start = 2\n",
    "\n",
    "    def __next__(self):\n",
    "        for n in range(self.start, self.stop):\n",
    "            for x in range(2, n):\n",
    "                if n%x == 0:\n",
    "                    break\n",
    "            else:\n",
    "                self.start = n + 1\n",
    "                return n\n",
    "            \n",
    "        raise StopIteration()"
   ]
  },
  {
   "cell_type": "code",
   "execution_count": 23,
   "metadata": {},
   "outputs": [],
   "source": [
    "gen = PrimeGenerator(20)"
   ]
  },
  {
   "cell_type": "code",
   "execution_count": 24,
   "metadata": {},
   "outputs": [
    {
     "name": "stdout",
     "output_type": "stream",
     "text": [
      "2\n"
     ]
    }
   ],
   "source": [
    "print(next(gen))"
   ]
  },
  {
   "cell_type": "markdown",
   "metadata": {},
   "source": [
    "<b> Iterable:</b> \n",
    "- All objects that has dunder __ iter __ objects or if you have a class and you define the dunder __ len __ and __ getitem __\n",
    "- While Iterators get the next value, the Interable gets all values."
   ]
  },
  {
   "cell_type": "code",
   "execution_count": 25,
   "metadata": {},
   "outputs": [],
   "source": [
    "class FirstHundredIterable:\n",
    "    def __iter__(self):\n",
    "        return FirstHundredGenerator()"
   ]
  },
  {
   "cell_type": "code",
   "execution_count": 26,
   "metadata": {},
   "outputs": [
    {
     "name": "stdout",
     "output_type": "stream",
     "text": [
      "0\n",
      "1\n",
      "2\n",
      "3\n",
      "4\n",
      "5\n",
      "6\n",
      "7\n",
      "8\n",
      "9\n"
     ]
    }
   ],
   "source": [
    "for i in FirstHundredIterable():\n",
    "    print (i)"
   ]
  },
  {
   "cell_type": "code",
   "execution_count": null,
   "metadata": {},
   "outputs": [],
   "source": []
  },
  {
   "cell_type": "markdown",
   "metadata": {},
   "source": [
    "<b> Generator Compreension syntax:</b> "
   ]
  },
  {
   "cell_type": "code",
   "execution_count": 11,
   "metadata": {},
   "outputs": [],
   "source": [
    "numbers = (x for x in [1, 2, 3, 4, 5])"
   ]
  },
  {
   "cell_type": "code",
   "execution_count": 12,
   "metadata": {},
   "outputs": [
    {
     "name": "stdout",
     "output_type": "stream",
     "text": [
      "1\n"
     ]
    }
   ],
   "source": [
    "print(next(numbers))"
   ]
  },
  {
   "cell_type": "code",
   "execution_count": 13,
   "metadata": {},
   "outputs": [
    {
     "name": "stdout",
     "output_type": "stream",
     "text": [
      "2\n"
     ]
    }
   ],
   "source": [
    "print(next(numbers))"
   ]
  },
  {
   "cell_type": "markdown",
   "metadata": {},
   "source": [
    "### Filters\n",
    "- It filters values that comes from a sequence of values and creates a generator, based on the result of the function. It requests (function, iterable) and results a generator.\n",
    "- Commonly used when more than one programming language is being used on the project, otherwise, generator compreension should be used."
   ]
  },
  {
   "cell_type": "code",
   "execution_count": 35,
   "metadata": {},
   "outputs": [],
   "source": [
    "friends = [\"Maria\", \"Jose\", \"Paulo\"]\n",
    "start_with_r = filter(lambda friend: friend.startswith(\"M\"), friends)"
   ]
  },
  {
   "cell_type": "code",
   "execution_count": 36,
   "metadata": {},
   "outputs": [
    {
     "name": "stdout",
     "output_type": "stream",
     "text": [
      "Maria\n"
     ]
    }
   ],
   "source": [
    "print(next(start_with_r))"
   ]
  },
  {
   "cell_type": "markdown",
   "metadata": {},
   "source": [
    "It is similar to this generator:"
   ]
  },
  {
   "cell_type": "code",
   "execution_count": 41,
   "metadata": {},
   "outputs": [],
   "source": [
    "friends = (friend for friend in [\"Maria\", \"Jose\", \"Paulo\"] if friend.startswith(\"M\"))"
   ]
  },
  {
   "cell_type": "code",
   "execution_count": 42,
   "metadata": {},
   "outputs": [
    {
     "name": "stdout",
     "output_type": "stream",
     "text": [
      "Maria\n"
     ]
    }
   ],
   "source": [
    "print(next(friends))"
   ]
  },
  {
   "cell_type": "markdown",
   "metadata": {},
   "source": [
    "### Map\n",
    "- returns a list of the results after applying the given function to each item of a given iterable (function, iterable):"
   ]
  },
  {
   "cell_type": "code",
   "execution_count": 49,
   "metadata": {},
   "outputs": [],
   "source": [
    "friends = [\"Maria\", \"Jose\", \"Paulo\"]\n",
    "start_with_r = map(lambda friend: friend.upper(), friends)"
   ]
  },
  {
   "cell_type": "code",
   "execution_count": 50,
   "metadata": {},
   "outputs": [
    {
     "name": "stdout",
     "output_type": "stream",
     "text": [
      "MARIA\n"
     ]
    }
   ],
   "source": [
    "print(next(start_with_r))"
   ]
  },
  {
   "cell_type": "markdown",
   "metadata": {},
   "source": [
    "### <a href=https://www.linkedin.com/in/jmilhomem/>br.linkedin.com/in/jmilhomem</a> ###"
   ]
  }
 ],
 "metadata": {
  "kernelspec": {
   "display_name": "Python 3",
   "language": "python",
   "name": "python3"
  },
  "language_info": {
   "codemirror_mode": {
    "name": "ipython",
    "version": 3
   },
   "file_extension": ".py",
   "mimetype": "text/x-python",
   "name": "python",
   "nbconvert_exporter": "python",
   "pygments_lexer": "ipython3",
   "version": "3.7.0"
  }
 },
 "nbformat": 4,
 "nbformat_minor": 2
}
