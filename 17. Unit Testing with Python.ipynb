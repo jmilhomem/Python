{
 "cells": [
  {
   "cell_type": "markdown",
   "metadata": {},
   "source": [
    "# Unit Testing with Python"
   ]
  },
  {
   "cell_type": "markdown",
   "metadata": {},
   "source": [
    "It is a best practice to have the Unit tests (also called checks) for all functions that we have inside our applications.  \n",
    "For that, in Python we can use the unittest lib as the following example extracted from [Teclado Code](https://github.com/tecladocode/complete-python-course/tree/master/course_contents/20_unit_testing)"
   ]
  },
  {
   "cell_type": "markdown",
   "metadata": {},
   "source": [
    "Example of a module called functions.py"
   ]
  },
  {
   "cell_type": "code",
   "execution_count": 13,
   "metadata": {},
   "outputs": [
    {
     "name": "stdout",
     "output_type": "stream",
     "text": [
      "BRL 5143.3 is USD 1000\n"
     ]
    }
   ],
   "source": [
    "from typing import Union\n",
    "\n",
    "\n",
    "def divide(dividend: Union[int, float], divisor: Union[int, float]):\n",
    "    if divisor == 0:\n",
    "        raise ValueError(\"The divisor cannot be zero.\")\n",
    "\n",
    "    return dividend / divisor"
   ]
  },
  {
   "cell_type": "markdown",
   "metadata": {},
   "source": [
    "Example of a test class module called test_functions.py"
   ]
  },
  {
   "cell_type": "code",
   "execution_count": null,
   "metadata": {},
   "outputs": [],
   "source": [
    "from functions import divide\n",
    "from unittest import TestCase\n",
    "\n",
    "\n",
    "class TestFunctions(TestCase):\n",
    "    def test_divide_result(self):\n",
    "        dividend = 15\n",
    "        divisor = 3\n",
    "        expected_result = 5.0\n",
    "        self.assertAlmostEqual(divide(dividend, divisor), expected_result, delta=0.0001)\n",
    "\n",
    "    def test_divide_negative(self):\n",
    "        dividend = 15\n",
    "        divisor = -3\n",
    "        expected_result = -5.0\n",
    "        self.assertAlmostEqual(divide(dividend, divisor), expected_result, delta=0.0001)\n",
    "\n",
    "    def test_divide_dividend_zero(self):\n",
    "        dividend = 0\n",
    "        divisor = 5\n",
    "        expected_result = 0\n",
    "        self.assertEqual(divide(dividend, divisor), expected_result)\n",
    "\n",
    "    def test_divide_error_on_zero(self):\n",
    "        with self.assertRaises(ValueError):\n",
    "            divide(25, 0)"
   ]
  },
  {
   "cell_type": "markdown",
   "metadata": {},
   "source": [
    "## Checking other examples\n",
    "\n",
    "- [Other examples](https://github.com/tecladocode/complete-python-course/tree/master/course_contents/20_unit_testing/lectures)"
   ]
  },
  {
   "cell_type": "markdown",
   "metadata": {},
   "source": [
    "### [br.linkedin.com/in/jmilhomem](https://www.linkedin.com/in/jmilhomem/)"
   ]
  }
 ],
 "metadata": {
  "kernelspec": {
   "display_name": "Python 3",
   "language": "python",
   "name": "python3"
  },
  "language_info": {
   "codemirror_mode": {
    "name": "ipython",
    "version": 3
   },
   "file_extension": ".py",
   "mimetype": "text/x-python",
   "name": "python",
   "nbconvert_exporter": "python",
   "pygments_lexer": "ipython3",
   "version": "3.7.3"
  }
 },
 "nbformat": 4,
 "nbformat_minor": 2
}
