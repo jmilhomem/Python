{
 "cells": [
  {
   "cell_type": "markdown",
   "metadata": {},
   "source": [
    "\n",
    "The scripts and notes below were developed/written based on exercises or \"totally copied\" from [Teclado Code](https://github.com/tecladocode/complete-python-course/)\n"
   ]
  },
  {
   "cell_type": "markdown",
   "metadata": {},
   "source": [
    "## Decorators:\n",
    "\n",
    "They are functions, that receive functions as parameters and return functions as well.  \n",
    "It can be used, to apply the security for the code. For instance, in this case, the rule to check the admin or not can be \"hidden\".\n",
    "\n",
    "Code before implementing the decorator:\n"
   ]
  },
  {
   "cell_type": "code",
   "execution_count": 1,
   "metadata": {},
   "outputs": [
    {
     "name": "stdout",
     "output_type": "stream",
     "text": [
      "Password for admin panel is 1234.\n"
     ]
    }
   ],
   "source": [
    "user = {'username': 'jose123', 'access_level': 'admin'}\n",
    "\n",
    "def user_has_permission(func):\n",
    "    if user.get('access_level') == 'admin':\n",
    "        return func\n",
    "    raise RuntimeError\n",
    "    \n",
    "def my_function():\n",
    "    return 'Password for admin panel is 1234.'\n",
    "\n",
    "my_secure_function = user_has_permission(my_function)\n",
    "\n",
    "print(my_secure_function())"
   ]
  },
  {
   "cell_type": "markdown",
   "metadata": {},
   "source": [
    "Code implemented the decorator:"
   ]
  },
  {
   "cell_type": "code",
   "execution_count": 6,
   "metadata": {},
   "outputs": [
    {
     "name": "stdout",
     "output_type": "stream",
     "text": [
      "None\n"
     ]
    }
   ],
   "source": [
    "user = {'username': 'jose123', 'access_level': 'lala'}\n",
    "\n",
    "def user_has_permission(func):\n",
    "    def secure_func():\n",
    "        if user.get('access_level') == 'admin':\n",
    "            return func()\n",
    "    return secure_func\n",
    "    \n",
    "def my_function():\n",
    "    return 'Password for admin panel is 1234.'\n",
    "\n",
    "my_secure_function = user_has_permission(my_function)\n",
    "\n",
    "print(my_secure_function())"
   ]
  },
  {
   "cell_type": "markdown",
   "metadata": {},
   "source": [
    "Using the decorator:"
   ]
  },
  {
   "cell_type": "code",
   "execution_count": 8,
   "metadata": {},
   "outputs": [
    {
     "name": "stdout",
     "output_type": "stream",
     "text": [
      "secure_func\n",
      "None\n"
     ]
    }
   ],
   "source": [
    "user = {'username': 'jose123', 'access_level': 'lala'}\n",
    "\n",
    "def user_has_permission(func):\n",
    "    def secure_func():\n",
    "        if user.get('access_level') == 'admin':\n",
    "            return func()\n",
    "    return secure_func\n",
    "    \n",
    "@user_has_permission\n",
    "def my_function():\n",
    "    return 'Password for admin panel is 1234.'\n",
    "\n",
    "print(my_function.__name__)\n",
    "print(my_secure_function())"
   ]
  },
  {
   "cell_type": "markdown",
   "metadata": {},
   "source": [
    "Using functools to run the function using the \"extended functionality\" that is inside the decorator:"
   ]
  },
  {
   "cell_type": "code",
   "execution_count": 9,
   "metadata": {},
   "outputs": [
    {
     "name": "stdout",
     "output_type": "stream",
     "text": [
      "my_function\n",
      "Password for admin panel is 1234.\n"
     ]
    }
   ],
   "source": [
    "import functools\n",
    "\n",
    "user = {'username': 'jose123', 'access_level': 'admin'}\n",
    "\n",
    "def user_has_permission(func):\n",
    "    @functools.wraps(func) # It will \"include additional functionalities for the func function\". \n",
    "    def secure_func():\n",
    "        if user.get('access_level') == 'admin':\n",
    "            return func()\n",
    "    return secure_func\n",
    "    \n",
    "@user_has_permission\n",
    "def my_function():\n",
    "    return 'Password for admin panel is 1234.'\n",
    "\n",
    "print(my_function.__name__)\n",
    "print(my_secure_function())"
   ]
  },
  {
   "cell_type": "markdown",
   "metadata": {},
   "source": [
    "Adjusting the decorator to be generic:"
   ]
  },
  {
   "cell_type": "code",
   "execution_count": 11,
   "metadata": {},
   "outputs": [
    {
     "name": "stdout",
     "output_type": "stream",
     "text": [
      "my_function\n",
      "Password for movies panel is 1234.\n"
     ]
    }
   ],
   "source": [
    "import functools\n",
    "\n",
    "user = {'username': 'jose123', 'access_level': 'user'}\n",
    "\n",
    "\n",
    "def user_has_permission(access_level):\n",
    "    def my_decorator(func):\n",
    "        @functools.wraps(func)\n",
    "        def secure_func(panel):\n",
    "            if user.get('access_level') == access_level:\n",
    "                return func(panel)\n",
    "        return secure_func\n",
    "    return my_decorator\n",
    "\n",
    "\n",
    "@user_has_permission('user')\n",
    "def my_function(panel):\n",
    "    \"\"\"\n",
    "    Allows us to retrieve the password for the admin panel.\n",
    "    \"\"\"\n",
    "    return f'Password for {panel} panel is 1234.'\n",
    "\n",
    "\n",
    "print(my_function.__name__)\n",
    "print(my_function('movies'))"
   ]
  },
  {
   "cell_type": "markdown",
   "metadata": {},
   "source": [
    "Function that receive any arguments:"
   ]
  },
  {
   "cell_type": "code",
   "execution_count": 12,
   "metadata": {},
   "outputs": [
    {
     "name": "stdout",
     "output_type": "stream",
     "text": [
      "For username we have jose123.\n",
      "For access_level we have admin.\n"
     ]
    }
   ],
   "source": [
    "#It receives any numerical values (list or tuple)\n",
    "def add_all(*args):\n",
    "    return sum(args)\n",
    "\n",
    "#It receives any numerical or string values (dictionary)\n",
    "def pretty_print(**kwargs):\n",
    "    for k, v in kwargs.items():\n",
    "        print(f'For {k} we have {v}.')\n",
    "\n",
    "\n",
    "pretty_print(**{'username': 'jose123', 'access_level': 'admin'})\n"
   ]
  },
  {
   "cell_type": "markdown",
   "metadata": {},
   "source": [
    "Generic decorator:"
   ]
  },
  {
   "cell_type": "code",
   "execution_count": 13,
   "metadata": {},
   "outputs": [
    {
     "name": "stdout",
     "output_type": "stream",
     "text": [
      "my_function\n",
      "Password for movies panel is 1234.\n"
     ]
    }
   ],
   "source": [
    "import functools\n",
    "\n",
    "user = {'username': 'jose123', 'access_level': 'user'}\n",
    "\n",
    "\n",
    "def user_has_permission(access_level):\n",
    "    def my_decorator(func):\n",
    "        @functools.wraps(func)\n",
    "        def secure_func(*args, **kwargs):\n",
    "            if user.get('access_level') == access_level:\n",
    "                return func(*args, **kwargs)\n",
    "        return secure_func\n",
    "    return my_decorator\n",
    "\n",
    "\n",
    "@user_has_permission('user')\n",
    "def my_function(panel):\n",
    "    \"\"\"\n",
    "    Allows us to retrieve the password for the admin panel.\n",
    "    \"\"\"\n",
    "    return f'Password for {panel} panel is 1234.'\n",
    "\n",
    "\n",
    "print(my_function.__name__)\n",
    "print(my_function('movies'))"
   ]
  },
  {
   "cell_type": "markdown",
   "metadata": {},
   "source": [
    "Doubled decorators:"
   ]
  },
  {
   "cell_type": "code",
   "execution_count": 16,
   "metadata": {},
   "outputs": [
    {
     "name": "stdout",
     "output_type": "stream",
     "text": [
      "User's access_level was not 'admin'.\n",
      "None\n"
     ]
    },
    {
     "data": {
      "text/plain": [
       "'\\nWhen `double_decorator()` runs, this chain of \"functions\" runs:\\n\\nuser_has_permission -> user_name_starts_with_j -> double_decorator\\n\\nThat is because `user_name_starts_with_j` is the first decorator to be applied. It replaces `double_decorator` by the function it returns.\\n\\nThen, `user_has_permission` is applied—and it replaces the function the other decorator returned by the function it returns.\\n'"
      ]
     },
     "execution_count": 16,
     "metadata": {},
     "output_type": "execute_result"
    }
   ],
   "source": [
    "\"\"\"\n",
    "Taken from our Complete Python Course: https://www.udemy.com/the-complete-python-course/?couponCode=REPLIT\n",
    "\n",
    "Purely as an example, a function can have multiple decorators.\n",
    "\n",
    "Decorators are applied from bottom to top, which means the top decorator is the first one to be evaluated when the function is executed.\n",
    "\n",
    "In this example, we have two decorators. One checks the user's access_level, the other checks the user's username (must start with the letter 'j').\n",
    "\"\"\"\n",
    "\n",
    "import functools\n",
    "\n",
    "# Try the various combinations below!\n",
    "user = {'username': 'jose123', 'access_level': 'admin'}\n",
    "# user = {'username': 'bob', 'access_level': 'admin'}\n",
    "# user = {'username': 'jose123', 'access_level': 'user'}\n",
    "user = {'username': 'bob', 'access_level': 'user'}\n",
    "\n",
    "\n",
    "def user_name_starts_with_j(func):\n",
    "    \"\"\"\n",
    "    This decorator only runs the function passed if the user's username starts with a j.\n",
    "    \"\"\"\n",
    "    @functools.wraps(func)\n",
    "    def secure_func(*args, **kwargs):\n",
    "        if user.get('username').startswith('j'):\n",
    "            return func(*args, **kwargs)\n",
    "        else:\n",
    "            print(\"User's username did not start with 'j'.\")\n",
    "    return secure_func\n",
    "\n",
    "\n",
    "def user_has_permission(func):\n",
    "    \"\"\"\n",
    "    This decorator only runs the function passed if the user's access_level is admin.\n",
    "    \"\"\"\n",
    "    @functools.wraps(func)\n",
    "    def secure_func(*args, **kwargs):\n",
    "        if user.get('access_level') == 'admin':\n",
    "            return func(*args, **kwargs)\n",
    "        else:\n",
    "            print(\"User's access_level was not 'admin'.\")\n",
    "    return secure_func\n",
    "\n",
    "\n",
    "@user_has_permission\n",
    "@user_name_starts_with_j\n",
    "def double_decorator():\n",
    "    return 'I ran.'\n",
    "\n",
    "print(double_decorator())\n",
    "\n",
    "\"\"\"\n",
    "When `double_decorator()` runs, this chain of \"functions\" runs:\n",
    "\n",
    "user_has_permission -> user_name_starts_with_j -> double_decorator\n",
    "\n",
    "That is because `user_name_starts_with_j` is the first decorator to be applied. It replaces `double_decorator` by the function it returns.\n",
    "\n",
    "Then, `user_has_permission` is applied—and it replaces the function the other decorator returned by the function it returns.\n",
    "\"\"\""
   ]
  },
  {
   "cell_type": "markdown",
   "metadata": {},
   "source": [
    "### [br.linkedin.com/in/jmilhomem](https://www.linkedin.com/in/jmilhomem/)"
   ]
  }
 ],
 "metadata": {
  "kernelspec": {
   "display_name": "Python 3",
   "language": "python",
   "name": "python3"
  },
  "language_info": {
   "codemirror_mode": {
    "name": "ipython",
    "version": 3
   },
   "file_extension": ".py",
   "mimetype": "text/x-python",
   "name": "python",
   "nbconvert_exporter": "python",
   "pygments_lexer": "ipython3",
   "version": "3.7.3"
  }
 },
 "nbformat": 4,
 "nbformat_minor": 2
}
