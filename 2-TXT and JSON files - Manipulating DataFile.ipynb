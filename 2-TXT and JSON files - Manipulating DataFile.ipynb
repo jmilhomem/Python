{
 "cells": [
  {
   "cell_type": "markdown",
   "metadata": {},
   "source": [
    "## Case of study ##\n",
    "\n",
    "* Reading data from TXT file\n",
    "* Adding data into TXT file\n",
    "* Creating Json file\n",
    "* Adding data into Json file\n",
    "\n",
    "Hypothetical Subject: Readers, Books and Books'Categories\n",
    "\n"
   ]
  },
  {
   "cell_type": "code",
   "execution_count": 14,
   "metadata": {},
   "outputs": [],
   "source": [
    "import os\n",
    "import numpy as np\n",
    "import pandas as pd"
   ]
  },
  {
   "cell_type": "markdown",
   "metadata": {},
   "source": [
    "### Writing into TXT File"
   ]
  },
  {
   "cell_type": "markdown",
   "metadata": {},
   "source": [
    "Creating a dictionary of new data to insert into a TXT file"
   ]
  },
  {
   "cell_type": "code",
   "execution_count": 15,
   "metadata": {},
   "outputs": [
    {
     "name": "stdout",
     "output_type": "stream",
     "text": [
      "{'Readers': ['Enzo', 'Emma', 'Eric', 'Bruno', 'Erika', 'Ricardo'], 'Books': ['Livro AB', 'Livro BC', 'Livro BC', 'Livro I', 'Livro J', 'Livro K'], 'Categories': ['Fantasia', 'Infantil', 'Infantil', 'Saúde', 'Pais e Filhos', 'Jogos']}\n"
     ]
    }
   ],
   "source": [
    "dic_newdata = {'Readers':['Enzo', 'Emma', 'Eric', 'Bruno', 'Erika', 'Ricardo'],\n",
    "             'Books':['Livro AB', 'Livro BC', 'Livro BC', 'Livro I', 'Livro J', 'Livro K'],\n",
    "             'Categories':['Fantasia', 'Infantil', 'Infantil', 'Saúde', 'Pais e Filhos', 'Jogos']}\n",
    "\n",
    "#Reading the result of the dictionary\n",
    "print(dic_newdata)"
   ]
  },
  {
   "cell_type": "markdown",
   "metadata": {},
   "source": [
    "Creating a dataframe from a dictionary"
   ]
  },
  {
   "cell_type": "code",
   "execution_count": 16,
   "metadata": {},
   "outputs": [
    {
     "name": "stdout",
     "output_type": "stream",
     "text": [
      "   Readers     Books     Categories\n",
      "0     Enzo  Livro AB       Fantasia\n",
      "1     Emma  Livro BC       Infantil\n",
      "2     Eric  Livro BC       Infantil\n",
      "3    Bruno   Livro I          Saúde\n",
      "4    Erika   Livro J  Pais e Filhos\n",
      "5  Ricardo   Livro K          Jogos\n"
     ]
    }
   ],
   "source": [
    "df_newdata = pd.DataFrame(dic_newdata)\n",
    "\n",
    "#Reading the result of the dataframe\n",
    "print(df_newdata)"
   ]
  },
  {
   "cell_type": "markdown",
   "metadata": {},
   "source": [
    "Adding new data into TXT File based in dataframe"
   ]
  },
  {
   "cell_type": "code",
   "execution_count": 17,
   "metadata": {},
   "outputs": [
    {
     "name": "stdout",
     "output_type": "stream",
     "text": [
      "'Enzo','Livro AB','Fantasia'\n",
      "'Emma','Livro BC','Infantil'\n",
      "'Eric','Livro BC','Infantil'\n",
      "'Bruno','Livro I','Saúde'\n",
      "'Erika','Livro J','Pais e Filhos'\n",
      "'Ricardo','Livro K','Jogos'\n"
     ]
    }
   ],
   "source": [
    "file = open(\"files/Estudantes.txt\", \"a\")\n",
    "for index, row in df_newdata.iterrows():\n",
    "    file.write(\"'\" + row['Readers'] + \"','\" + row['Books'] + \"','\" + row['Categories'] + \"'\")\n",
    "    file.write(\"\\n\")\n",
    "    print(\"'\" + row['Readers'] + \"','\" + row['Books'] + \"','\" + row['Categories'] + \"'\")\n",
    "file.close()"
   ]
  },
  {
   "cell_type": "markdown",
   "metadata": {},
   "source": [
    "### Reading TXT file"
   ]
  },
  {
   "cell_type": "markdown",
   "metadata": {},
   "source": [
    "Creating lists based on reading TXT data file:"
   ]
  },
  {
   "cell_type": "code",
   "execution_count": 18,
   "metadata": {},
   "outputs": [
    {
     "name": "stdout",
     "output_type": "stream",
     "text": [
      "['Maria', 'Maria', 'José', 'José', 'José', 'Chico', 'Chico', 'Pedro', 'Paulo', 'Paulo', 'Paula', 'Paula', 'Paula', 'Paula', 'Flor', 'Flor', 'Flor', 'Linda', 'Linda', 'Linda', 'Paulina', 'Paulina', 'Paulina', 'Mariazinha', 'Mariazinha', 'Josezinho', 'Josezinho', 'Josezinho', 'Chiconildo', 'Chiconildo', 'Pedronildo', 'Paulozildo', 'Paulozildo', 'Paulazina', 'Paulazina', 'Paulazina', 'Paulazina', 'Florinda', 'Florinda', 'Florinda', 'Lindanina', 'Lindanina', 'Lindanina', 'Paulita', 'Paulita', 'Paulita', 'Enzo', 'Emma', 'Eric', 'Bruno', 'Erika', 'Ricardo']\n",
      "['Livro A', 'Livro B', 'Livro C', 'Livro D', 'Livro E', 'Livro D', 'Livro E', 'Livro F', 'Livro G', 'Livro H', 'Livro C', 'Livro F', 'Livro G', 'Livro H', 'Livro A', 'Livro B', 'Livro E', 'Livro A', 'Livro B', 'Livro C', 'Livro C', 'Livro H', 'Livro F', 'Livro A', 'Livro B', 'Livro C', 'Livro D', 'Livro E', 'Livro D', 'Livro E', 'Livro F', 'Livro G', 'Livro H', 'Livro C', 'Livro F', 'Livro G', 'Livro H', 'Livro A', 'Livro B', 'Livro E', 'Livro A', 'Livro B', 'Livro C', 'Livro C', 'Livro H', 'Livro F', 'Livro AB', 'Livro BC', 'Livro BC', 'Livro I', 'Livro J', 'Livro K']\n",
      "['Romance', 'Romance', 'Comedia', 'Crime', 'Crime', 'Crime', 'Crime', 'Técnico', 'Técnico', 'Técnico', 'Comedia', 'Técnico', 'Técnico', 'Técnico', 'Romance', 'Romance', 'Crime', 'Romance', 'Romance', 'Comedia', 'Comedia', 'Comedia', 'Técnico', 'Romance', 'Romance', 'Comedia', 'Crime', 'Crime', 'Crime', 'Crime', 'Técnico', 'Técnico', 'Técnico', 'Comedia', 'Técnico', 'Técnico', 'Técnico', 'Romance', 'Romance', 'Crime', 'Romance', 'Romance', 'Comedia', 'Comedia', 'Comedia', 'Técnico', 'Fantasia', 'Infantil', 'Infantil', 'Saúde', 'Pais e Filhos', 'Jogos']\n"
     ]
    }
   ],
   "source": [
    "file = open(\"files/Estudantes.txt\", \"r\")\n",
    "data_file = file.readlines()\n",
    "file.close()\n",
    "list_readers = []\n",
    "list_books = []\n",
    "list_categories = []\n",
    "\n",
    "for row in data_file:\n",
    "    count_rows = 0\n",
    "    for row_in in row.split(','):\n",
    "        \n",
    "        #count each word of a row\n",
    "        count_rows = count_rows + 1\n",
    "        \n",
    "        #verifies if it is the first, second or third column to insert data into each list\n",
    "        if count_rows == 1:\n",
    "            list_readers.append(row_in.replace(\"'\", \"\").replace(\"\\n\", \"\"))\n",
    "        elif count_rows == 2:\n",
    "            list_books.append(row_in.replace(\"'\", \"\").replace(\"\\n\", \"\"))\n",
    "        elif count_rows == 3:\n",
    "            list_categories.append(row_in.replace(\"'\", \"\").replace(\"\\n\", \"\"))\n",
    "            \n",
    "print(list_readers)\n",
    "print(list_books)\n",
    "print(list_categories)"
   ]
  },
  {
   "cell_type": "markdown",
   "metadata": {},
   "source": [
    "Creating a dictionary using the lists created"
   ]
  },
  {
   "cell_type": "code",
   "execution_count": 19,
   "metadata": {},
   "outputs": [
    {
     "name": "stdout",
     "output_type": "stream",
     "text": [
      "{'Readers': ['Maria', 'Maria', 'José', 'José', 'José', 'Chico', 'Chico', 'Pedro', 'Paulo', 'Paulo', 'Paula', 'Paula', 'Paula', 'Paula', 'Flor', 'Flor', 'Flor', 'Linda', 'Linda', 'Linda', 'Paulina', 'Paulina', 'Paulina', 'Mariazinha', 'Mariazinha', 'Josezinho', 'Josezinho', 'Josezinho', 'Chiconildo', 'Chiconildo', 'Pedronildo', 'Paulozildo', 'Paulozildo', 'Paulazina', 'Paulazina', 'Paulazina', 'Paulazina', 'Florinda', 'Florinda', 'Florinda', 'Lindanina', 'Lindanina', 'Lindanina', 'Paulita', 'Paulita', 'Paulita', 'Enzo', 'Emma', 'Eric', 'Bruno', 'Erika', 'Ricardo'], 'Books': ['Livro A', 'Livro B', 'Livro C', 'Livro D', 'Livro E', 'Livro D', 'Livro E', 'Livro F', 'Livro G', 'Livro H', 'Livro C', 'Livro F', 'Livro G', 'Livro H', 'Livro A', 'Livro B', 'Livro E', 'Livro A', 'Livro B', 'Livro C', 'Livro C', 'Livro H', 'Livro F', 'Livro A', 'Livro B', 'Livro C', 'Livro D', 'Livro E', 'Livro D', 'Livro E', 'Livro F', 'Livro G', 'Livro H', 'Livro C', 'Livro F', 'Livro G', 'Livro H', 'Livro A', 'Livro B', 'Livro E', 'Livro A', 'Livro B', 'Livro C', 'Livro C', 'Livro H', 'Livro F', 'Livro AB', 'Livro BC', 'Livro BC', 'Livro I', 'Livro J', 'Livro K'], 'Categories': ['Romance', 'Romance', 'Comedia', 'Crime', 'Crime', 'Crime', 'Crime', 'Técnico', 'Técnico', 'Técnico', 'Comedia', 'Técnico', 'Técnico', 'Técnico', 'Romance', 'Romance', 'Crime', 'Romance', 'Romance', 'Comedia', 'Comedia', 'Comedia', 'Técnico', 'Romance', 'Romance', 'Comedia', 'Crime', 'Crime', 'Crime', 'Crime', 'Técnico', 'Técnico', 'Técnico', 'Comedia', 'Técnico', 'Técnico', 'Técnico', 'Romance', 'Romance', 'Crime', 'Romance', 'Romance', 'Comedia', 'Comedia', 'Comedia', 'Técnico', 'Fantasia', 'Infantil', 'Infantil', 'Saúde', 'Pais e Filhos', 'Jogos']}\n"
     ]
    }
   ],
   "source": [
    "dic_readers = {'Readers': list_readers,\n",
    "               'Books': list_books,\n",
    "               'Categories': list_categories\n",
    "              }\n",
    "print(dic_readers)"
   ]
  },
  {
   "cell_type": "markdown",
   "metadata": {},
   "source": [
    "Creating dataframe based on the dictionary"
   ]
  },
  {
   "cell_type": "code",
   "execution_count": 20,
   "metadata": {},
   "outputs": [
    {
     "name": "stdout",
     "output_type": "stream",
     "text": [
      "       Readers     Books     Categories\n",
      "49       Bruno   Livro I          Saúde\n",
      "5        Chico   Livro D          Crime\n",
      "6        Chico   Livro E          Crime\n",
      "28  Chiconildo   Livro D          Crime\n",
      "29  Chiconildo   Livro E          Crime\n",
      "47        Emma  Livro BC       Infantil\n",
      "46        Enzo  Livro AB       Fantasia\n",
      "48        Eric  Livro BC       Infantil\n",
      "50       Erika   Livro J  Pais e Filhos\n",
      "16        Flor   Livro E          Crime\n",
      "14        Flor   Livro A        Romance\n",
      "15        Flor   Livro B        Romance\n",
      "39    Florinda   Livro E          Crime\n",
      "37    Florinda   Livro A        Romance\n",
      "38    Florinda   Livro B        Romance\n",
      "27   Josezinho   Livro E          Crime\n",
      "25   Josezinho   Livro C        Comedia\n",
      "26   Josezinho   Livro D          Crime\n",
      "4         José   Livro E          Crime\n",
      "3         José   Livro D          Crime\n",
      "2         José   Livro C        Comedia\n",
      "17       Linda   Livro A        Romance\n",
      "18       Linda   Livro B        Romance\n",
      "19       Linda   Livro C        Comedia\n",
      "41   Lindanina   Livro B        Romance\n",
      "42   Lindanina   Livro C        Comedia\n",
      "40   Lindanina   Livro A        Romance\n",
      "0        Maria   Livro A        Romance\n",
      "1        Maria   Livro B        Romance\n",
      "23  Mariazinha   Livro A        Romance\n",
      "24  Mariazinha   Livro B        Romance\n",
      "10       Paula   Livro C        Comedia\n",
      "11       Paula   Livro F        Técnico\n",
      "12       Paula   Livro G        Técnico\n",
      "13       Paula   Livro H        Técnico\n",
      "35   Paulazina   Livro G        Técnico\n",
      "36   Paulazina   Livro H        Técnico\n",
      "33   Paulazina   Livro C        Comedia\n",
      "34   Paulazina   Livro F        Técnico\n",
      "21     Paulina   Livro H        Comedia\n",
      "20     Paulina   Livro C        Comedia\n",
      "22     Paulina   Livro F        Técnico\n",
      "45     Paulita   Livro F        Técnico\n",
      "44     Paulita   Livro H        Comedia\n",
      "43     Paulita   Livro C        Comedia\n",
      "9        Paulo   Livro H        Técnico\n",
      "8        Paulo   Livro G        Técnico\n",
      "31  Paulozildo   Livro G        Técnico\n",
      "32  Paulozildo   Livro H        Técnico\n",
      "7        Pedro   Livro F        Técnico\n",
      "30  Pedronildo   Livro F        Técnico\n",
      "51     Ricardo   Livro K          Jogos\n"
     ]
    }
   ],
   "source": [
    "df_Readers = pd.DataFrame(dic_readers)\n",
    "df_Readers_sorted = df_Readers.sort_values(['Readers'], ascending=[True])\n",
    "print(df_Readers_sorted)"
   ]
  },
  {
   "cell_type": "markdown",
   "metadata": {},
   "source": [
    "### Exporting data as a JSON File"
   ]
  },
  {
   "cell_type": "code",
   "execution_count": 21,
   "metadata": {},
   "outputs": [
    {
     "data": {
      "text/html": [
       "<div>\n",
       "<style scoped>\n",
       "    .dataframe tbody tr th:only-of-type {\n",
       "        vertical-align: middle;\n",
       "    }\n",
       "\n",
       "    .dataframe tbody tr th {\n",
       "        vertical-align: top;\n",
       "    }\n",
       "\n",
       "    .dataframe thead th {\n",
       "        text-align: right;\n",
       "    }\n",
       "</style>\n",
       "<table border=\"1\" class=\"dataframe\">\n",
       "  <thead>\n",
       "    <tr style=\"text-align: right;\">\n",
       "      <th></th>\n",
       "      <th>Readers</th>\n",
       "      <th>Books</th>\n",
       "      <th>Categories</th>\n",
       "    </tr>\n",
       "  </thead>\n",
       "  <tbody>\n",
       "    <tr>\n",
       "      <th>49</th>\n",
       "      <td>Bruno</td>\n",
       "      <td>Livro I</td>\n",
       "      <td>Saúde</td>\n",
       "    </tr>\n",
       "    <tr>\n",
       "      <th>5</th>\n",
       "      <td>Chico</td>\n",
       "      <td>Livro D</td>\n",
       "      <td>Crime</td>\n",
       "    </tr>\n",
       "    <tr>\n",
       "      <th>6</th>\n",
       "      <td>Chico</td>\n",
       "      <td>Livro E</td>\n",
       "      <td>Crime</td>\n",
       "    </tr>\n",
       "    <tr>\n",
       "      <th>28</th>\n",
       "      <td>Chiconildo</td>\n",
       "      <td>Livro D</td>\n",
       "      <td>Crime</td>\n",
       "    </tr>\n",
       "    <tr>\n",
       "      <th>29</th>\n",
       "      <td>Chiconildo</td>\n",
       "      <td>Livro E</td>\n",
       "      <td>Crime</td>\n",
       "    </tr>\n",
       "    <tr>\n",
       "      <th>47</th>\n",
       "      <td>Emma</td>\n",
       "      <td>Livro BC</td>\n",
       "      <td>Infantil</td>\n",
       "    </tr>\n",
       "    <tr>\n",
       "      <th>46</th>\n",
       "      <td>Enzo</td>\n",
       "      <td>Livro AB</td>\n",
       "      <td>Fantasia</td>\n",
       "    </tr>\n",
       "    <tr>\n",
       "      <th>48</th>\n",
       "      <td>Eric</td>\n",
       "      <td>Livro BC</td>\n",
       "      <td>Infantil</td>\n",
       "    </tr>\n",
       "    <tr>\n",
       "      <th>50</th>\n",
       "      <td>Erika</td>\n",
       "      <td>Livro J</td>\n",
       "      <td>Pais e Filhos</td>\n",
       "    </tr>\n",
       "    <tr>\n",
       "      <th>16</th>\n",
       "      <td>Flor</td>\n",
       "      <td>Livro E</td>\n",
       "      <td>Crime</td>\n",
       "    </tr>\n",
       "    <tr>\n",
       "      <th>14</th>\n",
       "      <td>Flor</td>\n",
       "      <td>Livro A</td>\n",
       "      <td>Romance</td>\n",
       "    </tr>\n",
       "    <tr>\n",
       "      <th>15</th>\n",
       "      <td>Flor</td>\n",
       "      <td>Livro B</td>\n",
       "      <td>Romance</td>\n",
       "    </tr>\n",
       "    <tr>\n",
       "      <th>39</th>\n",
       "      <td>Florinda</td>\n",
       "      <td>Livro E</td>\n",
       "      <td>Crime</td>\n",
       "    </tr>\n",
       "    <tr>\n",
       "      <th>37</th>\n",
       "      <td>Florinda</td>\n",
       "      <td>Livro A</td>\n",
       "      <td>Romance</td>\n",
       "    </tr>\n",
       "    <tr>\n",
       "      <th>38</th>\n",
       "      <td>Florinda</td>\n",
       "      <td>Livro B</td>\n",
       "      <td>Romance</td>\n",
       "    </tr>\n",
       "    <tr>\n",
       "      <th>27</th>\n",
       "      <td>Josezinho</td>\n",
       "      <td>Livro E</td>\n",
       "      <td>Crime</td>\n",
       "    </tr>\n",
       "    <tr>\n",
       "      <th>25</th>\n",
       "      <td>Josezinho</td>\n",
       "      <td>Livro C</td>\n",
       "      <td>Comedia</td>\n",
       "    </tr>\n",
       "    <tr>\n",
       "      <th>26</th>\n",
       "      <td>Josezinho</td>\n",
       "      <td>Livro D</td>\n",
       "      <td>Crime</td>\n",
       "    </tr>\n",
       "    <tr>\n",
       "      <th>4</th>\n",
       "      <td>José</td>\n",
       "      <td>Livro E</td>\n",
       "      <td>Crime</td>\n",
       "    </tr>\n",
       "    <tr>\n",
       "      <th>3</th>\n",
       "      <td>José</td>\n",
       "      <td>Livro D</td>\n",
       "      <td>Crime</td>\n",
       "    </tr>\n",
       "    <tr>\n",
       "      <th>2</th>\n",
       "      <td>José</td>\n",
       "      <td>Livro C</td>\n",
       "      <td>Comedia</td>\n",
       "    </tr>\n",
       "    <tr>\n",
       "      <th>17</th>\n",
       "      <td>Linda</td>\n",
       "      <td>Livro A</td>\n",
       "      <td>Romance</td>\n",
       "    </tr>\n",
       "    <tr>\n",
       "      <th>18</th>\n",
       "      <td>Linda</td>\n",
       "      <td>Livro B</td>\n",
       "      <td>Romance</td>\n",
       "    </tr>\n",
       "    <tr>\n",
       "      <th>19</th>\n",
       "      <td>Linda</td>\n",
       "      <td>Livro C</td>\n",
       "      <td>Comedia</td>\n",
       "    </tr>\n",
       "    <tr>\n",
       "      <th>41</th>\n",
       "      <td>Lindanina</td>\n",
       "      <td>Livro B</td>\n",
       "      <td>Romance</td>\n",
       "    </tr>\n",
       "    <tr>\n",
       "      <th>42</th>\n",
       "      <td>Lindanina</td>\n",
       "      <td>Livro C</td>\n",
       "      <td>Comedia</td>\n",
       "    </tr>\n",
       "    <tr>\n",
       "      <th>40</th>\n",
       "      <td>Lindanina</td>\n",
       "      <td>Livro A</td>\n",
       "      <td>Romance</td>\n",
       "    </tr>\n",
       "    <tr>\n",
       "      <th>0</th>\n",
       "      <td>Maria</td>\n",
       "      <td>Livro A</td>\n",
       "      <td>Romance</td>\n",
       "    </tr>\n",
       "    <tr>\n",
       "      <th>1</th>\n",
       "      <td>Maria</td>\n",
       "      <td>Livro B</td>\n",
       "      <td>Romance</td>\n",
       "    </tr>\n",
       "    <tr>\n",
       "      <th>23</th>\n",
       "      <td>Mariazinha</td>\n",
       "      <td>Livro A</td>\n",
       "      <td>Romance</td>\n",
       "    </tr>\n",
       "    <tr>\n",
       "      <th>24</th>\n",
       "      <td>Mariazinha</td>\n",
       "      <td>Livro B</td>\n",
       "      <td>Romance</td>\n",
       "    </tr>\n",
       "    <tr>\n",
       "      <th>10</th>\n",
       "      <td>Paula</td>\n",
       "      <td>Livro C</td>\n",
       "      <td>Comedia</td>\n",
       "    </tr>\n",
       "    <tr>\n",
       "      <th>11</th>\n",
       "      <td>Paula</td>\n",
       "      <td>Livro F</td>\n",
       "      <td>Técnico</td>\n",
       "    </tr>\n",
       "    <tr>\n",
       "      <th>12</th>\n",
       "      <td>Paula</td>\n",
       "      <td>Livro G</td>\n",
       "      <td>Técnico</td>\n",
       "    </tr>\n",
       "    <tr>\n",
       "      <th>13</th>\n",
       "      <td>Paula</td>\n",
       "      <td>Livro H</td>\n",
       "      <td>Técnico</td>\n",
       "    </tr>\n",
       "    <tr>\n",
       "      <th>35</th>\n",
       "      <td>Paulazina</td>\n",
       "      <td>Livro G</td>\n",
       "      <td>Técnico</td>\n",
       "    </tr>\n",
       "    <tr>\n",
       "      <th>36</th>\n",
       "      <td>Paulazina</td>\n",
       "      <td>Livro H</td>\n",
       "      <td>Técnico</td>\n",
       "    </tr>\n",
       "    <tr>\n",
       "      <th>33</th>\n",
       "      <td>Paulazina</td>\n",
       "      <td>Livro C</td>\n",
       "      <td>Comedia</td>\n",
       "    </tr>\n",
       "    <tr>\n",
       "      <th>34</th>\n",
       "      <td>Paulazina</td>\n",
       "      <td>Livro F</td>\n",
       "      <td>Técnico</td>\n",
       "    </tr>\n",
       "    <tr>\n",
       "      <th>21</th>\n",
       "      <td>Paulina</td>\n",
       "      <td>Livro H</td>\n",
       "      <td>Comedia</td>\n",
       "    </tr>\n",
       "    <tr>\n",
       "      <th>20</th>\n",
       "      <td>Paulina</td>\n",
       "      <td>Livro C</td>\n",
       "      <td>Comedia</td>\n",
       "    </tr>\n",
       "    <tr>\n",
       "      <th>22</th>\n",
       "      <td>Paulina</td>\n",
       "      <td>Livro F</td>\n",
       "      <td>Técnico</td>\n",
       "    </tr>\n",
       "    <tr>\n",
       "      <th>45</th>\n",
       "      <td>Paulita</td>\n",
       "      <td>Livro F</td>\n",
       "      <td>Técnico</td>\n",
       "    </tr>\n",
       "    <tr>\n",
       "      <th>44</th>\n",
       "      <td>Paulita</td>\n",
       "      <td>Livro H</td>\n",
       "      <td>Comedia</td>\n",
       "    </tr>\n",
       "    <tr>\n",
       "      <th>43</th>\n",
       "      <td>Paulita</td>\n",
       "      <td>Livro C</td>\n",
       "      <td>Comedia</td>\n",
       "    </tr>\n",
       "    <tr>\n",
       "      <th>9</th>\n",
       "      <td>Paulo</td>\n",
       "      <td>Livro H</td>\n",
       "      <td>Técnico</td>\n",
       "    </tr>\n",
       "    <tr>\n",
       "      <th>8</th>\n",
       "      <td>Paulo</td>\n",
       "      <td>Livro G</td>\n",
       "      <td>Técnico</td>\n",
       "    </tr>\n",
       "    <tr>\n",
       "      <th>31</th>\n",
       "      <td>Paulozildo</td>\n",
       "      <td>Livro G</td>\n",
       "      <td>Técnico</td>\n",
       "    </tr>\n",
       "    <tr>\n",
       "      <th>32</th>\n",
       "      <td>Paulozildo</td>\n",
       "      <td>Livro H</td>\n",
       "      <td>Técnico</td>\n",
       "    </tr>\n",
       "    <tr>\n",
       "      <th>7</th>\n",
       "      <td>Pedro</td>\n",
       "      <td>Livro F</td>\n",
       "      <td>Técnico</td>\n",
       "    </tr>\n",
       "    <tr>\n",
       "      <th>30</th>\n",
       "      <td>Pedronildo</td>\n",
       "      <td>Livro F</td>\n",
       "      <td>Técnico</td>\n",
       "    </tr>\n",
       "    <tr>\n",
       "      <th>51</th>\n",
       "      <td>Ricardo</td>\n",
       "      <td>Livro K</td>\n",
       "      <td>Jogos</td>\n",
       "    </tr>\n",
       "  </tbody>\n",
       "</table>\n",
       "</div>"
      ],
      "text/plain": [
       "       Readers     Books     Categories\n",
       "49       Bruno   Livro I          Saúde\n",
       "5        Chico   Livro D          Crime\n",
       "6        Chico   Livro E          Crime\n",
       "28  Chiconildo   Livro D          Crime\n",
       "29  Chiconildo   Livro E          Crime\n",
       "47        Emma  Livro BC       Infantil\n",
       "46        Enzo  Livro AB       Fantasia\n",
       "48        Eric  Livro BC       Infantil\n",
       "50       Erika   Livro J  Pais e Filhos\n",
       "16        Flor   Livro E          Crime\n",
       "14        Flor   Livro A        Romance\n",
       "15        Flor   Livro B        Romance\n",
       "39    Florinda   Livro E          Crime\n",
       "37    Florinda   Livro A        Romance\n",
       "38    Florinda   Livro B        Romance\n",
       "27   Josezinho   Livro E          Crime\n",
       "25   Josezinho   Livro C        Comedia\n",
       "26   Josezinho   Livro D          Crime\n",
       "4         José   Livro E          Crime\n",
       "3         José   Livro D          Crime\n",
       "2         José   Livro C        Comedia\n",
       "17       Linda   Livro A        Romance\n",
       "18       Linda   Livro B        Romance\n",
       "19       Linda   Livro C        Comedia\n",
       "41   Lindanina   Livro B        Romance\n",
       "42   Lindanina   Livro C        Comedia\n",
       "40   Lindanina   Livro A        Romance\n",
       "0        Maria   Livro A        Romance\n",
       "1        Maria   Livro B        Romance\n",
       "23  Mariazinha   Livro A        Romance\n",
       "24  Mariazinha   Livro B        Romance\n",
       "10       Paula   Livro C        Comedia\n",
       "11       Paula   Livro F        Técnico\n",
       "12       Paula   Livro G        Técnico\n",
       "13       Paula   Livro H        Técnico\n",
       "35   Paulazina   Livro G        Técnico\n",
       "36   Paulazina   Livro H        Técnico\n",
       "33   Paulazina   Livro C        Comedia\n",
       "34   Paulazina   Livro F        Técnico\n",
       "21     Paulina   Livro H        Comedia\n",
       "20     Paulina   Livro C        Comedia\n",
       "22     Paulina   Livro F        Técnico\n",
       "45     Paulita   Livro F        Técnico\n",
       "44     Paulita   Livro H        Comedia\n",
       "43     Paulita   Livro C        Comedia\n",
       "9        Paulo   Livro H        Técnico\n",
       "8        Paulo   Livro G        Técnico\n",
       "31  Paulozildo   Livro G        Técnico\n",
       "32  Paulozildo   Livro H        Técnico\n",
       "7        Pedro   Livro F        Técnico\n",
       "30  Pedronildo   Livro F        Técnico\n",
       "51     Ricardo   Livro K          Jogos"
      ]
     },
     "execution_count": 21,
     "metadata": {},
     "output_type": "execute_result"
    }
   ],
   "source": [
    "df_Readers_sorted"
   ]
  },
  {
   "cell_type": "markdown",
   "metadata": {},
   "source": [
    "Creating dictionary with values to create a json file:"
   ]
  },
  {
   "cell_type": "code",
   "execution_count": 22,
   "metadata": {},
   "outputs": [
    {
     "name": "stdout",
     "output_type": "stream",
     "text": [
      "Dicionario  {'Bruno': {'Livro I': 'Saúde'}, 'Chico': {'Livro D': 'Crime', 'Livro E': 'Crime'}, 'Chiconildo': {'Livro D': 'Crime', 'Livro E': 'Crime'}, 'Emma': {'Livro BC': 'Infantil'}, 'Enzo': {'Livro AB': 'Fantasia'}, 'Eric': {'Livro BC': 'Infantil'}, 'Erika': {'Livro J': 'Pais e Filhos'}, 'Flor': {'Livro A': 'Romance', 'Livro B': 'Romance', 'Livro E': 'Crime'}, 'Florinda': {'Livro A': 'Romance', 'Livro B': 'Romance', 'Livro E': 'Crime'}, 'Josezinho': {'Livro C': 'Comedia', 'Livro D': 'Crime', 'Livro E': 'Crime'}, 'José': {'Livro C': 'Comedia', 'Livro D': 'Crime', 'Livro E': 'Crime'}, 'Linda': {'Livro A': 'Romance', 'Livro B': 'Romance', 'Livro C': 'Comedia'}, 'Lindanina': {'Livro A': 'Romance', 'Livro B': 'Romance', 'Livro C': 'Comedia'}, 'Maria': {'Livro A': 'Romance', 'Livro B': 'Romance'}, 'Mariazinha': {'Livro A': 'Romance', 'Livro B': 'Romance'}, 'Paula': {'Livro C': 'Comedia', 'Livro F': 'Técnico', 'Livro G': 'Técnico', 'Livro H': 'Técnico'}, 'Paulazina': {'Livro C': 'Comedia', 'Livro F': 'Técnico', 'Livro G': 'Técnico', 'Livro H': 'Técnico'}, 'Paulina': {'Livro C': 'Comedia', 'Livro H': 'Comedia', 'Livro F': 'Técnico'}, 'Paulita': {'Livro C': 'Comedia', 'Livro H': 'Comedia', 'Livro F': 'Técnico'}, 'Paulo': {'Livro G': 'Técnico', 'Livro H': 'Técnico'}, 'Paulozildo': {'Livro G': 'Técnico', 'Livro H': 'Técnico'}, 'Pedro': {'Livro F': 'Técnico'}, 'Pedronildo': {'Livro F': 'Técnico'}, 'Ricardo': {'Livro K': 'Jogos'}}\n"
     ]
    }
   ],
   "source": [
    "dicReaders = {}\n",
    "dicBooks = {}\n",
    "\n",
    "# Create a list of Readers\n",
    "distinctReaders = sorted(set(list(df_Readers_sorted.Readers)))\n",
    "\n",
    "#iterate each reader's row to create a view for each value of the dataframe \n",
    "for each_reader in distinctReaders:\n",
    "    \n",
    "    #iterate each row of the dataframe\n",
    "    for index, row in df_Readers.iterrows():\n",
    "                \n",
    "        # if the reader's row is the same, append new data into dictionary\n",
    "        if (row['Readers'] == each_reader):\n",
    "            \n",
    "            #Create a dictionary with book:category\n",
    "            dicBooks[row['Books']] = row['Categories']\n",
    "            #print(\"Livros\", dicBooks)\n",
    "            \n",
    "            #Create a dictionary considering the reader\n",
    "            dicReaders[row['Readers']] = dicBooks    \n",
    "            #print(\"-------TUDO -------\" , dicReaders)\n",
    "                          \n",
    "        # if the reader's row is not the same, cleans the book dictionary\n",
    "        if (row['Readers'] != each_reader):\n",
    "            dicBooks = {}\n",
    "       \n",
    "    \n",
    "    \n",
    "#dictionary result\n",
    "print(\"Dicionario \", dicReaders)"
   ]
  },
  {
   "cell_type": "code",
   "execution_count": 23,
   "metadata": {},
   "outputs": [],
   "source": [
    "#function with JSON\n",
    "def export_json(v_filename):\n",
    "    \n",
    "    for x in dicReaders:\n",
    "        file = open(v_filename, \"a\")\n",
    "        file.write(\"{'\" + str(x) + \"':\" + str(dicReaders[x]) + \"}\")\n",
    "        file.write(\"\\n\")\n",
    "        #print(dicReaders)\n",
    "        file.close() "
   ]
  },
  {
   "cell_type": "code",
   "execution_count": 24,
   "metadata": {},
   "outputs": [],
   "source": [
    "#Exporta dados para arquivo json\n",
    "export_json(\"files/Export_Estudantes.json\")"
   ]
  },
  {
   "cell_type": "markdown",
   "metadata": {
    "collapsed": true
   },
   "source": [
    "### Adding data into JSON File"
   ]
  },
  {
   "cell_type": "code",
   "execution_count": 25,
   "metadata": {},
   "outputs": [
    {
     "name": "stdout",
     "output_type": "stream",
     "text": [
      "{'Carol': {'Livro T': 'Comédia', 'Livro V': 'Poesia'}}\n"
     ]
    }
   ],
   "source": [
    "dic_newdata1 = {'Carol': {'Livro T':\"Comédia\",'Livro V':\"Poesia\"}}\n",
    "\n",
    "#Reading the result of the dictionary\n",
    "print(dic_newdata1)"
   ]
  },
  {
   "cell_type": "code",
   "execution_count": 26,
   "metadata": {},
   "outputs": [],
   "source": [
    "file = open(\"files/Export_Estudantes.json\", \"a\")\n",
    "file.write(str(dic_newdata1))\n",
    "file.write(\"\\n\")\n",
    "file.close()"
   ]
  },
  {
   "cell_type": "markdown",
   "metadata": {},
   "source": [
    "### <a href=https://www.linkedin.com/in/jmilhomem/>br.linkedin.com/in/jmilhomem</a> ###"
   ]
  }
 ],
 "metadata": {
  "kernelspec": {
   "display_name": "Python 3",
   "language": "python",
   "name": "python3"
  },
  "language_info": {
   "codemirror_mode": {
    "name": "ipython",
    "version": 3
   },
   "file_extension": ".py",
   "mimetype": "text/x-python",
   "name": "python",
   "nbconvert_exporter": "python",
   "pygments_lexer": "ipython3",
   "version": "3.7.0"
  }
 },
 "nbformat": 4,
 "nbformat_minor": 2
}
