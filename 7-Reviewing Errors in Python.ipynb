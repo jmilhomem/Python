{
 "cells": [
  {
   "cell_type": "markdown",
   "metadata": {},
   "source": [
    "\n",
    "Some scripts below were developed based on exercises of [Teclado Code](http://blog.tecladocode.com/)\n"
   ]
  },
  {
   "cell_type": "markdown",
   "metadata": {},
   "source": [
    "## Practicing Errors in Python"
   ]
  },
  {
   "cell_type": "markdown",
   "metadata": {},
   "source": [
    "### Traceback\n",
    "Detailed error description. It contains:\n",
    "1. TypeError and its description\n",
    "2. Line of the code that raised the error\n",
    "3. Function used to raise the error and where it is (which module)"
   ]
  },
  {
   "cell_type": "markdown",
   "metadata": {},
   "source": [
    "Main Errors that happens:\n",
    "\n",
    "* <b>IndexError:</b> Trying to access some index on a list that doesn't exist. \n",
    "* <b>KeyError:</b> Trying to access a key on a dictionary that doesn't exist. \n",
    "* <b>NameError:</b> Trying to use an object that wasn't defined.\n",
    "* <b>AttributeError:</b> Trying to use an attribute or method of some object that doesn't exist. \n",
    "* <b>RuntimeError:</b> It is a generic error.\n",
    "* <b>SyntaxError:</b> When the code is missing some important syntax code.\n",
    "* <b>TabError:</b> Using the tab and spaces to indent your code. (Use just spaces)\n",
    "* <b>TypeError:</b> Trying to mix different types without casting.\n",
    "* <b>ValueError:</b> Trying to define a value that not match with the variable definition. Ex: decimal for an int variable.\n",
    "* <b>ImportError:</b> When you are importing some module or method that is being imported on other module that you are using. It is a cycle importation error.\n",
    "* <b>NotImplementedError:</b> It is used to say that the development was not implemented yet."
   ]
  },
  {
   "cell_type": "code",
   "execution_count": 13,
   "metadata": {},
   "outputs": [],
   "source": [
    "\"\"\"\n",
    "for the function below, add your code in appropriate place that checks the input n.\n",
    "n should be a non-negative integer, otherwise a ValueError should be raised\n",
    "and a proper error message should be provided informing the user of the error\n",
    "for simplicity, you may assume that the input is always an integer for this exercise\n",
    "\"\"\"\n",
    "def count_from_zero_to_n(n):\n",
    "    if n < 0:\n",
    "        raise ValueError(\"The paremeter must be a non-negative integer.\")\n",
    "    for x in range(0, n+1):\n",
    "        print(x)"
   ]
  },
  {
   "cell_type": "code",
   "execution_count": 14,
   "metadata": {},
   "outputs": [
    {
     "ename": "ValueError",
     "evalue": "The paremeter must be a non-negative integer.",
     "output_type": "error",
     "traceback": [
      "\u001b[0;31m---------------------------------------------------------------------------\u001b[0m",
      "\u001b[0;31mValueError\u001b[0m                                Traceback (most recent call last)",
      "\u001b[0;32m<ipython-input-14-4e6ce837d8e4>\u001b[0m in \u001b[0;36m<module>\u001b[0;34m()\u001b[0m\n\u001b[0;32m----> 1\u001b[0;31m \u001b[0mcount_from_zero_to_n\u001b[0m\u001b[0;34m(\u001b[0m\u001b[0;34m-\u001b[0m\u001b[0;36m1\u001b[0m\u001b[0;34m)\u001b[0m\u001b[0;34m\u001b[0m\u001b[0m\n\u001b[0m",
      "\u001b[0;32m<ipython-input-13-359cc49aebcd>\u001b[0m in \u001b[0;36mcount_from_zero_to_n\u001b[0;34m(n)\u001b[0m\n\u001b[1;32m      7\u001b[0m \u001b[0;32mdef\u001b[0m \u001b[0mcount_from_zero_to_n\u001b[0m\u001b[0;34m(\u001b[0m\u001b[0mn\u001b[0m\u001b[0;34m)\u001b[0m\u001b[0;34m:\u001b[0m\u001b[0;34m\u001b[0m\u001b[0m\n\u001b[1;32m      8\u001b[0m     \u001b[0;32mif\u001b[0m \u001b[0mn\u001b[0m \u001b[0;34m<\u001b[0m \u001b[0;36m0\u001b[0m\u001b[0;34m:\u001b[0m\u001b[0;34m\u001b[0m\u001b[0m\n\u001b[0;32m----> 9\u001b[0;31m         \u001b[0;32mraise\u001b[0m \u001b[0mValueError\u001b[0m\u001b[0;34m(\u001b[0m\u001b[0;34m\"The paremeter must be a non-negative integer.\"\u001b[0m\u001b[0;34m)\u001b[0m\u001b[0;34m\u001b[0m\u001b[0m\n\u001b[0m\u001b[1;32m     10\u001b[0m     \u001b[0;32mfor\u001b[0m \u001b[0mx\u001b[0m \u001b[0;32min\u001b[0m \u001b[0mrange\u001b[0m\u001b[0;34m(\u001b[0m\u001b[0;36m0\u001b[0m\u001b[0;34m,\u001b[0m \u001b[0mn\u001b[0m\u001b[0;34m+\u001b[0m\u001b[0;36m1\u001b[0m\u001b[0;34m)\u001b[0m\u001b[0;34m:\u001b[0m\u001b[0;34m\u001b[0m\u001b[0m\n\u001b[1;32m     11\u001b[0m         \u001b[0mprint\u001b[0m\u001b[0;34m(\u001b[0m\u001b[0mx\u001b[0m\u001b[0;34m)\u001b[0m\u001b[0;34m\u001b[0m\u001b[0m\n",
      "\u001b[0;31mValueError\u001b[0m: The paremeter must be a non-negative integer."
     ]
    }
   ],
   "source": [
    "count_from_zero_to_n(-1)"
   ]
  },
  {
   "cell_type": "markdown",
   "metadata": {},
   "source": [
    "Creating customized errors using inheritance.\n",
    "1. We create the class inheriting from the some parent constructor classe, as Exception, which is the maximum base class that should be inherited (or another class)\n",
    "2. Inside it we call for the superclass(the parent class), passing the parameters\n",
    "3. Define a docstring (documentation of the class developed)"
   ]
  },
  {
   "cell_type": "code",
   "execution_count": 45,
   "metadata": {},
   "outputs": [],
   "source": [
    "class CustomizedError(TypeError):\n",
    "    \"\"\"\n",
    "    Error is raised when \"specific event occurs\".\n",
    "    \"\"\"\n",
    "    def __init__(self, message, code):\n",
    "        super().__init__(f\"Code Error: {code}, {message}\")"
   ]
  },
  {
   "cell_type": "code",
   "execution_count": 59,
   "metadata": {},
   "outputs": [
    {
     "ename": "CustomizedError",
     "evalue": "Code Error: 500, Creating an error",
     "output_type": "error",
     "traceback": [
      "\u001b[0;31m---------------------------------------------------------------------------\u001b[0m",
      "\u001b[0;31mCustomizedError\u001b[0m                           Traceback (most recent call last)",
      "\u001b[0;32m<ipython-input-59-57a4da1071ef>\u001b[0m in \u001b[0;36m<module>\u001b[0;34m()\u001b[0m\n\u001b[0;32m----> 1\u001b[0;31m \u001b[0;32mraise\u001b[0m \u001b[0mCustomizedError\u001b[0m\u001b[0;34m(\u001b[0m\u001b[0;34m\"Creating an error\"\u001b[0m\u001b[0;34m,\u001b[0m \u001b[0;36m500\u001b[0m\u001b[0;34m)\u001b[0m\u001b[0;34m\u001b[0m\u001b[0m\n\u001b[0m",
      "\u001b[0;31mCustomizedError\u001b[0m: Code Error: 500, Creating an error"
     ]
    }
   ],
   "source": [
    "raise CustomizedError(\"Creating an error\", 500)"
   ]
  },
  {
   "cell_type": "code",
   "execution_count": 60,
   "metadata": {},
   "outputs": [
    {
     "name": "stdout",
     "output_type": "stream",
     "text": [
      "\n",
      "    Error is raised when \"specific event occurs\".\n",
      "    \n"
     ]
    }
   ],
   "source": [
    "err = CustomizedError(\"Creating an error\", 500)\n",
    "print(err.__doc__)"
   ]
  },
  {
   "cell_type": "markdown",
   "metadata": {},
   "source": [
    "### Try, Except and Finally\n",
    "Used to try the execution, raise an Error when we have some exception and Finally to run everytime that the code runs.\n",
    "\n",
    "Errors can be used to make it explicit when something didn't work as intended, so that the caller can deal with the failure (asking for forgiveness). It is what Try, Except and Finally do."
   ]
  },
  {
   "cell_type": "markdown",
   "metadata": {},
   "source": [
    "Another option, less popular in Python, is to check whether the thing you're trying to do will succeed before doing it (asking for permission)."
   ]
  },
  {
   "cell_type": "code",
   "execution_count": 4,
   "metadata": {},
   "outputs": [],
   "source": [
    "def power_of_two():\n",
    "    user_input = input(\"Please enter a number: \")\n",
    "    try:\n",
    "        n = float(user_input)\n",
    "        n_square = n ** 2\n",
    "        return n_square\n",
    "    \n",
    "    except ValueError:\n",
    "        print(\"Your input was invalid.\")\n",
    "        \n",
    "    finally:\n",
    "        print(\"Good bye!\")"
   ]
  },
  {
   "cell_type": "code",
   "execution_count": 5,
   "metadata": {},
   "outputs": [
    {
     "name": "stdout",
     "output_type": "stream",
     "text": [
      "Please enter a number: n\n",
      "Your input was invalid.\n",
      "Good bye!\n"
     ]
    }
   ],
   "source": [
    "power_of_two()"
   ]
  },
  {
   "cell_type": "markdown",
   "metadata": {},
   "source": [
    "Using the else command and how to raise the Error's trace."
   ]
  },
  {
   "cell_type": "code",
   "execution_count": 6,
   "metadata": {},
   "outputs": [],
   "source": [
    "def power_of_two():\n",
    "    user_input = input(\"Please enter a number: \")\n",
    "    try:\n",
    "        n = float(user_input)\n",
    "        n_square = n ** 2\n",
    "    \n",
    "    except ValueError:\n",
    "        print(\"Your input was invalid. Using default value 0\")\n",
    "        \n",
    "        #raise the error and shows the trace\n",
    "        raise\n",
    "    \n",
    "    else:\n",
    "        print(\"Everything was fine!\")\n",
    "        return n_square"
   ]
  },
  {
   "cell_type": "code",
   "execution_count": 7,
   "metadata": {},
   "outputs": [
    {
     "name": "stdout",
     "output_type": "stream",
     "text": [
      "Please enter a number: n\n",
      "Your input was invalid. Using default value 0\n"
     ]
    },
    {
     "ename": "ValueError",
     "evalue": "could not convert string to float: 'n'",
     "output_type": "error",
     "traceback": [
      "\u001b[0;31m---------------------------------------------------------------------------\u001b[0m",
      "\u001b[0;31mValueError\u001b[0m                                Traceback (most recent call last)",
      "\u001b[0;32m<ipython-input-7-21eb950acead>\u001b[0m in \u001b[0;36m<module>\u001b[0;34m()\u001b[0m\n\u001b[0;32m----> 1\u001b[0;31m \u001b[0mpower_of_two\u001b[0m\u001b[0;34m(\u001b[0m\u001b[0;34m)\u001b[0m\u001b[0;34m\u001b[0m\u001b[0m\n\u001b[0m",
      "\u001b[0;32m<ipython-input-6-937f340a0a12>\u001b[0m in \u001b[0;36mpower_of_two\u001b[0;34m()\u001b[0m\n\u001b[1;32m      2\u001b[0m     \u001b[0muser_input\u001b[0m \u001b[0;34m=\u001b[0m \u001b[0minput\u001b[0m\u001b[0;34m(\u001b[0m\u001b[0;34m\"Please enter a number: \"\u001b[0m\u001b[0;34m)\u001b[0m\u001b[0;34m\u001b[0m\u001b[0m\n\u001b[1;32m      3\u001b[0m     \u001b[0;32mtry\u001b[0m\u001b[0;34m:\u001b[0m\u001b[0;34m\u001b[0m\u001b[0m\n\u001b[0;32m----> 4\u001b[0;31m         \u001b[0mn\u001b[0m \u001b[0;34m=\u001b[0m \u001b[0mfloat\u001b[0m\u001b[0;34m(\u001b[0m\u001b[0muser_input\u001b[0m\u001b[0;34m)\u001b[0m\u001b[0;34m\u001b[0m\u001b[0m\n\u001b[0m\u001b[1;32m      5\u001b[0m         \u001b[0mn_square\u001b[0m \u001b[0;34m=\u001b[0m \u001b[0mn\u001b[0m \u001b[0;34m**\u001b[0m \u001b[0;36m2\u001b[0m\u001b[0;34m\u001b[0m\u001b[0m\n\u001b[1;32m      6\u001b[0m \u001b[0;34m\u001b[0m\u001b[0m\n",
      "\u001b[0;31mValueError\u001b[0m: could not convert string to float: 'n'"
     ]
    }
   ],
   "source": [
    "power_of_two()"
   ]
  },
  {
   "cell_type": "markdown",
   "metadata": {},
   "source": [
    "### <a href=https://www.linkedin.com/in/jmilhomem/>br.linkedin.com/in/jmilhomem</a> ###"
   ]
  }
 ],
 "metadata": {
  "kernelspec": {
   "display_name": "Python 3",
   "language": "python",
   "name": "python3"
  },
  "language_info": {
   "codemirror_mode": {
    "name": "ipython",
    "version": 3
   },
   "file_extension": ".py",
   "mimetype": "text/x-python",
   "name": "python",
   "nbconvert_exporter": "python",
   "pygments_lexer": "ipython3",
   "version": "3.7.0"
  }
 },
 "nbformat": 4,
 "nbformat_minor": 2
}
