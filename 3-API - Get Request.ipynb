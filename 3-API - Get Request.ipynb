{
 "cells": [
  {
   "cell_type": "markdown",
   "metadata": {},
   "source": [
    "## Using a GET request to read data from an API"
   ]
  },
  {
   "cell_type": "markdown",
   "metadata": {},
   "source": [
    "API (Application programming Interface) is a set of routines created to access a software application or a web-based platform.\n",
    "In general, APIs request data to Web Servers and this data are usually returned as json files.\n",
    "\n",
    "**Type of Request GET**: Used to retrieve data.\n",
    "\n",
    "**API endpoint**: a server route that is used to retrieve different data from the API. It may be included on the base url.\n",
    "\n",
    "* The script below is going to read read data from the International Space Station's API using as reference the [Dataquest's blog post](https://www.dataquest.io/blog/python-api-tutorial/)\n",
    "* Base URL API: http://api.open-notify.org\n",
    "* The last endpoint (astros.json) explored will generate a json, which will be read as a source for a dataframe that will be created to show the data on a table-based view."
   ]
  },
  {
   "cell_type": "markdown",
   "metadata": {},
   "source": [
    "### Exploring the API and its endpoints:"
   ]
  },
  {
   "cell_type": "markdown",
   "metadata": {},
   "source": [
    "Doing the first request and checking the status code of the response"
   ]
  },
  {
   "cell_type": "code",
   "execution_count": 4,
   "metadata": {},
   "outputs": [],
   "source": [
    "#defining the base url\n",
    "v_base_url = \"http://api.open-notify.org/\""
   ]
  },
  {
   "cell_type": "code",
   "execution_count": 5,
   "metadata": {},
   "outputs": [
    {
     "name": "stdout",
     "output_type": "stream",
     "text": [
      "200\n"
     ]
    }
   ],
   "source": [
    "import requests\n",
    "\n",
    "#creating the API endpoint variable\n",
    "v_endpoint = v_base_url + \"iss-now.json\"\n",
    "\n",
    "# Make a get request to get the latest position of the international space station from the opennotify api.\n",
    "response = requests.get(v_endpoint)\n",
    "\n",
    "#print the status code of th response\n",
    "print(response.status_code)"
   ]
  },
  {
   "cell_type": "markdown",
   "metadata": {},
   "source": [
    "Some APIs request parameters to result the data as expected.\n",
    "In the example below, the ISS Pass endpoint returns when the ISS will next pass over a given location on earth. In order to compute this, we need to pass the coordinates of the location to the API.\n",
    "The Parameters that are necessary are:\n",
    "* lat (The latitude of the location we want, which is SAO PAULO state = 233301) \n",
    "* lon (The latitude of the location we want, which is SAO PAULO state = 463802)"
   ]
  },
  {
   "cell_type": "code",
   "execution_count": 6,
   "metadata": {},
   "outputs": [
    {
     "name": "stdout",
     "output_type": "stream",
     "text": [
      "------Passing the paremeters explicitly and its response:------\n",
      "b'{\\n  \"message\": \"success\", \\n  \"request\": {\\n    \"altitude\": 100, \\n    \"datetime\": 1547421211, \\n    \"latitude\": 23.0, \\n    \"longitude\": 46.0, \\n    \"passes\": 5\\n  }, \\n  \"response\": [\\n    {\\n      \"duration\": 594, \\n      \"risetime\": 1547432544\\n    }, \\n    {\\n      \"duration\": 575, \\n      \"risetime\": 1547438335\\n    }, \\n    {\\n      \"duration\": 636, \\n      \"risetime\": 1547486324\\n    }, \\n    {\\n      \"duration\": 484, \\n      \"risetime\": 1547492202\\n    }, \\n    {\\n      \"duration\": 517, \\n      \"risetime\": 1547515861\\n    }\\n  ]\\n}\\n'\n",
      "\n",
      "------Passing Full Link and its response:------\n",
      "b'{\\n  \"message\": \"success\", \\n  \"request\": {\\n    \"altitude\": 100, \\n    \"datetime\": 1547421211, \\n    \"latitude\": 23.0, \\n    \"longitude\": 46.0, \\n    \"passes\": 5\\n  }, \\n  \"response\": [\\n    {\\n      \"duration\": 594, \\n      \"risetime\": 1547432544\\n    }, \\n    {\\n      \"duration\": 575, \\n      \"risetime\": 1547438335\\n    }, \\n    {\\n      \"duration\": 636, \\n      \"risetime\": 1547486324\\n    }, \\n    {\\n      \"duration\": 484, \\n      \"risetime\": 1547492202\\n    }, \\n    {\\n      \"duration\": 517, \\n      \"risetime\": 1547515861\\n    }\\n  ]\\n}\\n'\n",
      "\n",
      "\n"
     ]
    }
   ],
   "source": [
    "import requests\n",
    "\n",
    "#creating the API endpoint variable\n",
    "v_endpoint = v_base_url + \"iss-pass.json\"\n",
    "\n",
    "#creating the parameters \n",
    "#(always as dictiories because requests takes care of some things that come up, like properly formatting the query parameters)\n",
    "v_parameters = {\"lat\": 23, \"lon\": 46}\n",
    "\n",
    "# Make a get request with the parameters.\n",
    "response = requests.get(v_endpoint, params=v_parameters)\n",
    "\n",
    "#print the content of the request's response (data that the server returned)\n",
    "print(\"------Passing the paremeters explicitly and its response:------\")\n",
    "print(response.content)\n",
    "\n",
    "# This gets the same data as the command above\n",
    "response = requests.get(v_endpoint + \"?lat=23&lon=46\")\n",
    "print(\"\\n------Passing Full Link and its response:------\")\n",
    "print(response.content)\n",
    "print(\"\\n\")"
   ]
  },
  {
   "cell_type": "markdown",
   "metadata": {},
   "source": [
    "The server send us 3 types of data when the response status is positive. There are:\n",
    "* **Response:** The status code of the response, which will be 200 (success).\n",
    "* **Header:** Metadata containing information on how the data was generated and how to decode it (**content-type**).\n",
    "* **Body:** The data that we expect to receive.\n"
   ]
  },
  {
   "cell_type": "code",
   "execution_count": 7,
   "metadata": {},
   "outputs": [
    {
     "name": "stdout",
     "output_type": "stream",
     "text": [
      "<class 'requests.structures.CaseInsensitiveDict'>\n",
      "{'Server': 'nginx/1.10.3', 'Date': 'Sun, 13 Jan 2019 23:13:32 GMT', 'Content-Type': 'application/json', 'Content-Length': '517', 'Connection': 'keep-alive', 'Via': '1.1 vegur'}\n",
      "\n",
      "Content Type:\n",
      "application/json\n",
      "\n",
      "\n"
     ]
    }
   ],
   "source": [
    "#checking the headers\n",
    "v_header = response.headers\n",
    "print(type(v_header))\n",
    "print(v_header)\n",
    "\n",
    "#checking the content-type from the dictionary\n",
    "print(\"\\nContent Type:\")\n",
    "print(v_header[\"content-type\"])\n",
    "print(\"\\n\")"
   ]
  },
  {
   "cell_type": "markdown",
   "metadata": {},
   "source": [
    "To work with the data that comes in JSON format, it is important transform it into string, using:\n",
    "* response.content.**decode (\"utf-8\")**\n",
    "\n",
    "Python has a package called JSON which converts lists and dictionaries to JSON and converts strings to lists and dictionaries.\n",
    "* **dumps**: Takes in a Python object and converts it to a string.\n",
    "* **loads** - Takes a JSON string and converts it to a Python objects."
   ]
  },
  {
   "cell_type": "code",
   "execution_count": 8,
   "metadata": {},
   "outputs": [
    {
     "name": "stdout",
     "output_type": "stream",
     "text": [
      "['orange', 'strawberry', 'grape']\n",
      "<class 'list'>\n",
      "[\"orange\", \"strawberry\", \"grape\"]\n",
      "<class 'str'>\n",
      "['orange', 'strawberry', 'grape']\n",
      "<class 'list'>\n",
      "\n",
      "\n"
     ]
    }
   ],
   "source": [
    "import json\n",
    "\n",
    "#creating a list to practice the conversions\n",
    "v_list_fruits = [\"orange\", \"strawberry\", \"grape\"]\n",
    "print((v_list_fruits))\n",
    "print(type(v_list_fruits))\n",
    "\n",
    "#Converting the list object into string\n",
    "v_fruits = json.dumps(v_list_fruits)\n",
    "print((v_fruits))\n",
    "print(type(v_fruits))\n",
    "\n",
    "#Converting the string into a list object\n",
    "v_converted_fruits = json.loads(v_fruits)\n",
    "print((v_converted_fruits))\n",
    "print(type(v_converted_fruits))\n",
    "print(\"\\n\")"
   ]
  },
  {
   "cell_type": "markdown",
   "metadata": {},
   "source": [
    "Doing the requestment applying the Python's conversion for the response"
   ]
  },
  {
   "cell_type": "code",
   "execution_count": 9,
   "metadata": {},
   "outputs": [
    {
     "name": "stdout",
     "output_type": "stream",
     "text": [
      "---------Response Content without treatments---------\n",
      "b'{\\n  \"message\": \"success\", \\n  \"request\": {\\n    \"altitude\": 100, \\n    \"datetime\": 1547421211, \\n    \"latitude\": 23.0, \\n    \"longitude\": 46.0, \\n    \"passes\": 5\\n  }, \\n  \"response\": [\\n    {\\n      \"duration\": 594, \\n      \"risetime\": 1547432544\\n    }, \\n    {\\n      \"duration\": 575, \\n      \"risetime\": 1547438335\\n    }, \\n    {\\n      \"duration\": 636, \\n      \"risetime\": 1547486324\\n    }, \\n    {\\n      \"duration\": 484, \\n      \"risetime\": 1547492202\\n    }, \\n    {\\n      \"duration\": 517, \\n      \"risetime\": 1547515861\\n    }\\n  ]\\n}\\n'\n",
      "\n",
      "---------Response Content after treatments---------\n",
      "<class 'dict'>\n",
      "{'message': 'success', 'request': {'altitude': 100, 'datetime': 1547421211, 'latitude': 23.0, 'longitude': 46.0, 'passes': 5}, 'response': [{'duration': 594, 'risetime': 1547432544}, {'duration': 575, 'risetime': 1547438335}, {'duration': 636, 'risetime': 1547486324}, {'duration': 484, 'risetime': 1547492202}, {'duration': 517, 'risetime': 1547515861}]}\n",
      "\n",
      "\n"
     ]
    }
   ],
   "source": [
    "import requests\n",
    "import json\n",
    "\n",
    "#creating the API endpoint variable\n",
    "v_endpoint = v_base_url + \"iss-pass.json\"\n",
    "\n",
    "#creating the parameters \n",
    "#(always as dictiories because requests takes care of some things that come up, like properly formatting the query parameters)\n",
    "v_parameters = {\"lat\": 23, \"lon\": 46}\n",
    "\n",
    "# Make a get request with the parameters.\n",
    "response = requests.get(v_endpoint, params=v_parameters)\n",
    "\n",
    "#print the request without treatments\n",
    "print(\"---------Response Content without treatments---------\")\n",
    "print(response.content)\n",
    "\n",
    "#convert the response into a python object\n",
    "v_data = response.json()\n",
    "print(\"\\n---------Response Content after treatments---------\")\n",
    "print(type(v_data))\n",
    "print(v_data)\n",
    "print(\"\\n\")"
   ]
  },
  {
   "cell_type": "markdown",
   "metadata": {},
   "source": [
    "Now, we are going to get data from other endpoint called **astros.json**. It tells us how many people are currently in space."
   ]
  },
  {
   "cell_type": "code",
   "execution_count": 10,
   "metadata": {},
   "outputs": [
    {
     "name": "stdout",
     "output_type": "stream",
     "text": [
      "{'Server': 'nginx/1.10.3', 'Date': 'Sun, 13 Jan 2019 23:13:38 GMT', 'Content-Type': 'application/json', 'Content-Length': '182', 'Connection': 'keep-alive', 'access-control-allow-origin': '*'}\n",
      "\n",
      "Content type:\n",
      "application/json\n",
      "\n",
      "Content data:\n",
      "<class 'dict'>\n",
      "{'people': [{'name': 'Oleg Kononenko', 'craft': 'ISS'}, {'name': 'David Saint-Jacques', 'craft': 'ISS'}, {'name': 'Anne McClain', 'craft': 'ISS'}], 'number': 3, 'message': 'success'}\n",
      "\n",
      "\n"
     ]
    }
   ],
   "source": [
    "import requests\n",
    "import json\n",
    "\n",
    "#creating the API endpoint variable\n",
    "v_endpoint = v_base_url + \"astros.json\"\n",
    "\n",
    "#Get the response from the API endpoint\n",
    "response = requests.get(v_endpoint)\n",
    "\n",
    "#Check the content-type that comes within the header to understand how to manipulate the data\n",
    "v_header = response.headers\n",
    "print(v_header)\n",
    "print(\"\\nContent type:\")\n",
    "print(v_header[\"content-type\"])\n",
    "\n",
    "#Convert the response to a JSON object\n",
    "v_astrosdata = response.json()\n",
    "print(\"\\nContent data:\")\n",
    "print(type(v_astrosdata))\n",
    "print(v_astrosdata)\n",
    "print(\"\\n\")"
   ]
  },
  {
   "cell_type": "markdown",
   "metadata": {},
   "source": [
    "### Creating a table-based view within the astronauts' information who are in space now:"
   ]
  },
  {
   "cell_type": "code",
   "execution_count": 12,
   "metadata": {},
   "outputs": [
    {
     "data": {
      "text/html": [
       "<div>\n",
       "<style scoped>\n",
       "    .dataframe tbody tr th:only-of-type {\n",
       "        vertical-align: middle;\n",
       "    }\n",
       "\n",
       "    .dataframe tbody tr th {\n",
       "        vertical-align: top;\n",
       "    }\n",
       "\n",
       "    .dataframe thead th {\n",
       "        text-align: right;\n",
       "    }\n",
       "</style>\n",
       "<table border=\"1\" class=\"dataframe\">\n",
       "  <thead>\n",
       "    <tr style=\"text-align: right;\">\n",
       "      <th></th>\n",
       "      <th>Name</th>\n",
       "      <th>Craft</th>\n",
       "    </tr>\n",
       "  </thead>\n",
       "  <tbody>\n",
       "    <tr>\n",
       "      <th>0</th>\n",
       "      <td>Oleg Kononenko</td>\n",
       "      <td>ISS</td>\n",
       "    </tr>\n",
       "    <tr>\n",
       "      <th>1</th>\n",
       "      <td>David Saint-Jacques</td>\n",
       "      <td>ISS</td>\n",
       "    </tr>\n",
       "    <tr>\n",
       "      <th>2</th>\n",
       "      <td>Anne McClain</td>\n",
       "      <td>ISS</td>\n",
       "    </tr>\n",
       "  </tbody>\n",
       "</table>\n",
       "</div>"
      ],
      "text/plain": [
       "                  Name Craft\n",
       "0       Oleg Kononenko   ISS\n",
       "1  David Saint-Jacques   ISS\n",
       "2         Anne McClain   ISS"
      ]
     },
     "execution_count": 12,
     "metadata": {},
     "output_type": "execute_result"
    }
   ],
   "source": [
    "import pandas as pd\n",
    "\n",
    "v_name_list = []\n",
    "v_craft_list = []\n",
    "\n",
    "#reading the names and crafts from the dictionary origined by the API's response\n",
    "for each_name in v_astrosdata[\"people\"]:\n",
    "    #print(each_name[\"name\"])\n",
    "    v_name_list.append(each_name[\"name\"])\n",
    "    v_craft_list.append(each_name[\"craft\"])\n",
    "    \n",
    "\n",
    "#creating the dataframe with the astronauts in space's information\n",
    "df_astronauts = pd.DataFrame({\"Name\": v_name_list\n",
    "                              ,\"Craft\": v_craft_list})\n",
    "df_astronauts"
   ]
  },
  {
   "cell_type": "markdown",
   "metadata": {},
   "source": [
    "### <a href=https://www.linkedin.com/in/jmilhomem/>br.linkedin.com/in/jmilhomem</a> ###"
   ]
  }
 ],
 "metadata": {
  "kernelspec": {
   "display_name": "Python 3",
   "language": "python",
   "name": "python3"
  },
  "language_info": {
   "codemirror_mode": {
    "name": "ipython",
    "version": 3
   },
   "file_extension": ".py",
   "mimetype": "text/x-python",
   "name": "python",
   "nbconvert_exporter": "python",
   "pygments_lexer": "ipython3",
   "version": "3.7.0"
  }
 },
 "nbformat": 4,
 "nbformat_minor": 2
}
