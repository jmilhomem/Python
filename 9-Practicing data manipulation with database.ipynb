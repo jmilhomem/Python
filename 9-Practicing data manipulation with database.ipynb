{
 "cells": [
  {
   "cell_type": "markdown",
   "metadata": {},
   "source": [
    "## Practicing the manipulation and store of data with database (SQL Lite) in Python"
   ]
  },
  {
   "cell_type": "markdown",
   "metadata": {},
   "source": [
    "### Manipulating and storing data with a database\n",
    "* Creating a table\n",
    "* Inserting data into a table\n",
    "* Deleting data from a table\n",
    "* Updating data into a table\n",
    "* Selecting data from a table"
   ]
  },
  {
   "cell_type": "code",
   "execution_count": 1,
   "metadata": {},
   "outputs": [
    {
     "name": "stdout",
     "output_type": "stream",
     "text": [
      "[(1, 'FIESTA'), (2, 'PALIO'), (1, 'FIESTA'), (2, 'PALIO')]\n"
     ]
    }
   ],
   "source": [
    "import sqlite3\n",
    "\n",
    "connection = sqlite3.connect(\"data.db\")\n",
    "cursor = connection.cursor()\n",
    "\n",
    "cursor.execute(\"Create table if not exists cars(id integer, car_name varchar(30))\")\n",
    "cursor.execute(\"insert into cars(id, car_name) values (?, ?)\", (\"1\", \"fiesta\"))\n",
    "cursor.execute(\"insert into cars(id, car_name) values (?, ?)\", (\"2\", \"palio\"))\n",
    "cursor.execute(\"delete from cars where id = ? or id = ?\", (\"3\", \"4\"))\n",
    "cursor.execute(\"update cars set car_name = upper(car_name)\")\n",
    "cursor.execute(\"select * from cars\")\n",
    "cars_list = cursor.fetchall()\n",
    "\n",
    "print(cars_list)\n",
    "\n",
    "\n",
    "connection.commit()\n",
    "\n",
    "connection.close()"
   ]
  },
  {
   "cell_type": "markdown",
   "metadata": {},
   "source": [
    "### Creating a Context Manager\n",
    "They are functions that are created to manager the context and runs at the beginning and at the end of some script.\n",
    "\n",
    "* It is necessary to define dunder methods to create the context manager.\n",
    "* It is possible to work with handling errors into Context Manager using the parameters that are considered into the Exit dunder method:\n",
    "  - exc_type -> Type of error\n",
    "  - exc_val -> Value of the error\n",
    "  - exc_tb -> Trace error"
   ]
  },
  {
   "cell_type": "code",
   "execution_count": 35,
   "metadata": {},
   "outputs": [],
   "source": [
    "import sqlite3\n",
    "\n",
    "\n",
    "class DatabaseConnection:\n",
    "    def __init__(self, host: str):\n",
    "        self.connection = None\n",
    "        self.host = host\n",
    "\n",
    "    def __enter__(self) -> sqlite3.Connection:\n",
    "        self.connection = sqlite3.connect(self.host)\n",
    "        return self.connection\n",
    "\n",
    "    def __exit__(self, exc_type, exc_val, exc_tb):\n",
    "        self.connection.commit()\n",
    "        self.connection.close()"
   ]
  },
  {
   "cell_type": "markdown",
   "metadata": {},
   "source": [
    "Executing the context Manager created before:"
   ]
  },
  {
   "cell_type": "code",
   "execution_count": 36,
   "metadata": {},
   "outputs": [
    {
     "name": "stdout",
     "output_type": "stream",
     "text": [
      "[(1, 'FIESTA'), (2, 'PALIO')]\n"
     ]
    }
   ],
   "source": [
    "with DatabaseConnection('data.db') as connection:\n",
    "    cursor = connection.cursor()\n",
    "\n",
    "    cursor.execute(\"select * from cars\")\n",
    "    cars_list = cursor.fetchall()\n",
    "\n",
    "    print(cars_list)"
   ]
  },
  {
   "cell_type": "markdown",
   "metadata": {},
   "source": [
    "### <a href=https://www.linkedin.com/in/jmilhomem/>br.linkedin.com/in/jmilhomem</a> ###"
   ]
  }
 ],
 "metadata": {
  "kernelspec": {
   "display_name": "Python 3",
   "language": "python",
   "name": "python3"
  },
  "language_info": {
   "codemirror_mode": {
    "name": "ipython",
    "version": 3
   },
   "file_extension": ".py",
   "mimetype": "text/x-python",
   "name": "python",
   "nbconvert_exporter": "python",
   "pygments_lexer": "ipython3",
   "version": "3.7.3"
  }
 },
 "nbformat": 4,
 "nbformat_minor": 2
}
