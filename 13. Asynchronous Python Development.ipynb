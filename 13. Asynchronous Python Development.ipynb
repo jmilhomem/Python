{
 "cells": [
  {
   "cell_type": "markdown",
   "metadata": {},
   "source": [
    "\n",
    "The scripts and notes below were developed/written based on exercises or \"totally copied\" from [Teclado Code](https://github.com/tecladocode/complete-python-course/tree/master/course_contents/13_async_development)\n"
   ]
  },
  {
   "cell_type": "markdown",
   "metadata": {},
   "source": [
    "# Asynchronous Python Development\n",
    "\n",
    "- __Synchronous:__ actions that happen one after another. Programming as we've seen it until now is synchronous, because each line executes after the previous one.\n",
    "- __Asynchronous:__ actions that don't necessary happen after one another, or that can happen in arbitrary order (\"without synchrony\").\n",
    "- __Concurrency:__ The ability of our programs to run things in different order every time the program runs, without affecting the final outcome.\n",
    "- __Parallelism:__ Running two or more things at the same time.\n",
    "- __Thread:__ A line of code execution that can run in one of your computer's cores.\n",
    "\n",
    "\n",
    "## Dining Philosopher\n",
    "\n",
    "- __Case:__ 5 philosophers and 2 forks who are hungry. The are able to eat just using 2 forks.  \n",
    "- __Solution:__ If there is a waiter (master, orquestrator), he can get the 2 forks and send them to the philosophers in a limited time for them to eat.\n",
    "It will be possible to feed 2 philopher by time, and the others would need to wait for their turn (__time slicing__).\n",
    "Even decreasing the time, it will never be possible for all of them to eat at the same time.  \n",
    "- __Limited resources__ -> Forks\n",
    "\n",
    "## Processes and threads\n",
    "\n",
    "- __Processor__: Each processor has a number of cores.\n",
    "\n",
    "- __Cores:__ \n",
    "Generally, each unit of core has 4 cores inside it.\n",
    "Each core can work independently and communicate with each other, performing mathematical operations.\n",
    "Cores are \"philosophers\" with resources (forks).\n",
    "\n",
    "- __Threads:__\n",
    "They are line of code execution.\n",
    "Each one can run in one core by a time.\n",
    "Threads are \"philosophers waiting to eat\".\n",
    "\n",
    "- __Processes:__\n",
    "They manage everything (resources, which can be cores + network, hard drive, etc) that is necessary to run one or more threads (which runs things).\n",
    "Time slicing.\n",
    "The OS is responsible to save the current status (checkpoint) of the thread to manage it.\n",
    "\n",
    "- __GIL (Global Interpreter Lock) - Asynchronous Python:__ \n",
    "Lauching a Python app, it will get a new Python process.\n",
    "Python doesn't run 2 threads in one process at same time.\n",
    "Each Python process creates a key resource(GIL) and each thread acquires that resource.\n",
    "\n",
    "- __Multiple Pythons__\n",
    "It is possible to run multiple processes, which means that each one will creates its own GIL, and execute one thread.\n",
    "However it is expensive to communicate between 2 processes.\n",
    "\n",
    "__What's the point of multiple threads in Python?__  \n",
    "\n",
    "Reduce waiting time!\n",
    "\n",
    "Ex: If you need to request a parameter for a user and execute some mathematical processing. The first thing is going to request the waiting time. With GIL and multiple threads the time will be reduced, because it will consume the CPU just for what the computer needs to execute.\n",
    "\n"
   ]
  },
  {
   "cell_type": "code",
   "execution_count": 4,
   "metadata": {},
   "outputs": [
    {
     "name": "stdout",
     "output_type": "stream",
     "text": [
      "Enter your name: Jose\n",
      "Hello, Jose\n",
      "ask_user:  1.4345934391021729\n",
      "Started calculating...\n",
      "complex_calculation:  0.01759815216064453\n",
      "Single thread total time:  1.4548828601837158 \n",
      "\n",
      "\n",
      "Started calculating...\n",
      "complex_calculation:  0.019173622131347656\n",
      "Enter your name: Jose\n",
      "Hello, Jose\n",
      "ask_user:  1.0603420734405518\n",
      "Two thread total time:  1.0833075046539307\n"
     ]
    }
   ],
   "source": [
    "import time\n",
    "from threading import Thread\n",
    "\n",
    "####### USING SINGLE THREAD\n",
    "\n",
    "def ask_user():\n",
    "    start = time.time()\n",
    "    user_input = input('Enter your name: ')\n",
    "    greet = f'Hello, {user_input}'\n",
    "    print(greet)\n",
    "    print('ask_user: ', time.time() - start)\n",
    "\n",
    "def complex_calculation():\n",
    "    print('Started calculating...')\n",
    "    start = time.time()\n",
    "    [x**2 for x in range(20000)]\n",
    "    print('complex_calculation: ', time.time() - start)\n",
    "\n",
    "\n",
    "# With a single thread, we can do one at a time—e.g.\n",
    "start = time.time()\n",
    "ask_user()\n",
    "complex_calculation()\n",
    "print('Single thread total time: ', time.time() - start, '\\n\\n')\n",
    "\n",
    "\n",
    "####### USING TWO THREADS\n",
    "\n",
    "# With two threads, we can do them both at once.\n",
    "thread = Thread(target=complex_calculation)\n",
    "thread2 = Thread(target=ask_user)\n",
    "\n",
    "start = time.time()\n",
    "\n",
    "# Start both threads.\n",
    "thread.start()\n",
    "thread2.start()\n",
    "\n",
    "# Make the main thread (the whole code) wait for the 2 threads to print the final total time\n",
    "# They are blocking operations because their behaviour.\n",
    "thread.join()\n",
    "thread2.join()\n",
    "\n",
    "print('Two thread total time: ', time.time() - start)\n"
   ]
  },
  {
   "cell_type": "markdown",
   "metadata": {},
   "source": [
    "A most elegant way to write the Thread code is using the concurrent.futures method, because it uses a __Context Manager__ as the following example.\n",
    "\n",
    "__Important note:__ It is possible to write commands inside the code to kill the threads between the start and the waiting process (blocking), but it SHOULDN'T be done, because it may create a deadlock, killing the GIL, which will make the code \"wait forever\" for the next step."
   ]
  },
  {
   "cell_type": "code",
   "execution_count": 4,
   "metadata": {},
   "outputs": [
    {
     "name": "stdout",
     "output_type": "stream",
     "text": [
      "Enter your name: Ana\n",
      "Hello, Ana\n",
      "ask_user:  4.666213035583496\n",
      "Started calculating...\n",
      "complex_calculation:  0.01547098159790039\n",
      "Single thread total time:  4.683517932891846 \n",
      "\n",
      "\n",
      "Started calculating...\n",
      "complex_calculation:  0.013892173767089844\n",
      "Enter your name: Ana\n",
      "Hello, Ana\n",
      "ask_user:  1.5530469417572021\n",
      "Two thread total time:  1.5554237365722656\n"
     ]
    }
   ],
   "source": [
    "import time\n",
    "from concurrent.futures import ThreadPoolExecutor\n",
    "\n",
    "####### USING SINGLE THREAD\n",
    "\n",
    "def ask_user():\n",
    "    start = time.time()\n",
    "    user_input = input('Enter your name: ')\n",
    "    greet = f'Hello, {user_input}'\n",
    "    print(greet)\n",
    "    print('ask_user: ', time.time() - start)\n",
    "\n",
    "def complex_calculation():\n",
    "    print('Started calculating...')\n",
    "    start = time.time()\n",
    "    [x**2 for x in range(20000)]\n",
    "    print('complex_calculation: ', time.time() - start)\n",
    "\n",
    "\n",
    "# With a single thread, we can do one at a time—e.g.\n",
    "start = time.time()\n",
    "ask_user()\n",
    "complex_calculation()\n",
    "print('Single thread total time: ', time.time() - start, '\\n\\n')\n",
    "\n",
    "\n",
    "####### USING TWO THREADS\n",
    "# With two threads, we can do them both at once\n",
    "start = time.time()\n",
    "\n",
    "# Create a pool of threads (in this case, 2), then submit to start, forcing the main thread to wait the 2 new ones\n",
    "with ThreadPoolExecutor(max_workers=2) as pool:\n",
    "    pool.submit(complex_calculation)\n",
    "    pool.submit(ask_user)\n",
    "\n",
    "# The pool.shutdown() is implicit into the Context Manager, that is the reason why we don't need to call it\n",
    "\n",
    "print('Two thread total time: ', time.time() - start)"
   ]
  },
  {
   "cell_type": "code",
   "execution_count": null,
   "metadata": {},
   "outputs": [],
   "source": []
  },
  {
   "cell_type": "code",
   "execution_count": null,
   "metadata": {},
   "outputs": [],
   "source": []
  },
  {
   "cell_type": "markdown",
   "metadata": {},
   "source": [
    "### <a href=https://www.linkedin.com/in/jmilhomem/>br.linkedin.com/in/jmilhomem</a> ###"
   ]
  }
 ],
 "metadata": {
  "kernelspec": {
   "display_name": "Python 3",
   "language": "python",
   "name": "python3"
  },
  "language_info": {
   "codemirror_mode": {
    "name": "ipython",
    "version": 3
   },
   "file_extension": ".py",
   "mimetype": "text/x-python",
   "name": "python",
   "nbconvert_exporter": "python",
   "pygments_lexer": "ipython3",
   "version": "3.7.3"
  }
 },
 "nbformat": 4,
 "nbformat_minor": 2
}
