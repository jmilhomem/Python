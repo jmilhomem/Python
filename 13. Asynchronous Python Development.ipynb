{
 "cells": [
  {
   "cell_type": "markdown",
   "metadata": {},
   "source": [
    "\n",
    "The scripts and notes below were developed/written based on exercises or \"totally copied\" from [Teclado Code](https://github.com/tecladocode/complete-python-course/tree/master/course_contents/13_async_development)\n"
   ]
  },
  {
   "cell_type": "markdown",
   "metadata": {},
   "source": [
    "# Asynchronous Python Development\n",
    "\n",
    "- __Synchronous:__ actions that happen one after another. Programming as we've seen it until now is synchronous, because each line executes after the previous one.\n",
    "- __Asynchronous:__ actions that don't necessary happen after one another, or that can happen in arbitrary order (\"without synchrony\").\n",
    "- __Concurrency:__ The ability of our programs to run things in different order every time the program runs, without affecting the final outcome.\n",
    "- __Parallelism:__ Running two or more things at the same time.\n",
    "- __Thread:__ A line of code execution that can run in one of your computer's cores.\n",
    "\n",
    "\n",
    "## Dining Philosopher\n",
    "\n",
    "- __Case:__ 5 philosophers and 2 forks who are hungry. The are able to eat just using 2 forks.  \n",
    "- __Solution:__ If there is a waiter (master, orquestrator), he can get the 2 forks and send them to the philosophers in a limited time for them to eat.\n",
    "It will be possible to feed 2 philopher by time, and the others would need to wait for their turn (__time slicing__).\n",
    "Even decreasing the time, it will never be possible for all of them to eat at the same time.  \n",
    "- __Limited resources__ -> Forks\n",
    "\n",
    "## Processes and threads\n",
    "\n",
    "- __Processor__: Each processor has a number of cores.\n",
    "\n",
    "- __Cores:__ \n",
    "Generally, each unit of core has 4 cores inside it.\n",
    "Each core can work independently and communicate with each other, performing mathematical operations.\n",
    "Cores are \"philosophers\" with resources (forks).\n",
    "\n",
    "- __Threads:__\n",
    "They are line of code execution.\n",
    "Each one can run in one core by a time.\n",
    "Threads are \"philosophers waiting to eat\".\n",
    "\n",
    "- __Processes:__\n",
    "They manage everything (resources, which can be cores + network, hard drive, etc) that is necessary to run one or more threads (which runs things).\n",
    "Time slicing.\n",
    "The OS is responsible to save the current status (checkpoint) of the thread to manage it.\n",
    "\n",
    "- __GIL (Global Interpreter Lock) - Asynchronous Python:__ \n",
    "Lauching a Python app, it will get a new Python process.\n",
    "Python doesn't run 2 threads in one process at same time.\n",
    "Each Python process creates a key resource(GIL) and each thread acquires that resource.\n",
    "\n",
    "- __Multiple Pythons__\n",
    "It is possible to run multiple processes, which means that each one will creates its own GIL, and execute one thread.\n",
    "However it is expensive to communicate between 2 processes.\n",
    "It is normally used when the machine has multicore and it is desired to have complex calculations on both.\n",
    "\n",
    "__What's the point of multiple threads in Python?__  \n",
    "\n",
    "Reduce waiting time!\n",
    "\n",
    "Ex: If you need to request a parameter for a user and execute some mathematical processing. The first thing is going to request the waiting time. With GIL and multiple threads the time will be reduced, because it will consume the CPU just for what the computer needs to execute.\n",
    "\n",
    "__What should I use: Multithreading or multiprocessing?__\n",
    "- __Multithreadings__ is used for process that need to wait (Ex: asking for some argument from user).\n",
    "- __Multiprocessing__ is used when the machine has multicore and it is desired to have complex calculations on both."
   ]
  },
  {
   "cell_type": "markdown",
   "metadata": {},
   "source": [
    "## Using Multithreads"
   ]
  },
  {
   "cell_type": "code",
   "execution_count": 4,
   "metadata": {},
   "outputs": [
    {
     "name": "stdout",
     "output_type": "stream",
     "text": [
      "Enter your name: Jose\n",
      "Hello, Jose\n",
      "ask_user:  1.4345934391021729\n",
      "Started calculating...\n",
      "complex_calculation:  0.01759815216064453\n",
      "Single thread total time:  1.4548828601837158 \n",
      "\n",
      "\n",
      "Started calculating...\n",
      "complex_calculation:  0.019173622131347656\n",
      "Enter your name: Jose\n",
      "Hello, Jose\n",
      "ask_user:  1.0603420734405518\n",
      "Two thread total time:  1.0833075046539307\n"
     ]
    }
   ],
   "source": [
    "import time\n",
    "from threading import Thread\n",
    "\n",
    "####### USING SINGLE THREAD\n",
    "\n",
    "def ask_user():\n",
    "    start = time.time()\n",
    "    user_input = input('Enter your name: ')\n",
    "    greet = f'Hello, {user_input}'\n",
    "    print(greet)\n",
    "    print('ask_user: ', time.time() - start)\n",
    "\n",
    "def complex_calculation():\n",
    "    print('Started calculating...')\n",
    "    start = time.time()\n",
    "    [x**2 for x in range(20000)]\n",
    "    print('complex_calculation: ', time.time() - start)\n",
    "\n",
    "\n",
    "# With a single thread, we can do one at a time—e.g.\n",
    "start = time.time()\n",
    "ask_user()\n",
    "complex_calculation()\n",
    "print('Single thread total time: ', time.time() - start, '\\n\\n')\n",
    "\n",
    "\n",
    "####### USING TWO THREADS\n",
    "\n",
    "# With two threads, we can do them both at once.\n",
    "thread = Thread(target=complex_calculation)\n",
    "thread2 = Thread(target=ask_user)\n",
    "\n",
    "start = time.time()\n",
    "\n",
    "# Start both threads.\n",
    "thread.start()\n",
    "thread2.start()\n",
    "\n",
    "# Make the main thread (the whole code) wait for the 2 threads to print the final total time\n",
    "# They are blocking operations because their behaviour.\n",
    "thread.join()\n",
    "thread2.join()\n",
    "\n",
    "print('Two thread total time: ', time.time() - start)\n"
   ]
  },
  {
   "cell_type": "markdown",
   "metadata": {},
   "source": [
    "A most elegant way to write the Thread code is using the concurrent.futures method, because it uses a __Context Manager__ as the following example.\n",
    "\n",
    "__Important note:__ It is possible to write commands inside the code to kill the threads between the start and the waiting process (blocking), but it SHOULDN'T be done, because it may create a deadlock, killing the GIL, which will make the code \"wait forever\" for the next step."
   ]
  },
  {
   "cell_type": "code",
   "execution_count": 4,
   "metadata": {},
   "outputs": [
    {
     "name": "stdout",
     "output_type": "stream",
     "text": [
      "Enter your name: Ana\n",
      "Hello, Ana\n",
      "ask_user:  4.666213035583496\n",
      "Started calculating...\n",
      "complex_calculation:  0.01547098159790039\n",
      "Single thread total time:  4.683517932891846 \n",
      "\n",
      "\n",
      "Started calculating...\n",
      "complex_calculation:  0.013892173767089844\n",
      "Enter your name: Ana\n",
      "Hello, Ana\n",
      "ask_user:  1.5530469417572021\n",
      "Two thread total time:  1.5554237365722656\n"
     ]
    }
   ],
   "source": [
    "import time\n",
    "from concurrent.futures import ThreadPoolExecutor\n",
    "\n",
    "####### USING SINGLE THREAD\n",
    "\n",
    "def ask_user():\n",
    "    start = time.time()\n",
    "    user_input = input('Enter your name: ')\n",
    "    greet = f'Hello, {user_input}'\n",
    "    print(greet)\n",
    "    print('ask_user: ', time.time() - start)\n",
    "\n",
    "def complex_calculation():\n",
    "    print('Started calculating...')\n",
    "    start = time.time()\n",
    "    [x**2 for x in range(20000)]\n",
    "    print('complex_calculation: ', time.time() - start)\n",
    "\n",
    "\n",
    "# With a single thread, we can do one at a time—e.g.\n",
    "start = time.time()\n",
    "ask_user()\n",
    "complex_calculation()\n",
    "print('Single thread total time: ', time.time() - start, '\\n\\n')\n",
    "\n",
    "\n",
    "####### USING TWO THREADS\n",
    "# With two threads, we can do them both at once\n",
    "start = time.time()\n",
    "\n",
    "# Create a pool of threads (in this case, 2), then submit to start, forcing the main thread to wait the 2 new ones\n",
    "with ThreadPoolExecutor(max_workers=2) as pool:\n",
    "    pool.submit(complex_calculation)\n",
    "    pool.submit(ask_user)\n",
    "\n",
    "# The pool.shutdown() is implicit into the Context Manager, that is the reason why we don't need to call it\n",
    "\n",
    "print('Two thread total time: ', time.time() - start)"
   ]
  },
  {
   "cell_type": "markdown",
   "metadata": {},
   "source": [
    "## Using Multiprocessing"
   ]
  },
  {
   "cell_type": "code",
   "execution_count": 6,
   "metadata": {},
   "outputs": [
    {
     "name": "stdout",
     "output_type": "stream",
     "text": [
      "Enter your name: Ana\n",
      "Hello, Ana\n",
      "ask_user:  1.8233802318572998\n",
      "Started calculating...\n",
      "complex_calculation:  0.013601064682006836\n",
      "Single thread total time:  1.8386273384094238 \n",
      "\n",
      "\n",
      "Started calculating...\n",
      "Started calculating...\n",
      "complex_calculation:  0.015327692031860352\n",
      "complex_calculation:  0.025389432907104492\n",
      "Enter your name: Ana\n",
      "Hello, Ana\n",
      "ask_user:  0.7216448783874512\n",
      "Two process total time:  0.7232041358947754\n"
     ]
    }
   ],
   "source": [
    "import time\n",
    "from multiprocessing import Process\n",
    "\n",
    "####### USING SINGLE THREAD\n",
    "\n",
    "def ask_user():\n",
    "    start = time.time()\n",
    "    user_input = input('Enter your name: ')\n",
    "    greet = f'Hello, {user_input}'\n",
    "    print(greet)\n",
    "    print('ask_user: ', time.time() - start)\n",
    "\n",
    "def complex_calculation():\n",
    "    print('Started calculating...')\n",
    "    start = time.time()\n",
    "    [x**2 for x in range(20000)]\n",
    "    print('complex_calculation: ', time.time() - start)\n",
    "\n",
    "\n",
    "# With a single thread, we can do one at a time—e.g.\n",
    "start = time.time()\n",
    "ask_user()\n",
    "complex_calculation()\n",
    "print('Single thread total time: ', time.time() - start, '\\n\\n')\n",
    "\n",
    "\n",
    "####### USING TWO THREADS\n",
    "\n",
    "process1 = Process(target=complex_calculation)\n",
    "process2 = Process(target=complex_calculation)\n",
    "\n",
    "process1.start()\n",
    "process2.start()\n",
    "\n",
    "start = time.time()\n",
    "\n",
    "ask_user()\n",
    "\n",
    "process1.join()  # this waits for the process to finish\n",
    "process2.join()  # this waits for the process to finish\n",
    "\n",
    "print('Two process total time: ', time.time() - start)"
   ]
  },
  {
   "cell_type": "markdown",
   "metadata": {},
   "source": [
    "A most elegant way to write the Processes code is using the concurrent.futures method, because it uses a __Context Manager__ as the following example.\n"
   ]
  },
  {
   "cell_type": "code",
   "execution_count": 7,
   "metadata": {},
   "outputs": [
    {
     "name": "stdout",
     "output_type": "stream",
     "text": [
      "Enter your name: ANa\n",
      "Hello, ANa\n",
      "ask_user:  1.655616044998169\n",
      "Started calculating...\n",
      "complex_calculation:  0.01416325569152832\n",
      "Single thread total time:  1.6710083484649658 \n",
      "\n",
      "\n",
      "Started calculating...\n",
      "Started calculating...\n",
      "complex_calculation:  0.014949560165405273\n",
      "complex_calculation:  0.02122807502746582\n",
      "Two process total time:  0.08966970443725586\n"
     ]
    }
   ],
   "source": [
    "import time\n",
    "from concurrent.futures import ProcessPoolExecutor\n",
    "\n",
    "####### USING SINGLE THREAD\n",
    "\n",
    "def ask_user():\n",
    "    start = time.time()\n",
    "    user_input = input('Enter your name: ')\n",
    "    greet = f'Hello, {user_input}'\n",
    "    print(greet)\n",
    "    print('ask_user: ', time.time() - start)\n",
    "\n",
    "def complex_calculation():\n",
    "    print('Started calculating...')\n",
    "    start = time.time()\n",
    "    [x**2 for x in range(20000)]\n",
    "    print('complex_calculation: ', time.time() - start)\n",
    "\n",
    "\n",
    "# With a single thread, we can do one at a time—e.g.\n",
    "start = time.time()\n",
    "ask_user()\n",
    "complex_calculation()\n",
    "print('Single thread total time: ', time.time() - start, '\\n\\n')\n",
    "\n",
    "\n",
    "####### USING TWO THREADS\n",
    "\n",
    "start = time.time()\n",
    "\n",
    "with ProcessPoolExecutor(max_workers=2) as pool:\n",
    "    pool.submit(complex_calculation)\n",
    "    pool.submit(complex_calculation)\n",
    "\n",
    "print('Two process total time: ', time.time() - start)"
   ]
  },
  {
   "cell_type": "markdown",
   "metadata": {},
   "source": [
    "__Atomic Operation__:   \n",
    "Cannot be interrupted during a multithead execution.\n",
    "\n",
    "__Fuzzying__:  \n",
    "Input time.sleep(random.random()) among some statements.\n"
   ]
  },
  {
   "cell_type": "markdown",
   "metadata": {},
   "source": [
    "If the idea is to run something sequentially, we shouldn't use multithreads, otherwise it is going to show the results incorrectly"
   ]
  },
  {
   "cell_type": "code",
   "execution_count": 6,
   "metadata": {},
   "outputs": [
    {
     "name": "stdout",
     "output_type": "stream",
     "text": [
      "New counter value: 1\n",
      "-----------\n",
      "New counter value: 2\n",
      "New counter value: 3\n",
      "-----------\n",
      "New counter value: 4\n",
      "-----------\n",
      "New counter value: 5\n",
      "-----------\n",
      "-----------\n",
      "New counter value: 6\n",
      "New counter value: 8\n",
      "New counter value: 8\n",
      "-----------\n",
      "-----------\n",
      "-----------\n",
      "New counter value: 10\n",
      "-----------\n",
      "New counter value: 10\n",
      "-----------\n"
     ]
    }
   ],
   "source": [
    "from threading import Thread\n",
    "import time\n",
    "import random\n",
    "\n",
    "counter = 0\n",
    "\n",
    "def increment_counter():\n",
    "    global counter\n",
    "    time.sleep(random.randint(0, 1))\n",
    "    counter += 1\n",
    "    time.sleep(random.randint(0, 1))\n",
    "    print(f'New counter value: {counter}')\n",
    "    time.sleep(random.randint(0, 1))\n",
    "    print('-----------')\n",
    "\n",
    "\n",
    "\n",
    "for x in range(10):\n",
    "    t = Thread(target=increment_counter)\n",
    "    time.sleep(random.randint(0, 1))\n",
    "    t.start()"
   ]
  },
  {
   "cell_type": "markdown",
   "metadata": {},
   "source": [
    "To use the same resource, but in a sequential process, it can be used queues."
   ]
  },
  {
   "cell_type": "code",
   "execution_count": 8,
   "metadata": {},
   "outputs": [
    {
     "name": "stdout",
     "output_type": "stream",
     "text": [
      "New counter value 1\n",
      "------------\n",
      "New counter value 2\n",
      "------------\n",
      "New counter value 3\n",
      "------------\n",
      "New counter value 4\n",
      "------------\n",
      "New counter value 5\n",
      "------------\n",
      "New counter value 6\n",
      "------------\n",
      "New counter value 7\n",
      "------------\n",
      "New counter value 8\n",
      "------------\n",
      "New counter value 9\n",
      "------------\n",
      "New counter value 10\n",
      "------------\n"
     ]
    }
   ],
   "source": [
    "from threading import Thread\n",
    "import time\n",
    "import random\n",
    "import queue\n",
    "\n",
    "counter = 0\n",
    "job_queue = queue.Queue()\n",
    "counter_queue = queue.Queue()\n",
    "\n",
    "def increment_manager():\n",
    "    \"\"\"Start the queue each execution and in the end finalize de the task for the queue\"\"\"\n",
    "    global counter\n",
    "    while True:\n",
    "        increment = counter_queue.get()  # this waits until an item is available and locks the queue\n",
    "        time.sleep(random.random())\n",
    "        old_counter = counter\n",
    "        time.sleep(random.random())\n",
    "        counter = old_counter + increment\n",
    "        time.sleep(random.random())\n",
    "        job_queue.put((f'New counter value {counter}', '------------'))\n",
    "        time.sleep(random.random())\n",
    "        counter_queue.task_done()  # this unlocks the queue\n",
    "\n",
    "\n",
    "# printer_manager and increment_manager run continuously because of the `daemon` flag.\n",
    "Thread(target=increment_manager, daemon=True).start()\n",
    "\n",
    "\n",
    "def printer_manager():\n",
    "    while True:\n",
    "        for line in job_queue.get():\n",
    "            time.sleep(random.random())\n",
    "            print(line)\n",
    "        job_queue.task_done()\n",
    "\n",
    "# printer_manager and increment_manager run continuously because of the `daemon` flag.\n",
    "Thread(target=printer_manager, daemon=True).start()\n",
    "\n",
    "\n",
    "def increment_counter():\n",
    "    counter_queue.put(1) \n",
    "    time.sleep(random.random())\n",
    "\n",
    "\n",
    "worker_threads = [Thread(target=increment_counter) for thread in range(10)]\n",
    "\n",
    "for thread in worker_threads:\n",
    "    time.sleep(random.random())\n",
    "    thread.start()\n",
    "\n",
    "for thread in worker_threads:\n",
    "    thread.join()  # wait for it to finish\n",
    "\n",
    "counter_queue.join()  # wait for counter_queue to be empty\n",
    "job_queue.join()  # wait for job_queue to be empty"
   ]
  },
  {
   "cell_type": "markdown",
   "metadata": {},
   "source": [
    "Using generators instead threads.  \n",
    "It is cheaper to use yield instead queues to execute multithreads."
   ]
  },
  {
   "cell_type": "code",
   "execution_count": 9,
   "metadata": {},
   "outputs": [
    {
     "name": "stdout",
     "output_type": "stream",
     "text": [
      "10\n",
      "5\n",
      "20\n",
      "9\n",
      "4\n",
      "19\n",
      "8\n",
      "3\n",
      "18\n",
      "7\n",
      "2\n",
      "17\n",
      "6\n",
      "1\n",
      "16\n",
      "5\n",
      "Task finished\n",
      "15\n",
      "4\n",
      "14\n",
      "3\n",
      "13\n",
      "2\n",
      "12\n",
      "1\n",
      "11\n",
      "Task finished\n",
      "10\n",
      "9\n",
      "8\n",
      "7\n",
      "6\n",
      "5\n",
      "4\n",
      "3\n",
      "2\n",
      "1\n",
      "Task finished\n"
     ]
    }
   ],
   "source": [
    "def countdown(n):\n",
    "    while n > 0:\n",
    "        yield n\n",
    "        n -= 1\n",
    "\n",
    "\n",
    "tasks = [countdown(10), countdown(5), countdown(20)]\n",
    "\n",
    "while tasks:\n",
    "    task = tasks[0]\n",
    "    tasks.remove(task)\n",
    "    try:\n",
    "        x = next(task)\n",
    "        print(x)\n",
    "        tasks.append(task)\n",
    "    except StopIteration:\n",
    "        print('Task finished')\n"
   ]
  },
  {
   "cell_type": "markdown",
   "metadata": {},
   "source": [
    "Yielding from another iterator:"
   ]
  },
  {
   "cell_type": "code",
   "execution_count": 2,
   "metadata": {},
   "outputs": [
    {
     "name": "stdout",
     "output_type": "stream",
     "text": [
      "HELLO Rolf\n",
      "HELLO Jose\n"
     ]
    }
   ],
   "source": [
    "from collections import deque\n",
    "\n",
    "friends = deque(('Rolf', 'Jose', 'Charlie', 'Jen', 'Anna'))\n",
    "\n",
    "\n",
    "def get_friend():\n",
    "    yield from friends\n",
    "\n",
    "\n",
    "def greet(g):\n",
    "    while True:\n",
    "        try:\n",
    "            friend = next(g)\n",
    "            yield f'HELLO {friend}'\n",
    "        except StopIteration:\n",
    "            pass\n",
    "\n",
    "\n",
    "friends_generator = get_friend()\n",
    "g = greet(friends_generator)\n",
    "print(next(g))\n",
    "print(next(g))"
   ]
  },
  {
   "cell_type": "markdown",
   "metadata": {},
   "source": [
    "Receiving data from through yield"
   ]
  },
  {
   "cell_type": "code",
   "execution_count": 3,
   "metadata": {},
   "outputs": [
    {
     "name": "stdout",
     "output_type": "stream",
     "text": [
      "Hello ROLF\n",
      "Hello, world! Multitasking...\n",
      "How are you, JOSE\n"
     ]
    }
   ],
   "source": [
    "from collections import deque\n",
    "\n",
    "friends = deque(('Rolf', 'Jose', 'Charlie', 'Jen', 'Anna'))\n",
    "\n",
    "\n",
    "# As it takes(receives) data and can be suspended, it is called CO-ROUTINE\n",
    "def friend_upper():\n",
    "    while friends:\n",
    "        friend = friends.popleft().upper()\n",
    "        greeting = yield\n",
    "        print(f'{greeting} {friend}')\n",
    "\n",
    "        \n",
    "def greet(g):\n",
    "    g.send(None)\n",
    "    while True:\n",
    "        greeting = yield\n",
    "        g.send(greeting)\n",
    "        \n",
    "#def greet(g):      -- It does the same thing that the code above does\n",
    "#    yield from g\n",
    "\n",
    "\n",
    "greeter = greet(friend_upper())\n",
    "greeter.send(None)\n",
    "greeter.send('Hello')\n",
    "print('Hello, world! Multitasking...')\n",
    "greeter.send('How are you,')"
   ]
  },
  {
   "cell_type": "markdown",
   "metadata": {},
   "source": [
    "The same code can be written with the async function + __@coroutine__ decorator:  \n",
    "It is importante to keep in mind that __await__ command is going to continue until fetch all generator"
   ]
  },
  {
   "cell_type": "code",
   "execution_count": null,
   "metadata": {},
   "outputs": [],
   "source": [
    "from collections import deque\n",
    "from types import coroutine\n",
    "\n",
    "friends = deque(('Rolf', 'Jose', 'Charlie', 'Jen', 'Anna'))\n",
    "\n",
    "\n",
    "@coroutine\n",
    "def friend_upper():\n",
    "    while friends:\n",
    "        friend = friends.popleft().upper()\n",
    "        greeting = yield\n",
    "        print(f'{greeting} {friend}')\n",
    "\n",
    "\n",
    "async def greet(g):\n",
    "    print('Starting...')\n",
    "    await g\n",
    "    print('Ending...')\n",
    "\n",
    "\n",
    "greeter = greet(friend_upper())\n",
    "greeter.send(None)\n",
    "greeter.send('Hello')"
   ]
  },
  {
   "cell_type": "markdown",
   "metadata": {},
   "source": [
    "More about asynchronous Python:  \n",
    "- https://www.youtube.com/watch?v=MCs5OvhV9S4  \n",
    "- https://www.youtube.com/watch?v=ZzfHjytDceU  \n",
    "- https://www.youtube.com/watch?v=9zinZmE3Ogk  \n",
    "- https://www.youtube.com/watch?v=Obt-vMVdM8s  \n",
    "\n"
   ]
  },
  {
   "cell_type": "code",
   "execution_count": null,
   "metadata": {},
   "outputs": [],
   "source": []
  },
  {
   "cell_type": "code",
   "execution_count": null,
   "metadata": {},
   "outputs": [],
   "source": []
  },
  {
   "cell_type": "markdown",
   "metadata": {},
   "source": [
    "### <a href=https://www.linkedin.com/in/jmilhomem/>br.linkedin.com/in/jmilhomem</a> ###"
   ]
  }
 ],
 "metadata": {
  "kernelspec": {
   "display_name": "Python 3",
   "language": "python",
   "name": "python3"
  },
  "language_info": {
   "codemirror_mode": {
    "name": "ipython",
    "version": 3
   },
   "file_extension": ".py",
   "mimetype": "text/x-python",
   "name": "python",
   "nbconvert_exporter": "python",
   "pygments_lexer": "ipython3",
   "version": "3.7.3"
  }
 },
 "nbformat": 4,
 "nbformat_minor": 2
}
