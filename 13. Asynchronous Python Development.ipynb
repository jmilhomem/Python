{
 "cells": [
  {
   "cell_type": "markdown",
   "metadata": {},
   "source": [
    "\n",
    "The scripts and notes below were developed/written based on exercises or \"totally copied\" from [Teclado Code](https://github.com/tecladocode/complete-python-course/tree/master/course_contents/13_async_development)\n"
   ]
  },
  {
   "cell_type": "markdown",
   "metadata": {},
   "source": [
    "# Asynchronous Python Development\n",
    "\n",
    "- __Synchronous:__ actions that happen one after another. Programming as we've seen it until now is synchronous, because each line executes after the previous one.\n",
    "- __Asynchronous:__ actions that don't necessary happen after one another, or that can happen in arbitrary order (\"without synchrony\").\n",
    "- __Concurrency:__ The ability of our programs to run things in different order every time the program runs, without affecting the final outcome.\n",
    "- __Parallelism:__ Running two or more things at the same time.\n",
    "- __Thread:__ A line of code execution that can run in one of your computer's cores.\n",
    "\n",
    "\n",
    "## Dining Philosopher\n",
    "\n",
    "- __Case:__ 5 philosophers and 2 forks who are hungry. The are able to eat just using 2 forks.  \n",
    "- __Solution:__ If there is a waiter (master, orquestrator), he can get the 2 forks and send them to the philosophers in a limited time for them to eat.\n",
    "It will be possible to feed 2 philopher by time, and the others would need to wait for their turn (__time slicing__).\n",
    "Even decreasing the time, it will never be possible for all of them to eat at the same time.  \n",
    "- __Limited resources__ -> Forks\n",
    "\n",
    "## Processes and threads\n",
    "\n",
    "- __Processor__: Each processor has a number of cores.\n",
    "\n",
    "- __Cores:__ \n",
    "Generally, each unit of core has 4 cores inside it.\n",
    "Each core can work independently and communicate with each other, performing mathematical operations.\n",
    "Cores are \"philosophers\" with resources (forks).\n",
    "\n",
    "- __Threads:__\n",
    "They are line of code execution.\n",
    "Each one can run in one core by a time.\n",
    "Threads are \"philosophers waiting to eat\".\n",
    "\n",
    "- __Processes:__\n",
    "They manage everything (resources, which can be cores + network, hard drive, etc) that is necessary to run one or more threads (which runs things).\n",
    "Time slicing.\n",
    "The OS is responsible to save the current status (checkpoint) of the thread to manage it.\n",
    "\n",
    "- __GIL (Global Interpreter Lock) - Asynchronous Python:__ \n",
    "Lauching a Python app, it will get a new Python process.\n",
    "Python doesn't run 2 threads in one process at same time.\n",
    "Each Python process creates a key resource(GIL) and each thread acquires that resource.\n"
   ]
  },
  {
   "cell_type": "code",
   "execution_count": null,
   "metadata": {},
   "outputs": [],
   "source": []
  },
  {
   "cell_type": "code",
   "execution_count": null,
   "metadata": {},
   "outputs": [],
   "source": []
  },
  {
   "cell_type": "code",
   "execution_count": null,
   "metadata": {},
   "outputs": [],
   "source": []
  },
  {
   "cell_type": "code",
   "execution_count": null,
   "metadata": {},
   "outputs": [],
   "source": []
  },
  {
   "cell_type": "markdown",
   "metadata": {},
   "source": [
    "### <a href=https://www.linkedin.com/in/jmilhomem/>br.linkedin.com/in/jmilhomem</a> ###"
   ]
  }
 ],
 "metadata": {
  "kernelspec": {
   "display_name": "Python 3",
   "language": "python",
   "name": "python3"
  },
  "language_info": {
   "codemirror_mode": {
    "name": "ipython",
    "version": 3
   },
   "file_extension": ".py",
   "mimetype": "text/x-python",
   "name": "python",
   "nbconvert_exporter": "python",
   "pygments_lexer": "ipython3",
   "version": "3.7.3"
  }
 },
 "nbformat": 4,
 "nbformat_minor": 2
}
