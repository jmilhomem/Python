{
 "cells": [
  {
   "cell_type": "markdown",
   "metadata": {},
   "source": [
    "\n",
    "Some scripts below were developed based on exercises of [Teclado Code](http://blog.tecladocode.com/)\n"
   ]
  },
  {
   "cell_type": "markdown",
   "metadata": {},
   "source": [
    "## Practicing some special (dunder) methods"
   ]
  },
  {
   "cell_type": "markdown",
   "metadata": {},
   "source": [
    "When we use the dunder methods, we can use built-in methods directly with the objects as \"they weren't objects\"."
   ]
  },
  {
   "cell_type": "code",
   "execution_count": 113,
   "metadata": {},
   "outputs": [],
   "source": [
    "#define the class with two methods that are special\n",
    "class Garage:\n",
    "    def __init__(self):\n",
    "        self.cars = []\n",
    "\n",
    "    #return the len of cars created by the object created\n",
    "    def __len__(self):\n",
    "        return len(self.cars)\n",
    "    \n",
    "    #return the item of some position\n",
    "    def __getitem__(self, item_position):\n",
    "        return self.cars[item_position]\n",
    "    \n",
    "    #Function that returns the string result. It is used to debug programs\n",
    "    #It is used to print results\n",
    "    def __repr__(self):\n",
    "        return f\"<Garate {self.cars}>\"\n",
    "\n",
    "    #Function that returns the string result, considering the len built-in function \n",
    "    #and an attribute of the own object\n",
    "    #It is used to print results\n",
    "    def __str__(self):\n",
    "        return f\"Garage with {len(self)} cars.\""
   ]
  },
  {
   "cell_type": "markdown",
   "metadata": {},
   "source": [
    "Testing the results:"
   ]
  },
  {
   "cell_type": "code",
   "execution_count": 114,
   "metadata": {},
   "outputs": [
    {
     "name": "stdout",
     "output_type": "stream",
     "text": [
      "Lenght of object's items created is:  2\n",
      "\n",
      "Position 0 of object Ford is:  Fiesta\n",
      "\n",
      "Interate cars created for ford object: \n",
      "Fiesta\n",
      "Foccus\n",
      "\n",
      "Result of the print:  Garage with 2 cars.\n"
     ]
    }
   ],
   "source": [
    "# create objects and append new data for the same object created\n",
    "ford = Garage()\n",
    "ford.cars.append(\"Fiesta\")\n",
    "ford.cars.append(\"Foccus\")\n",
    "\n",
    "# print the result of the object created using the len function using the special method \n",
    "print(\"Lenght of object's items created is: \",len(ford))\n",
    "\n",
    "# print the result of the object created using the len function using the special method \n",
    "print(\"\\nPosition 0 of object Ford is: \", ford[0])\n",
    "\n",
    "#interate the cars inside the created object ford\n",
    "print(\"\\nInterate cars created for ford object: \")\n",
    "for car in ford:\n",
    "    print(car)\n",
    "    \n",
    "#print results of cars using the dunder method defined\n",
    "print(\"\\nResult of the print: \", ford)"
   ]
  },
  {
   "cell_type": "markdown",
   "metadata": {},
   "source": [
    "## Practicing inheritance"
   ]
  },
  {
   "cell_type": "markdown",
   "metadata": {},
   "source": [
    "Define a master class called Students:"
   ]
  },
  {
   "cell_type": "code",
   "execution_count": 115,
   "metadata": {},
   "outputs": [],
   "source": [
    "#Define a master class called Students\n",
    "class Student:\n",
    "    def __init__(self, name, school):\n",
    "        self.name = name\n",
    "        self.school = school\n",
    "        self.mark = []\n",
    "        \n",
    "    #method to calculate the average of marks\n",
    "    def average_marks(self):\n",
    "        return sum(self.mark) / len(self.mark)"
   ]
  },
  {
   "cell_type": "markdown",
   "metadata": {},
   "source": [
    "Define a Student's child class called \"WorkingStudents\""
   ]
  },
  {
   "cell_type": "code",
   "execution_count": 116,
   "metadata": {},
   "outputs": [],
   "source": [
    "#Define a Student's child class called \"WorkingStudents\"\n",
    "class WorkingStudent(Student):\n",
    "    \n",
    "    \"\"\"\n",
    "    The init must consider all parameters and send to the parent class the parameter of \n",
    "    its using super().__init__\n",
    "    \"\"\"\n",
    "    def __init__(self, name, school, salary):\n",
    "        super().__init__(name, school)\n",
    "        self.salary = salary\n",
    "\n",
    "    #Method to calculate the weekly salary, considering the salary parameter\n",
    "    def weekly_salary(self):\n",
    "        return self.salary * 37.5"
   ]
  },
  {
   "cell_type": "markdown",
   "metadata": {},
   "source": [
    "Defining an object using and calling the classes:"
   ]
  },
  {
   "cell_type": "code",
   "execution_count": 117,
   "metadata": {},
   "outputs": [
    {
     "name": "stdout",
     "output_type": "stream",
     "text": [
      "Salary for the object Carol is 10\n",
      "\n",
      "Average marks for the object Carol is 89.5\n",
      "\n",
      "Weekly salary for the object Carol is 375.0\n"
     ]
    }
   ],
   "source": [
    "#Creating an object based on the the child class WorkingStudent\n",
    "carol = WorkingStudent(\"Carol\", \"FIAP\", 10)\n",
    "print(f\"Salary for the object {carol.name} is {carol.salary}\")\n",
    "\n",
    "#Adding marks for the object created\n",
    "carol.mark.append(80)\n",
    "carol.mark.append(99)\n",
    "\n",
    "#Printing the average os marks\n",
    "print(f\"\\nAverage marks for the object {carol.name} is {carol.average_marks()}\")\n",
    "\n",
    "#Printing the weekly salary\n",
    "print(f\"\\nWeekly salary for the object {carol.name} is {carol.weekly_salary()}\")\n"
   ]
  },
  {
   "cell_type": "markdown",
   "metadata": {},
   "source": [
    "### Decorator @property\n",
    "Define a Student's child class called \"WorkingStudents\" using an Decorator called \"@property\""
   ]
  },
  {
   "cell_type": "code",
   "execution_count": 118,
   "metadata": {},
   "outputs": [],
   "source": [
    "#Define a Student's child class called \"WorkingStudents\"\n",
    "class WorkingStudent(Student):\n",
    "    \n",
    "    \"\"\"\n",
    "    The init must consider all parameters and send to the parent class the parameter of \n",
    "    its using super().__init__\n",
    "    \"\"\"\n",
    "    def __init__(self, name, school, salary):\n",
    "        super().__init__(name, school)\n",
    "        self.salary = salary\n",
    "\n",
    "    \"\"\"\n",
    "    Define an decorator to allow us to use the weekly_salary similar as a property(attribute)\n",
    "    not as a method were we need to pass a parameter\n",
    "    It must be used just when we are defining some attribute of the object and we don't\n",
    "    need any parameter defined, just the self.\n",
    "    \"\"\"\n",
    "    @property\n",
    "    #Method to calculate the weekly salary, considering the salary parameter\n",
    "    def weekly_salary(self):\n",
    "        return self.salary * 37.5"
   ]
  },
  {
   "cell_type": "markdown",
   "metadata": {},
   "source": [
    "Using the classes with the decorator created"
   ]
  },
  {
   "cell_type": "code",
   "execution_count": 119,
   "metadata": {},
   "outputs": [
    {
     "name": "stdout",
     "output_type": "stream",
     "text": [
      "Salary for the object Carol is 10\n",
      "\n",
      "Average marks for the object Carol is 89.5\n",
      "\n",
      "Weekly salary for the object Carol is 375.0\n"
     ]
    }
   ],
   "source": [
    "#Creating an object based on the the child class WorkingStudent\n",
    "carol = WorkingStudent(\"Carol\", \"FIAP\", 10)\n",
    "print(f\"Salary for the object {carol.name} is {carol.salary}\")\n",
    "\n",
    "#Adding marks for the object created\n",
    "carol.mark.append(80)\n",
    "carol.mark.append(99)\n",
    "\n",
    "#Printing the average os marks\n",
    "print(f\"\\nAverage marks for the object {carol.name} is {carol.average_marks()}\")\n",
    "\n",
    "#Printing the weekly salary\n",
    "print(f\"\\nWeekly salary for the object {carol.name} is {carol.weekly_salary}\")\n"
   ]
  },
  {
   "cell_type": "markdown",
   "metadata": {},
   "source": [
    "## Working with 2 decorators: @classmethod and @staticmethod"
   ]
  },
  {
   "cell_type": "markdown",
   "metadata": {},
   "source": [
    "<b>@staticmethod:</b>\n",
    "<br>\n",
    "Creates an object directly passing the parameters that are necessary. It doesn't receive a parameter regarding the object itself. Because of this, it doesn't need to be done in steps like:\n",
    "1. Create the object \n",
    "2. pass the parameters\n",
    "\n",
    "Case of study as an example:\n",
    "1. First, the class just has the method defined, receiving the self argument, which is used for the object, to calculate and define the amount attribute of the object.\n",
    "2. Finally, as the self argument is not necessary, the decorator @staticmethod is included, because it doesn't consider the object argument(instance definition) itself. It just receive the parameters that will be used to calculate something inside the method."
   ]
  },
  {
   "cell_type": "code",
   "execution_count": 120,
   "metadata": {},
   "outputs": [
    {
     "name": "stdout",
     "output_type": "stream",
     "text": [
      "-------------------------------------------------------------\n",
      "                   Not Working with the decorators           \n",
      "-------------------------------------------------------------\n",
      "<FixedFloat 20.36>\n"
     ]
    }
   ],
   "source": [
    "#Create a class to receive an parameter that define the attribute ammount\n",
    "class FixedFloat:\n",
    "    def __init__(self, amount):\n",
    "        self.amount = amount\n",
    "        \n",
    "    #Method to print the attribute defined for the object\n",
    "    def __repr__(self):\n",
    "        return f\"<FixedFloat {self.amount:.2f}>\"\n",
    "    \n",
    "    # Method that receive 2 parameters and redefine the amount attribute\n",
    "    def from_sum(self, value1, value2):\n",
    "        return FixedFloat(value1 + value2)\n",
    "\n",
    "    \n",
    "#Create an object and define the attribute based on the function\n",
    "print(\"-------------------------------------------------------------\")\n",
    "print(\"                   Not Working with the decorators           \")\n",
    "print(\"-------------------------------------------------------------\")\n",
    "number = FixedFloat(18.5746)\n",
    "new_number = number.from_sum(19.575, 0.789)\n",
    "print(new_number)"
   ]
  },
  {
   "cell_type": "code",
   "execution_count": 121,
   "metadata": {},
   "outputs": [
    {
     "name": "stdout",
     "output_type": "stream",
     "text": [
      "-------------------------------------------------------------\n",
      "          Working with the decorator: @staticmethod          \n",
      "-------------------------------------------------------------\n",
      "<FixedFloat 20.36>\n"
     ]
    }
   ],
   "source": [
    "#Create a class to receive an parameter that define the attribute ammount\n",
    "class FixedFloat:\n",
    "    def __init__(self, amount):\n",
    "        self.amount = amount\n",
    "        \n",
    "    #Method to print the attribute defined for the object\n",
    "    def __repr__(self):\n",
    "        return f\"<FixedFloat {self.amount:.2f}>\"\n",
    "    \n",
    "    # Define an decorator called @staticmethod that doesn't work with an argument of \n",
    "    # the object itself. It just use the parameters to do something\n",
    "    @staticmethod\n",
    "    def from_sum(value1, value2):\n",
    "        return FixedFloat(value1 + value2)\n",
    "\n",
    "    \n",
    "#Create an object directly passing the parameters that are necessary.\n",
    "#It doesn't need to be done in steps: Create the object and then, pass the parameters\n",
    "print(\"-------------------------------------------------------------\")\n",
    "print(\"          Working with the decorator: @staticmethod          \")\n",
    "print(\"-------------------------------------------------------------\")\n",
    "number = FixedFloat.from_sum(19.575, 0.789)\n",
    "print(new_number)"
   ]
  },
  {
   "cell_type": "markdown",
   "metadata": {},
   "source": [
    "<b>@classmethod:</b>\n",
    "<br>\n",
    "It receives an class as a parameter (not the object) and uses it inside some method.\n",
    "In this case, if the @classmethod is being used on the parent class, the child class can use the same method of the parent class.\n",
    "<br>\n",
    "Case of study as an example:\n",
    "1. First, the parent class continue having the @staticmethod used on the method from_sum. It will ignore the symbol defined inside the child class.\n",
    "2. Finally, the parent class will be updated to consider the @classmethod to receive the parameter of the class(not the object) to do the calculation, and use the symbol defined on the child class to print the result."
   ]
  },
  {
   "cell_type": "code",
   "execution_count": 122,
   "metadata": {},
   "outputs": [
    {
     "name": "stdout",
     "output_type": "stream",
     "text": [
      "-------------------------------------------------------------\n",
      "          Working with the decorator: @staticmethod          \n",
      "-------------------------------------------------------------\n",
      "<FixedFloat 26.76>\n"
     ]
    }
   ],
   "source": [
    "#Create a class to receive an parameter that define the attribute ammount\n",
    "class FixedFloat:\n",
    "    def __init__(self, amount):\n",
    "        self.amount = amount\n",
    "        \n",
    "    #Method to print the attribute defined for the object\n",
    "    def __repr__(self):\n",
    "        return f\"<FixedFloat {self.amount:.2f}>\"\n",
    "    \n",
    "    # Define an decorator called @staticmethod that doesn't work with an argument of \n",
    "    # the object itself. It just use the parameters to do something on the master class\n",
    "    @staticmethod\n",
    "    def from_sum(value1, value2):\n",
    "        return FixedFloat(value1 + value2)\n",
    "    \n",
    "    \n",
    "#child class that uses the symbol\n",
    "class Euro(FixedFloat):\n",
    "    def __init__(self, amount):\n",
    "        super().__init__(amount)\n",
    "        self.symbol = 'R$'\n",
    "\n",
    "    def __repr__(self):\n",
    "        return f\"<Reais {self.symbol}{self.amount:.2f}>\"\n",
    "\n",
    "    \n",
    "#Creating the object, calling the child class (it doesn't use the symbol)\n",
    "print(\"-------------------------------------------------------------\")\n",
    "print(\"          Working with the decorator: @staticmethod          \")\n",
    "print(\"-------------------------------------------------------------\")\n",
    "money = Euro.from_sum(16.758, 9.999)\n",
    "print(money)"
   ]
  },
  {
   "cell_type": "code",
   "execution_count": 123,
   "metadata": {},
   "outputs": [
    {
     "name": "stdout",
     "output_type": "stream",
     "text": [
      "-------------------------------------------------------------\n",
      "          Working with the decorator: @classmethod          \n",
      "-------------------------------------------------------------\n",
      "<Reais R$26.76>\n"
     ]
    }
   ],
   "source": [
    "#Create a class to receive an parameter that define the attribute ammount\n",
    "class FixedFloat:\n",
    "    def __init__(self, amount):\n",
    "        self.amount = amount\n",
    "        \n",
    "    #Method to print the attribute defined for the object\n",
    "    def __repr__(self):\n",
    "        return f\"<FixedFloat {self.amount:.2f}>\"\n",
    "    \n",
    "    # Define an decorator called @classmethod that receive the class as an argument \n",
    "    # It will do the calculation considering the class\n",
    "    @classmethod\n",
    "    def from_sum(cls, value1, value2):\n",
    "        return cls(value1 + value2)\n",
    "    \n",
    "    \n",
    "#child class that uses the symbol\n",
    "class Euro(FixedFloat):\n",
    "    def __init__(self, amount):\n",
    "        super().__init__(amount)\n",
    "        self.symbol = 'R$'\n",
    "\n",
    "    def __repr__(self):\n",
    "        return f\"<Reais {self.symbol}{self.amount:.2f}>\"\n",
    "\n",
    "    \n",
    "#Creating the object, calling the child class (it doesn't use the symbol)\n",
    "print(\"-------------------------------------------------------------\")\n",
    "print(\"          Working with the decorator: @classmethod          \")\n",
    "print(\"-------------------------------------------------------------\")\n",
    "money = Euro.from_sum(16.758, 9.999)\n",
    "print(money)"
   ]
  },
  {
   "cell_type": "markdown",
   "metadata": {},
   "source": [
    "### <a href=https://www.linkedin.com/in/jmilhomem/>br.linkedin.com/in/jmilhomem</a> ###"
   ]
  }
 ],
 "metadata": {
  "kernelspec": {
   "display_name": "Python 3",
   "language": "python",
   "name": "python3"
  },
  "language_info": {
   "codemirror_mode": {
    "name": "ipython",
    "version": 3
   },
   "file_extension": ".py",
   "mimetype": "text/x-python",
   "name": "python",
   "nbconvert_exporter": "python",
   "pygments_lexer": "ipython3",
   "version": "3.7.0"
  }
 },
 "nbformat": 4,
 "nbformat_minor": 2
}
